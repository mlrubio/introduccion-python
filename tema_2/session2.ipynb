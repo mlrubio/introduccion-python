{
 "cells": [
  {
   "cell_type": "markdown",
   "metadata": {},
   "source": [
    "\n",
    "# Session 2\n",
    "<p>In this session we will start learning the basic blocks of programming. The first block will be conditionals... These modules have been developed at the University of Toronto <i>(Jennifer Campbell and Michelle Craig)</i> and the university of Delft <i>(Mark Bakker)</i>. They have beed adapted to the needs of students at the University of Granada</p>\n"
   ]
  },
  {
   "cell_type": "markdown",
   "metadata": {},
   "source": [
    "---\n",
    "## Section 1: Truth and falsehood in python\n",
    "<p>In this section we will learn how to indicate that something is true of false in python.</p>\n"
   ]
  },
  {
   "cell_type": "markdown",
   "metadata": {},
   "source": [
    "\n",
    "<h3 id=\"Type-bool\">Type <code>bool</code><a class=\"anchor-link\" href=\"#Type-bool\">¶</a></h3>\n"
   ]
  },
  {
   "cell_type": "markdown",
   "metadata": {},
   "source": [
    "\n",
    "<p>Python has a type <code>bool</code> for Boolean values.  Unlike types <code>int</code>, <code>float</code>, and <code>str</code>, which have thousands of values, type <code>bool</code> has only two values: <code>True</code> and <code>False</code>.</p>\n",
    "<p>Here are some examples of expressions that produce Booleans:</p>\n"
   ]
  },
  {
   "cell_type": "code",
   "execution_count": null,
   "metadata": {
    "collapsed": true
   },
   "outputs": [],
   "source": [
    "4 == 5.6"
   ]
  },
  {
   "cell_type": "code",
   "execution_count": null,
   "metadata": {
    "collapsed": true
   },
   "outputs": [],
   "source": [
    "5 == 5"
   ]
  },
  {
   "cell_type": "code",
   "execution_count": null,
   "metadata": {
    "collapsed": true
   },
   "outputs": [],
   "source": [
    "6.7 > 2"
   ]
  },
  {
   "cell_type": "code",
   "execution_count": null,
   "metadata": {
    "collapsed": true
   },
   "outputs": [],
   "source": [
    "4.5 <= 9.3"
   ]
  },
  {
   "cell_type": "code",
   "execution_count": null,
   "metadata": {
    "collapsed": true
   },
   "outputs": [],
   "source": [
    "27.4 != 27.5"
   ]
  },
  {
   "cell_type": "markdown",
   "metadata": {},
   "source": [
    "\n",
    "<p>In the code above, we used several of Python's relational operators.  Here is a summary:</p>\n",
    "<p>Equal to:                 <code>==</code></p>\n",
    "<p>Not equal to:             <code>!=</code></p>\n",
    "<p>Greater than:             <code>&gt;</code></p>\n",
    "<p>Greater than or equal to: <code>&gt;=</code></p>\n",
    "<p>Less than:                <code>&lt;</code></p>\n",
    "<p>Less than or equal to:    <code>&lt;=</code></p>\n"
   ]
  },
  {
   "cell_type": "markdown",
   "metadata": {},
   "source": [
    "\n",
    "<h3 id=\"Boolean-operators\">Boolean operators<a class=\"anchor-link\" href=\"#Boolean-operators\">¶</a></h3>\n"
   ]
  },
  {
   "cell_type": "markdown",
   "metadata": {},
   "source": [
    "\n",
    "<p>There are three Boolean operators (the operands to these operators are type <code>bool</code>): <code>not</code>, <code>and</code>, and <code>or</code>.</p>\n"
   ]
  },
  {
   "cell_type": "code",
   "execution_count": null,
   "metadata": {
    "collapsed": true
   },
   "outputs": [],
   "source": [
    "not True"
   ]
  },
  {
   "cell_type": "code",
   "execution_count": null,
   "metadata": {
    "collapsed": true
   },
   "outputs": [],
   "source": [
    "not False"
   ]
  },
  {
   "cell_type": "markdown",
   "metadata": {},
   "source": [
    "\n",
    "<p>Operator <code>and</code> evaluates to <code>True</code> if and only if both operands are <code>True</code>.</p>\n"
   ]
  },
  {
   "cell_type": "code",
   "execution_count": null,
   "metadata": {
    "collapsed": true
   },
   "outputs": [],
   "source": [
    "True and True"
   ]
  },
  {
   "cell_type": "code",
   "execution_count": null,
   "metadata": {
    "collapsed": true
   },
   "outputs": [],
   "source": [
    "True and False"
   ]
  },
  {
   "cell_type": "code",
   "execution_count": null,
   "metadata": {
    "collapsed": true
   },
   "outputs": [],
   "source": [
    "False and True"
   ]
  },
  {
   "cell_type": "code",
   "execution_count": null,
   "metadata": {
    "collapsed": true
   },
   "outputs": [],
   "source": [
    "False and False"
   ]
  },
  {
   "cell_type": "markdown",
   "metadata": {},
   "source": [
    "\n",
    "<p>Operator <code>or</code> evaluates to <code>True</code> if and only if at least one operator is <code>True</code>.</p>\n"
   ]
  },
  {
   "cell_type": "code",
   "execution_count": null,
   "metadata": {
    "collapsed": true
   },
   "outputs": [],
   "source": [
    "True or True"
   ]
  },
  {
   "cell_type": "code",
   "execution_count": null,
   "metadata": {
    "collapsed": true
   },
   "outputs": [],
   "source": [
    "True or False"
   ]
  },
  {
   "cell_type": "code",
   "execution_count": null,
   "metadata": {
    "collapsed": true
   },
   "outputs": [],
   "source": [
    "False or True"
   ]
  },
  {
   "cell_type": "code",
   "execution_count": null,
   "metadata": {
    "collapsed": true
   },
   "outputs": [],
   "source": [
    "False or False"
   ]
  },
  {
   "cell_type": "markdown",
   "metadata": {},
   "source": [
    "\n",
    "<p>Note: the Boolean operator <code>or</code> isn't quite the same as the English \"or\".</p>\n",
    "<p>In English, \"For dessert, I'll have pie or I'll have ice cream\", means that I'll only have one dessert.</p>\n",
    "<p>In Python, it means that I'll have <em>at least</em> one dessert.</p>\n"
   ]
  },
  {
   "cell_type": "markdown",
   "metadata": {},
   "source": [
    "\n",
    "<h3 id=\"Operator-precedence\">Operator precedence<a class=\"anchor-link\" href=\"#Operator-precedence\">¶</a></h3>\n"
   ]
  },
  {
   "cell_type": "markdown",
   "metadata": {},
   "source": [
    "\n",
    "<p>Consider this code fragment:</p>\n"
   ]
  },
  {
   "cell_type": "code",
   "execution_count": null,
   "metadata": {
    "collapsed": true
   },
   "outputs": [],
   "source": [
    "grade1 = 80\n",
    "grade2 = 90\n",
    "not grade1 >= 50 or grade2 >= 50"
   ]
  },
  {
   "cell_type": "markdown",
   "metadata": {},
   "source": [
    "\n",
    "<p>What value does the expession produce: <code>True</code> or <code>False</code>?</p>\n"
   ]
  },
  {
   "cell_type": "markdown",
   "metadata": {},
   "source": [
    "\n",
    "<p>The order of precedence for Boolean operators is <code>not</code>, <code>and</code>, and <code>or</code>.</p>\n"
   ]
  },
  {
   "cell_type": "markdown",
   "metadata": {},
   "source": [
    "\n",
    "<p>To make the order clear, we can add parentheses:</p>\n"
   ]
  },
  {
   "cell_type": "code",
   "execution_count": null,
   "metadata": {
    "collapsed": true
   },
   "outputs": [],
   "source": [
    "(not grade1 >= 50) or (grade2 >= 50)"
   ]
  },
  {
   "cell_type": "markdown",
   "metadata": {},
   "source": [
    "\n",
    "<p>We can also use parentheses to change the order of operations:</p>\n"
   ]
  },
  {
   "cell_type": "code",
   "execution_count": null,
   "metadata": {
    "collapsed": true
   },
   "outputs": [],
   "source": [
    "not ((grade1 >= 50) or (grade2 >= 50))"
   ]
  },
  {
   "cell_type": "markdown",
   "metadata": {},
   "source": [
    "\n",
    "<h3 id=\"Practice-exercise:-English-description\">Practice exercise: English description<a class=\"anchor-link\" href=\"#Practice-exercise:-English-description\">¶</a></h3>\n"
   ]
  },
  {
   "cell_type": "markdown",
   "metadata": {},
   "source": [
    "\n",
    "<p>Write an English description of the situation in which the following code produces <code>True</code>:</p>\n",
    "<p><code>not grade1 &gt;= 50 or grade2 &gt;= 50</code>.</p>\n"
   ]
  },
  {
   "cell_type": "raw",
   "metadata": {},
   "source": [
    "\n",
    "\n"
   ]
  },
  {
   "cell_type": "markdown",
   "metadata": {},
   "source": [
    "\n",
    "<h3 id=\"Practice-Exercise:-Exclusive-or\">Practice Exercise: Exclusive or<a class=\"anchor-link\" href=\"#Practice-Exercise:-Exclusive-or\">¶</a></h3><p>How do you express the English \"I'll have pie or I'll have ice cream, but not both\"? Define two Boolean variables:</p>\n"
   ]
  },
  {
   "cell_type": "code",
   "execution_count": null,
   "metadata": {
    "collapsed": true
   },
   "outputs": [],
   "source": [
    "pie = False\n",
    "ice_cream = True"
   ]
  },
  {
   "cell_type": "markdown",
   "metadata": {},
   "source": [
    "\n",
    "<p>Write a Python expression that evaluates to <code>True</code> if and only if exactly one of <code>pie</code> and <code>ice_cream</code> refers to <code>True</code>.</p>\n"
   ]
  },
  {
   "cell_type": "raw",
   "metadata": {},
   "source": [
    "\n",
    "\n"
   ]
  },
  {
   "cell_type": "markdown",
   "metadata": {},
   "source": [
    "---\n",
    "## Section 2: Conditionals\n",
    "<p>How we express conditions in python?</p>"
   ]
  },
  {
   "cell_type": "markdown",
   "metadata": {},
   "source": [
    "\n",
    "<h3 id=\"if-statements\"><code>if</code> statements<a class=\"anchor-link\" href=\"#if-statements\">¶</a></h3>\n"
   ]
  },
  {
   "cell_type": "markdown",
   "metadata": {},
   "source": [
    "\n",
    "<p>If statements are used to control the conditions under which instructions are executed.</p>\n",
    "<p>The general form of an <code>if</code> statement is:</p>\n",
    "<pre><code>**if** *&lt;&lt;expression1&gt;&gt;*:    \n",
    "    body1\n",
    "[**elif** *&lt;&lt;expression2&gt;&gt;*:      0 or more clauses\n",
    "    body2]\n",
    "[**else**:                      0 or 1 clause\n",
    "    bodyN]</code></pre>\n",
    "\n",
    "<p><strong>What it does</strong></p>\n",
    "<pre><code>    If &lt;&lt;expression1&gt;&gt; is True then body1 is executed.\n",
    "    If it is false it jumps to &lt;&lt;expression2&gt;&gt;. It this one is True then body2 is executed.\n",
    "    If not it jumps to &lt;&lt;expression3&gt;&gt;...\n",
    "    If no expression is True then the body under `else` is executed.\n",
    "</code></pre>\n",
    "\n",
    "<p>We will study some examples. If you don't know the answer you can try the code in a cell: Let's be `a=5` and `b=3`.</p> \n",
    "\n",
    "What does the following code prints?\n",
    "<pre><code>if a&gt;b:    \n",
    "    print('Hi!')\n",
    "</code></pre>\n",
    "\n",
    "What does the following code prints?\n",
    "<pre><code>if b&gt;a:    \n",
    "    print('Hi!')\n",
    "</code></pre>\n",
    "\n",
    "<p>What does the following code prints?</p>\n",
    "<pre><code>if b&gt;a:    \n",
    "    print('Hi!')\n",
    "else:                      \n",
    "    print('Bye!')\n",
    "</code></pre>\n",
    "\n",
    "<p>What does the following code prints?</p>\n",
    "<pre><code>if b&gt;a:    \n",
    "    print('Hi!')\n",
    "elif b&gt;a/2:\n",
    "    print('Hello!')\n",
    "else:                      \n",
    "    print('Bye!')\n",
    "</code></pre>\n",
    "\n",
    "<p>What does the following code prints?</p>\n",
    "<pre><code>if b&gt;a:    \n",
    "    print('Hi!')\n",
    "elif b&gt;2*a:\n",
    "    print('Hello!')\n",
    "else:                      \n",
    "    print('Bye!')\n",
    "</code></pre>"
   ]
  },
  {
   "cell_type": "markdown",
   "metadata": {},
   "source": [
    "\n",
    "### A complex example\n",
    "<p>Let's consider this problem:</p>\n",
    "<p>Define a function <code>weather_report</code> that has one parameter representing the temperature in degrees Celsius (a <code>float</code>) and returns a string, one of:  <code>'Below freezing'</code>, <code>'Above freezing'</code>, or <code>'At freezing'</code>.</p>\n"
   ]
  },
  {
   "cell_type": "markdown",
   "metadata": {},
   "source": [
    "\n",
    "<p>Following the Function Design Recipe, we begin with Step 1, writing example calls on our function:</p>\n",
    "<pre><code>&gt;&gt;&gt; weather_report(10)\n",
    "'Above freezing'\n",
    "&gt;&gt;&gt; weather_report(-30)\n",
    "'Below freezing'\n",
    "&gt;&gt;&gt; weather_report(0)\n",
    "'At freezing'</code></pre>\n"
   ]
  },
  {
   "cell_type": "markdown",
   "metadata": {},
   "source": [
    "\n",
    "<p>Step 2 is the type contract:</p>\n",
    "<pre><code>(number) -&gt; str</code></pre>\n"
   ]
  },
  {
   "cell_type": "markdown",
   "metadata": {},
   "source": [
    "\n",
    "<p>Now in Step 3, we add the function header:</p>\n"
   ]
  },
  {
   "cell_type": "code",
   "execution_count": null,
   "metadata": {
    "collapsed": true
   },
   "outputs": [],
   "source": [
    "def weather_report(temp):\n",
    "    \"\"\" (number) -> str\n",
    "    >>> weather_report(10)\n",
    "    'Above freezing'\n",
    "    >>> weather_report(-30)\n",
    "    'Below freezing'\n",
    "    >>> weather_report(0)\n",
    "    'At freezing'\n",
    "    \"\"\""
   ]
  },
  {
   "cell_type": "markdown",
   "metadata": {},
   "source": [
    "\n",
    "<p>In Step 4, we write an English description:</p>\n"
   ]
  },
  {
   "cell_type": "code",
   "execution_count": null,
   "metadata": {
    "collapsed": true
   },
   "outputs": [],
   "source": [
    "def weather_report(temp):\n",
    "    \"\"\" (number) -> str\n",
    "    \n",
    "    Return one of three strings, 'Above freezing', 'Below breezing', or 'At freezing', depending on\n",
    "    whether temp is below 0, above 0, or equal to 0.\n",
    "    \n",
    "    >>> weather_report(10)\n",
    "    'Above freezing'\n",
    "    >>> weather_report(-30)\n",
    "    'Below freezing'\n",
    "    >>> weather_report(0)\n",
    "    'At freezing'\n",
    "    \"\"\""
   ]
  },
  {
   "cell_type": "markdown",
   "metadata": {},
   "source": [
    "\n",
    "<p>In Step 5, we write the body of the function, using <code>if</code> statments for the first time:</p>\n"
   ]
  },
  {
   "cell_type": "code",
   "execution_count": null,
   "metadata": {
    "collapsed": true
   },
   "outputs": [],
   "source": [
    "def weather_report(temp):\n",
    "    \"\"\" (number) -> str\n",
    "    \n",
    "    Return one of three strings, 'Above freezing', 'Below breezing', or 'At freezing', depending on\n",
    "    whether temp is below 0, above 0, or equal to 0.\n",
    "    \n",
    "    >>> weather_report(10)\n",
    "    'Above freezing'\n",
    "    >>> weather_report(-30)\n",
    "    'Below freezing'\n",
    "    >>> weather_report(0)\n",
    "    'At freezing'\n",
    "    \"\"\"\n",
    "    \n",
    "    if temp > 0:\n",
    "        return 'Above freezing'\n",
    "    elif temp < 0:\n",
    "        return 'Below freezing'\n",
    "    else:\n",
    "        return 'At freezing'"
   ]
  },
  {
   "cell_type": "markdown",
   "metadata": {},
   "source": [
    "\n",
    "<p>And then we can call on the function to test it for Step 6:</p>\n"
   ]
  },
  {
   "cell_type": "code",
   "execution_count": null,
   "metadata": {
    "collapsed": true
   },
   "outputs": [],
   "source": [
    "weather_report(10)"
   ]
  },
  {
   "cell_type": "code",
   "execution_count": null,
   "metadata": {
    "collapsed": true
   },
   "outputs": [],
   "source": [
    "weather_report(-30)"
   ]
  },
  {
   "cell_type": "code",
   "execution_count": null,
   "metadata": {
    "collapsed": true
   },
   "outputs": [],
   "source": [
    "weather_report(0)"
   ]
  },
  {
   "cell_type": "markdown",
   "metadata": {},
   "source": [
    "\n",
    "<h3 id=\"Using-the-Python-Visualizer-to-trace-code.\">Using the Python Visualizer to trace code.<a class=\"anchor-link\" href=\"#Using-the-Python-Visualizer-to-trace-code.\">¶</a></h3><p>Let's use the <a href=\"http://pythontutor.com/visualize.html#code=def%20weather_report(temp%29%3A%0A%20%20%20%20if%20temp%20%3E%200%3A%0A%20%20%20%20%20%20%20%20return%20'Above%20freezing'%0A%20%20%20%20elif%20temp%20%3C%200%3A%0A%20%20%20%20%20%20%20%20return%20'Below%20freezing'%0A%20%20%20%20else%3A%0A%20%20%20%20%20%20%20%20return%20'At%20freezing'%0A%20%20%20%20%20%20%20%20%0A%0Aprint(weather_report(10%29%29%0Aprint(weather_report(-30%29%29%0Aprint(weather_report(0%29%29&amp;cumulative=false&amp;curInstr=0&amp;heapPrimitives=true&amp;mode=display&amp;origin=opt-frontend.js&amp;py=3&amp;rawInputLstJSON=%5B%5D&amp;textReferences=true\">Python Visualizer</a> to take a closer look how the <code>if</code> statement in function <code>weather_report</code> is executed.</p>\n"
   ]
  },
  {
   "cell_type": "markdown",
   "metadata": {},
   "source": [
    "\n",
    "<h3 id=\"Practice-Exercise:-my-absolute-value-function\">Practice Exercise: my absolute value function<a class=\"anchor-link\" href=\"#Practice-Exercise:-my-absolute-value-function\">¶</a></h3>\n",
    "<p>Once you've finished write the anser in the cell below (and check that it works :-)</p>\n",
    "<p>We've used Python's built-in function <code>abs</code>.  Now, define your own version of that function, <code>my_abs</code>, to calculate the absolute value of a number.  Steps 1-4 of the Function Design Recipe have been completed.  Completed the function body and test the function:</p>\n"
   ]
  },
  {
   "cell_type": "code",
   "execution_count": null,
   "metadata": {
    "collapsed": true
   },
   "outputs": [],
   "source": [
    "def my_abs(num):\n",
    "    \"\"\" (number) -> number\n",
    "    \n",
    "    Return the absolute value of num.\n",
    "    \n",
    "    >>> my_abs(14.66)\n",
    "    14.66\n",
    "    >>> my_abs(-2.4)\n",
    "    2.4\n",
    "    \"\"\""
   ]
  },
  {
   "cell_type": "markdown",
   "metadata": {},
   "source": [
    "\n",
    "<h3 id=\"Practice-Exercise:-fever-classification\">Practice Exercise: fever classification<a class=\"anchor-link\" href=\"#Practice-Exercise:-fever-classification\">¶</a></h3>\n",
    "<p>Once you've finished write the anser in the cell below (and check that it works :-)</p>\n"
   ]
  },
  {
   "cell_type": "code",
   "execution_count": null,
   "metadata": {
    "collapsed": true
   },
   "outputs": [],
   "source": [
    "def check_fever(temp, hour_of_day):\n",
    "    \"\"\" (number, int) -> str\n",
    "    \n",
    "    Return 'fever' if the temperature temp in degrees Celsius recorded at hour_of_day\n",
    "    using the 24 hour clock meets Harrison's definition of a fever, and 'no fever' otherwise.\n",
    "    \n",
    "    >>> check_fever(37.5, 9)\n",
    "    'fever'\n",
    "    >>> check_fever(37.5, 14)\n",
    "    'no fever'\n",
    "    \"\"\""
   ]
  },
  {
   "cell_type": "markdown",
   "metadata": {},
   "source": [
    "\n",
    "<h3 id=\"Nested-if-statements\">Nested <code>if</code> statements<a class=\"anchor-link\" href=\"#Nested-if-statements\">¶</a></h3><p>We also nest one <code>if</code> statement inside the body of another.</p>\n",
    "<p>For example, let's consider this code that reports information about grades:</p>\n"
   ]
  },
  {
   "cell_type": "code",
   "execution_count": null,
   "metadata": {
    "collapsed": true
   },
   "outputs": [],
   "source": [
    "grade = 85\n",
    "\n",
    "if grade >= 50:\n",
    "    print('Pass')\n",
    "else:\n",
    "    print('Fail')"
   ]
  },
  {
   "cell_type": "markdown",
   "metadata": {},
   "source": [
    "\n",
    "<p>Now, let's modify the program to an additional message if and only if the grade is an A:</p>\n"
   ]
  },
  {
   "cell_type": "code",
   "execution_count": null,
   "metadata": {},
   "outputs": [],
   "source": [
    "grade = 85\n",
    "\n",
    "if grade >= 50:\n",
    "    print('Pass')\n",
    "    if grade >= 80:\n",
    "        print('You earned an A!')\n",
    "else:\n",
    "    print('Fail')"
   ]
  },
  {
   "cell_type": "markdown",
   "metadata": {},
   "source": [
    "\n",
    "<p>Change the value of temperature above to see how the code reacts.</p>\n"
   ]
  },
  {
   "cell_type": "markdown",
   "metadata": {},
   "source": [
    "\n",
    "<h3 id=\"Example-program:-Guessing-Game\">Example program: Guessing Game<a class=\"anchor-link\" href=\"#Example-program:-Guessing-Game\">¶</a></h3><p>Let's write a program that allows the user to guess a random number.</p>\n"
   ]
  },
  {
   "cell_type": "code",
   "execution_count": null,
   "metadata": {
    "collapsed": true
   },
   "outputs": [],
   "source": [
    "secret = 4  # We can edit this to be different numbers.\n",
    "guess = int(input('Enter a number between 1 and 10: '))\n",
    "if guess == secret:\n",
    "    print('You got it')\n",
    "else:\n",
    "    print('Better luck next time.')"
   ]
  },
  {
   "cell_type": "markdown",
   "metadata": {},
   "source": [
    "\n",
    "<h3 id=\"Practice-Exercise:-Improved-Guessing-Game\">Practice Exercise: Improved Guessing Game<a class=\"anchor-link\" href=\"#Practice-Exercise:-Improved-Guessing-Game\">¶</a></h3>\n",
    "<p>Once you've finished write the anser in the cell below (and check that it works :-)</p>\n",
    "<ol>\n",
    "<li><p>Write an improved version of the program above that will print either <code>Too high</code> or <code>Too low</code> depending on the guess, <em>instead of</em> <code>Better luck next time</code>.</p>\n",
    "</li>\n",
    "<li><p>Write an improved version of the program above that will print either <code>Too high</code> or <code>Too low</code> depending on the guess, <em>in addition to</em> <code>Better luck next time</code>.</p>\n",
    "</li>\n",
    "</ol>\n"
   ]
  },
  {
   "cell_type": "code",
   "execution_count": null,
   "metadata": {
    "collapsed": true
   },
   "outputs": [],
   "source": [
    "#Exercise 1"
   ]
  },
  {
   "cell_type": "code",
   "execution_count": null,
   "metadata": {
    "collapsed": true
   },
   "outputs": [],
   "source": [
    "#Exercise 2"
   ]
  },
  {
   "cell_type": "markdown",
   "metadata": {},
   "source": [
    "\n",
    "<h3 id=\"Practice-Exercise:-More-complex-if-Statements\">Practice Exercise: More complex <code>if</code> Statements<a class=\"anchor-link\" href=\"#Practice-Exercise:-More-complex-if-Statements\">¶</a></h3><p>According to Wikipedia, borderline QTc for men is 431ms-450ms and for women it is 451ms-470ms. Set the variable <code>sex</code> to <code>'male'</code> or <code>'female'</code>), and write a program that uses the variables <code>HR</code> (heartrate), <code>QT</code> (uncorrected QT interval), and <code>sex</code>(<code>'male'</code> or <code>'female'</code>) to print one of the strings <code>'normal QTc'</code>, <code>'borderline QTc'</code>, or \n",
    "<code>'abnormal QTc'</code>.  Here is some starter code:</p>\n"
   ]
  },
  {
   "cell_type": "code",
   "execution_count": null,
   "metadata": {
    "collapsed": true
   },
   "outputs": [],
   "source": [
    "hr = 80\n",
    "qt = 300\n",
    "sex = \"male\"\n",
    "rr = 60 / hr\n",
    "\n",
    "# Compute the corrected QT interval (QTc)\n",
    "qtc = qt / (rr ** (1 / 3))   \n",
    "\n",
    "# Add code to print the appropriate message about the pateint's QTc."
   ]
  },
  {
   "cell_type": "markdown",
   "metadata": {},
   "source": [
    "\n",
    "<h3 id=\"Practice-Exercise:-An-interactive-system-for-telling-the-user-if-their-QTc-is-abnormal\">Practice Exercise: An interactive system for telling the user if their QTc is abnormal<a class=\"anchor-link\" href=\"#Practice-Exercise:-An-interactive-system-for-telling-the-user-if-their-QTc-is-abnormal\">¶</a></h3><p>Write a program that asks the user for their sex, QT interval, and heartrate, and outputs whether their QTc is normal/borderline/abnormal.</p>\n"
   ]
  },
  {
   "cell_type": "code",
   "execution_count": null,
   "metadata": {
    "collapsed": true
   },
   "outputs": [],
   "source": [
    "# Rather than \"hard code\" the values assigned to hr, qt, and sex, prompt the user\n",
    "# to enter values:\n",
    "hr = # TODO: add code here\n",
    "qt = # TODO: add code here\n",
    "sex = # TODO: add code here\n",
    "rr = 60 / hr\n",
    "\n",
    "qtc = qt / (rr ** (1 / 3))   #Compute the corrected QT interval\n",
    "\n",
    "# TODO: Add your if statement code from the previous practice exercise here."
   ]
  },
  {
   "cell_type": "markdown",
   "metadata": {},
   "source": [
    "\n",
    "<h3 id=\"No-if-required\">No <code>if</code> required<a class=\"anchor-link\" href=\"#No-if-required\">¶</a></h3><p>Now that you have learned how to write an <code>if</code> statement, it may be tempting to use it whenever possible.  However, there are times when <code>if</code> statments aren't needed and the code is clearer and more concise with it.</p>\n",
    "<p>Let's consider this problem:  define a function <code>is_pass</code> that returns <code>True</code> if and only the given grade is at least 50.</p>\n",
    "<p>Here is the first attempt at defining the function:</p>\n"
   ]
  },
  {
   "cell_type": "code",
   "execution_count": null,
   "metadata": {
    "collapsed": true
   },
   "outputs": [],
   "source": [
    "def is_pass(grade):\n",
    "    \"\"\" (number) -> bool\n",
    "    \n",
    "    Return True if and only if grade is at least 50.\n",
    "    \n",
    "    >>> is_pass(90)\n",
    "    True\n",
    "    >>> is_pass(15)\n",
    "    False    \n",
    "    \"\"\"\n",
    "    \n",
    "    if grade >= 50:\n",
    "        return True\n",
    "    else:\n",
    "        return False"
   ]
  },
  {
   "cell_type": "markdown",
   "metadata": {},
   "source": [
    "\n",
    "<p>We can rewrite the function body above to use a simple Boolean expression, rather than an <code>if</code> statement:</p>\n"
   ]
  },
  {
   "cell_type": "code",
   "execution_count": null,
   "metadata": {
    "collapsed": true
   },
   "outputs": [],
   "source": [
    "def is_pass(grade):\n",
    "    \"\"\" (number) -> bool\n",
    "    \n",
    "    Return True if and only if grade is at least 50.\n",
    "    \n",
    "    >>> is_pass(90)\n",
    "    True\n",
    "    >>> is_pass(15)\n",
    "    False    \n",
    "    \"\"\"\n",
    "    \n",
    "    return grade >= 50"
   ]
  },
  {
   "cell_type": "markdown",
   "metadata": {},
   "source": [
    "\n",
    "<h3 id=\"Practice-Exercise:-rewrite-without-if\">Practice Exercise: rewrite without <code>if</code><a class=\"anchor-link\" href=\"#Practice-Exercise:-rewrite-without-if\">¶</a></h3><p>Rewrite the body of the following function, without using <code>if</code> statements:</p>\n"
   ]
  },
  {
   "cell_type": "code",
   "execution_count": null,
   "metadata": {
    "collapsed": true
   },
   "outputs": [],
   "source": [
    "def is_teenager(age):\n",
    "    \"\"\" (int) -> bool\n",
    "    \n",
    "    Return True iff age represents a teenager between 13 and 18 inclusive.\n",
    "    \n",
    "    >>> is_teenager(4)\n",
    "    False\n",
    "    >>> is_teenager(16)\n",
    "    True\n",
    "    >>> is_teenager(19)\n",
    "    False\n",
    "    \"\"\"\n",
    "    if age < 13:\n",
    "        return False\n",
    "    else:\n",
    "        if age > 18:\n",
    "            return False\n",
    "        else:\n",
    "            return True"
   ]
  },
  {
   "cell_type": "markdown",
   "metadata": {},
   "source": [
    "---\n",
    "## Section 3: Nesting and reusing  functions\n",
    "<p>Being efficient with code.</p>\n"
   ]
  },
  {
   "cell_type": "markdown",
   "metadata": {},
   "source": [
    "\n",
    "<h3 id=\"Function-Reuse-and-Nested-Function-Calls\">Function Reuse and Nested Function Calls<a class=\"anchor-link\" href=\"#Function-Reuse-and-Nested-Function-Calls\">¶</a></h3>\n"
   ]
  },
  {
   "cell_type": "markdown",
   "metadata": {},
   "source": [
    "\n",
    "<p>Once we've defined a function, we can call on it again and again.  In fact, we can call on one function from the body of another function.  We can also pass one function call as an argument to another.</p>\n"
   ]
  },
  {
   "cell_type": "markdown",
   "metadata": {},
   "source": [
    "\n",
    "<p>Let's consider this problem.  Given a patient's temperature in Fahrenheit and the hour of day when the temperature was taken, return whether the patient has a fever according to Harrison's internal medicine textbook.</p>\n",
    "<p>Does this sound familiar?  Recall our previously defined function:</p>\n"
   ]
  },
  {
   "cell_type": "code",
   "execution_count": null,
   "metadata": {
    "collapsed": true
   },
   "outputs": [],
   "source": [
    "def check_fever(temp, hour_of_day):\n",
    "    \"\"\" (number, int) -> str\n",
    "    \n",
    "    Return 'fever' if the temperature temp in degrees Celsius recorded at hour_of_day\n",
    "    using the 24 hour clock) meets Harrison's definition of a fever, and 'no fever' otherwise.\n",
    "    \n",
    "    >>> check_fever(37.5, 9)\n",
    "    'fever'\n",
    "    >>> check_fever(37.5, 14)\n",
    "    'no fever'\n",
    "    \"\"\"\n",
    "    if 0 <= hour_of_day <= 11 and temp > 37.2:\n",
    "        return 'fever'\n",
    "    elif 12 <= hour_of_day <=23 and temp > 37.7:\n",
    "        return 'fever'\n",
    "    else:\n",
    "        return 'no fever'"
   ]
  },
  {
   "cell_type": "markdown",
   "metadata": {},
   "source": [
    "\n",
    "<p>That code works, but in this situation we have a temperature measured in Fahrenheit, not Celsius.  Fortunately, we know how to convert between the two and we've already defined a function:</p>\n"
   ]
  },
  {
   "cell_type": "code",
   "execution_count": null,
   "metadata": {
    "collapsed": true
   },
   "outputs": [],
   "source": [
    "def fahrenheit_to_celsius(temp):\n",
    "    \"\"\" (number) -> float\n",
    "    \n",
    "    Return the temperature temp converted from degrees Fahrenheit to Celsius.\n",
    "    \n",
    "    >>> fahrenheit_to_celsius(32)\n",
    "    0.0\n",
    "    \"\"\"\n",
    "    \n",
    "    return (temp - 32) * 5 / 9"
   ]
  },
  {
   "cell_type": "markdown",
   "metadata": {},
   "source": [
    "\n",
    "<p>Now, let's get back to solving the original problem.  Much of the work has already been done, so we should take advantage of that.</p>\n",
    "<p>We will define a new function <code>check_fever_fahrenheit</code> that works the same as <code>check_fever</code>, but the argument to it will be a temperature in degrees Fahrenheit, not Celsius.  In the body of the function, we will call on <code>check_fever</code> and <code>fahrenheit_to_celsius</code>, rather than defining the function from scratch.</p>\n"
   ]
  },
  {
   "cell_type": "code",
   "execution_count": null,
   "metadata": {
    "collapsed": true
   },
   "outputs": [],
   "source": [
    "def check_fever_fahrenheit(temp, hour_of_day):\n",
    "    \"\"\" (number, int) -> str\n",
    "    \n",
    "    Return 'fever' if the temperature temp in degrees Fahrenheit recorded at hour_of_day\n",
    "    using the 24 hour clock) meets Harrison's definition of a fever, and 'no fever' otherwise.\n",
    "    \n",
    "    >>> check_fever_fahrenheit(99.5, 9)\n",
    "    'fever'\n",
    "    >>> check_fever_fahrenheit(99.5, 14)\n",
    "    'no fever'\n",
    "    \"\"\"\n",
    "    celsius = fahrenheit_to_celsius(temp)\n",
    "    return check_fever(celsius, hour_of_day)"
   ]
  },
  {
   "cell_type": "code",
   "execution_count": null,
   "metadata": {
    "collapsed": true
   },
   "outputs": [],
   "source": [
    "check_fever_fahrenheit(99.5, 9)"
   ]
  },
  {
   "cell_type": "code",
   "execution_count": null,
   "metadata": {
    "collapsed": true
   },
   "outputs": [],
   "source": [
    "check_fever_fahrenheit(99.5, 14)"
   ]
  },
  {
   "cell_type": "markdown",
   "metadata": {},
   "source": [
    "\n",
    "<p>We could also simplify the body of <code>check_fever_fahrenheit</code> even more, by combining the two statments:</p>\n",
    "<pre><code>return check_fever(fahrenheit_to_celsius(temp), hour_of_day)</code></pre>\n"
   ]
  },
  {
   "cell_type": "markdown",
   "metadata": {},
   "source": [
    "\n",
    "<h3 id=\"Tracing-function-calls-with-the-Python-Visualizer\">Tracing function calls with the Python Visualizer<a class=\"anchor-link\" href=\"#Tracing-function-calls-with-the-Python-Visualizer\">¶</a></h3>\n"
   ]
  },
  {
   "cell_type": "markdown",
   "metadata": {},
   "source": [
    "\n",
    "<p>To see how function calls are executed, we will trace <a href=\"http://www.pythontutor.com/visualize.html#code=def%20check_fever(temp,%20hour_of_day%29%3A%0A%20%20%20%20if%200%20%3C%3D%20hour_of_day%20%3C%3D%2011%20and%20temp%20%3E%2037.2%3A%0A%20%20%20%20%20%20%20%20return%20'fever'%0A%20%20%20%20elif%2012%20%3C%3D%20hour_of_day%20%3C%3D23%20and%20temp%20%3E%2037.7%3A%0A%20%20%20%20%20%20%20%20return%20'fever'%0A%20%20%20%20else%3A%0A%20%20%20%20%20%20%20%20return%20'no%20fever'%0A%20%20%20%20%20%20%20%20%0A%20%20%20%20%20%20%20%20%0Adef%20fahrenheit_to_celsius(temp%29%3A%0A%20%20%20%20return%20(temp%20-%2032%29%20*%205%20/%209%0A%20%20%20%20%0A%20%20%20%20%0Adef%20check_fever_fahrenheit(temp,%20hour_of_day%29%3A%0A%20%20%20%20return%20check_fever(fahrenheit_to_celsius(temp%29,%20hour_of_day%29%0A%20%20%20%20%0A%20%20%20%20%0Aprint(check_fever_fahrenheit(99.5,%209%29%29%0Aprint(check_fever_fahrenheit(99.5,%2014%29%29%0A&amp;cumulative=false&amp;curInstr=0&amp;heapPrimitives=true&amp;mode=display&amp;origin=opt-frontend.js&amp;py=3&amp;rawInputLstJSON=%5B%5D&amp;textReferences=false\">this code</a> using the Python Visualizer.  Please note that the docstrings have been omitted due to space constraints.</p>\n"
   ]
  },
  {
   "cell_type": "markdown",
   "metadata": {},
   "source": [
    "---\n",
    "## Section 4: Docstrings, help, dir...\n",
    "<p>Very useful stuff in pythonian daily life.</p>"
   ]
  },
  {
   "cell_type": "markdown",
   "metadata": {},
   "source": [
    "\n",
    "<h3 id=\"Docstrings,-help,-and-dir\">Docstrings, <code>help</code>, and <code>dir</code><a class=\"anchor-link\" href=\"#Docstrings,-help,-and-dir\">¶</a></h3>\n"
   ]
  },
  {
   "cell_type": "markdown",
   "metadata": {},
   "source": [
    "\n",
    "<p>As part of the Function Design Recipe, we've been writing descriptions of our functions and placing them below the function header inside triple-quoted strings.  These descriptions are called <em>docstrings</em>, which stands for documentation strings.</p>\n",
    "<p>The docstrings are useful to others reading our saved programs and using our code, and these descriptions can be accessed using Python's built-in function <code>help</code>.</p>\n",
    "<p>Recall our function <code>square</code>, from earlier:</p>\n"
   ]
  },
  {
   "cell_type": "code",
   "execution_count": null,
   "metadata": {
    "collapsed": true
   },
   "outputs": [],
   "source": [
    "def square(num):\n",
    "    \"\"\"(number) -> number\n",
    "    \n",
    "    Return num squared.\n",
    "    \n",
    "    >>> square(5)\n",
    "    25\n",
    "    >>> square(-6)\n",
    "    36\n",
    "    \"\"\"\n",
    "    return num * num"
   ]
  },
  {
   "cell_type": "markdown",
   "metadata": {},
   "source": [
    "\n",
    "<p>In the Python shell, we can called <code>help(square)</code> to get the docstring description:</p>\n"
   ]
  },
  {
   "cell_type": "code",
   "execution_count": null,
   "metadata": {
    "collapsed": true
   },
   "outputs": [],
   "source": [
    "help(square)"
   ]
  },
  {
   "cell_type": "markdown",
   "metadata": {},
   "source": [
    "\n",
    "<p>We can use <code>help</code> and another built-in function named <code>dir</code> to find out more about Python's built-in functions too. Calling <code>dir(__builtins__)</code> produces output that includes a list of Python's built-in functions (for now, focus only on the names that are entirely lowercase):</p>\n"
   ]
  },
  {
   "cell_type": "code",
   "execution_count": null,
   "metadata": {
    "collapsed": true
   },
   "outputs": [],
   "source": [
    "dir(__builtins__)"
   ]
  },
  {
   "cell_type": "markdown",
   "metadata": {},
   "source": [
    "\n",
    "<p>Once we've found a function using <code>dir</code>, we can find out more about it by calling <code>help</code>:</p>\n"
   ]
  },
  {
   "cell_type": "code",
   "execution_count": null,
   "metadata": {
    "collapsed": true
   },
   "outputs": [],
   "source": [
    "help(abs)"
   ]
  },
  {
   "cell_type": "code",
   "execution_count": null,
   "metadata": {
    "collapsed": true
   },
   "outputs": [],
   "source": [
    "help(round)"
   ]
  },
  {
   "cell_type": "markdown",
   "metadata": {},
   "source": [
    "\n",
    "<h3 id=\"Practice-Exercise:-learning-about-functions-using-help\">Practice Exercise: learning about functions using <code>help</code><a class=\"anchor-link\" href=\"#Practice-Exercise:-learning-about-functions-using-help\">¶</a></h3>\n"
   ]
  },
  {
   "cell_type": "markdown",
   "metadata": {},
   "source": [
    "\n",
    "<p>Consider this description of built-in function <code>ord</code>:</p>\n"
   ]
  },
  {
   "cell_type": "code",
   "execution_count": null,
   "metadata": {
    "collapsed": true
   },
   "outputs": [],
   "source": [
    "help(ord)"
   ]
  },
  {
   "cell_type": "markdown",
   "metadata": {},
   "source": [
    "\n",
    "<ol>\n",
    "<li>How many parameter(s) does function <code>ord</code> have?</li>\n",
    "<li>What are the type(s) of <code>ord</code>'s parameter(s)?</li>\n",
    "<li>Give an example of how to call on function <code>ord</code>.</li>\n",
    "</ol>\n"
   ]
  },
  {
   "cell_type": "raw",
   "metadata": {},
   "source": [
    "Write you answer here:\n",
    "1.\n",
    "2.\n",
    "3."
   ]
  }
 ],
 "metadata": {
  "kernelspec": {
   "display_name": "Python 3",
   "language": "python",
   "name": "python3"
  },
  "language_info": {
   "codemirror_mode": {
    "name": "ipython",
    "version": 3
   },
   "file_extension": ".py",
   "mimetype": "text/x-python",
   "name": "python",
   "nbconvert_exporter": "python",
   "pygments_lexer": "ipython3",
   "version": "3.6.6"
  }
 },
 "nbformat": 4,
 "nbformat_minor": 2
}
