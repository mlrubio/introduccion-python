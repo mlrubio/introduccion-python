{
 "cells": [
  {
   "cell_type": "markdown",
   "metadata": {},
   "source": [
    "\n",
    "# Session 3\n",
    "<p>In this session we will learn on of the most important (and hardest...) blocks of programming: loops.These modules have been developed at the University of Toronto <i>(Jennifer Campbell and Michelle Craig)</i> and the university of Delft <i>(Mark Bakker)</i>. They have beed adapted to the needs of students at the University of Granada</p>\n"
   ]
  },
  {
   "cell_type": "code",
   "execution_count": null,
   "metadata": {},
   "outputs": [],
   "source": [
    "---\n",
    "## Section 1: for loops over str\n",
    "<p>How to deal with repitions in python.</p>\n"
   ]
  },
  {
   "cell_type": "markdown",
   "metadata": {},
   "source": [
    "\n",
    "<h3 id=\"for-loops-over-str\"><code>for</code> loops over <code>str</code><a class=\"anchor-link\" href=\"#for-loops-over-str\">¶</a></h3>\n"
   ]
  },
  {
   "cell_type": "markdown",
   "metadata": {},
   "source": [
    "\n",
    "<p>We can use loops to repeat a section of code multiple times.  The first loop that you will use is a <code>for</code> loop, where we repeat code once for each character in a string.</p>\n"
   ]
  },
  {
   "cell_type": "markdown",
   "metadata": {},
   "source": [
    "\n",
    "<p>The general form of a <code>for</code> loop over a string is:</p>\n",
    "<pre><code>for variable in str:\n",
    "    body</code></pre>\n",
    "\n",
    "<p><strong>What it does</strong></p>\n",
    "<pre><code>    variable will be moving along all the letters in str.\n",
    "    It will execute body for each letter.\n",
    "</code></pre>\n"
   ]
  },
  {
   "cell_type": "markdown",
   "metadata": {},
   "source": [
    "\n",
    "<p>Now, let's look at an example:</p>\n"
   ]
  },
  {
   "cell_type": "code",
   "execution_count": null,
   "metadata": {
    "collapsed": true
   },
   "outputs": [],
   "source": [
    "s = 'medicine'\n",
    "for ch in s:\n",
    "    print(ch)"
   ]
  },
  {
   "cell_type": "markdown",
   "metadata": {},
   "source": [
    "\n",
    "<p>In the code above, <code>ch</code> is a variable name.  The first value that <code>ch</code> refers to is the character at index 0 of <code>s</code>, which is <code>'m'</code>.  When the body of the function is reached, <code>ch</code> is printed.  Next, the value of <code>ch</code> is changed, so that it refers to the character at index of <code>s</code>, that character is printed, and so on.</p>\n"
   ]
  },
  {
   "cell_type": "markdown",
   "metadata": {},
   "source": [
    "\n",
    "<p>Using the Python Visualizer, we can trace <a href=\"http://pythontutor.com/csc108h.html#code=s%20%3D%20'medicine'%0Afor%20ch%20in%20s%3A%0A%20%20%20%20print(ch%29&amp;curInstr=0&amp;mode=display&amp;origin=csc108h.js&amp;py=3&amp;rawInputLstJSON=%5B%5D\">this code</a>.</p>\n"
   ]
  },
  {
   "cell_type": "markdown",
   "metadata": {},
   "source": [
    "\n",
    "<h3 id=\"Practice-Exercise:-Understanding-Loops\">Practice Exercise: Understanding Loops<a class=\"anchor-link\" href=\"#Practice-Exercise:-Understanding-Loops\">¶</a></h3>\n"
   ]
  },
  {
   "cell_type": "markdown",
   "metadata": {},
   "source": [
    "\n",
    "<p>Modify the code above so that <code>medicine</code> is printed once for each character in the string (instead of the single characters).</p>\n"
   ]
  },
  {
   "cell_type": "markdown",
   "metadata": {},
   "source": [
    "\n",
    "<h3 id=\"Accumulator-pattern:-numeric-accumulator\">Accumulator pattern: numeric accumulator<a class=\"anchor-link\" href=\"#Accumulator-pattern:-numeric-accumulator\">¶</a></h3>\n"
   ]
  },
  {
   "cell_type": "markdown",
   "metadata": {},
   "source": [
    "\n",
    "<p>The letters G, C, A, and T are the four bases that appear in DNA sequences.  Write a function that has two parameters representing a DNA sequence and one of the four bases, and return the number of occurences of that base in the sequence.  Note: for this problem do not use <code>str.count</code>.</p>\n"
   ]
  },
  {
   "cell_type": "code",
   "execution_count": null,
   "metadata": {
    "collapsed": true
   },
   "outputs": [],
   "source": [
    "def count_base(dna, base):\n",
    "    \"\"\" (str, str) -> int\n",
    "    \n",
    "    Return the number of occurences of base in dna.\n",
    "    \n",
    "    >>> count_base('GGTCAG', 'A')\n",
    "    1    \n",
    "    >>> count_base('GGTCAGATC', 'G')\n",
    "    3\n",
    "    \"\"\""
   ]
  },
  {
   "cell_type": "markdown",
   "metadata": {},
   "source": [
    "\n",
    "<p>To solve this problem, consider how you figured out which values the example function calls should return.</p>\n",
    "<p>Examine each character in dna.</p>\n",
    "<p>If that character is base, add one to our total. (The total is our numeric accumulator.)</p>\n",
    "<p>Once we've examine all characters, return the total.</p>\n",
    "<p>Now, let's structure this more like code:</p>\n",
    "<pre><code>For each character in dna\n",
    "   if the character is equal to base:\n",
    "       add one to the total\n",
    "return the total</code></pre>\n"
   ]
  },
  {
   "cell_type": "markdown",
   "metadata": {},
   "source": [
    "\n",
    "<p>The description above is called psuedocode.  It is an outline of what our code will look like, but it doesn't follow all of the rules of Python syntax.  Now, let's write the actual code:</p>\n"
   ]
  },
  {
   "cell_type": "code",
   "execution_count": null,
   "metadata": {
    "collapsed": true
   },
   "outputs": [],
   "source": [
    "def count_base(dna, base):\n",
    "    \"\"\" (str, str) -> int\n",
    "    \n",
    "    Return the number of occurences of base in dna.\n",
    "    \n",
    "    >>> count_base('GGTCAG','A')\n",
    "    1    \n",
    "    >>> count_base('GGTCAGATC', 'G')\n",
    "    3\n",
    "    \"\"\"\n",
    "    total = 0\n",
    "    for letter in dna:\n",
    "        if letter == base:\n",
    "            total = total + 1\n",
    "    return total"
   ]
  },
  {
   "cell_type": "code",
   "execution_count": null,
   "metadata": {
    "collapsed": true
   },
   "outputs": [],
   "source": [
    "count_base('GGTCAG', 'A')"
   ]
  },
  {
   "cell_type": "code",
   "execution_count": null,
   "metadata": {
    "collapsed": true
   },
   "outputs": [],
   "source": [
    "count_base('GGTCAGATC', 'G')"
   ]
  },
  {
   "cell_type": "markdown",
   "metadata": {},
   "source": [
    "\n",
    "<h3 id=\"Accumulator-pattern:-string-accumulator\">Accumulator pattern: string accumulator<a class=\"anchor-link\" href=\"#Accumulator-pattern:-string-accumulator\">¶</a></h3>\n"
   ]
  },
  {
   "cell_type": "markdown",
   "metadata": {},
   "source": [
    "\n",
    "<p>In the previous problem, we looped over the characters of a string and kept a running total.  This time, our goal is to loop over the characters of a string and build a new string made up of only the vowels in that string.  The new string will initially be empty, we will add vowels as we encounter them, and by the end the string will contain the vowels based on the original string.  This is called a <em>string accumulator</em>.</p>\n"
   ]
  },
  {
   "cell_type": "code",
   "execution_count": null,
   "metadata": {
    "collapsed": true
   },
   "outputs": [],
   "source": [
    "def collect_vowels(s):\n",
    "    \"\"\" (str) -> str\n",
    "\n",
    "    Return the vowels from s.  Do not treat the letter\n",
    "    y as a vowel.\n",
    "\n",
    "    >>> collect_vowels('Happy Anniversary!')\n",
    "    'aAiea'\n",
    "    >>> collect_vowels('xyz')\n",
    "    ''\n",
    "    \"\"\"\n",
    "\n",
    "    # This is our accumulator variable.  \n",
    "    # It initially refers to the empty string.\n",
    "    vowels = ''\n",
    "\n",
    "    for char in s:\n",
    "        if char in 'aeiouAEIOU':\n",
    "            # When we encounter a vowel, concatenate it to vowels.\n",
    "            vowels = vowels + char  \n",
    "            \n",
    "    # After we have passed over every character in s, \n",
    "    # return the string that we bulit.\n",
    "    return vowels"
   ]
  },
  {
   "cell_type": "markdown",
   "metadata": {},
   "source": [
    "\n",
    "<h3 id=\"Practice-Exercise:-count-uppercase-letters\">Practice Exercise: count uppercase letters<a class=\"anchor-link\" href=\"#Practice-Exercise:-count-uppercase-letters\">¶</a></h3>\n"
   ]
  },
  {
   "cell_type": "markdown",
   "metadata": {},
   "source": [
    "\n",
    "<p>Define a function named <code>count_upper</code> that has one <code>str</code> parameter and returns the number of uppercase letters in the given string.</p>\n"
   ]
  },
  {
   "cell_type": "code",
   "execution_count": null,
   "metadata": {
    "collapsed": true
   },
   "outputs": [],
   "source": [
    "def count_upper(s):\n",
    "    \"\"\" (str) -> int\n",
    "    \n",
    "    Return the number of uppercase letters in s.\n",
    "    \n",
    "    >>> count_upper('abc')\n",
    "    0\n",
    "    >>> count_upper('aAbBcC')\n",
    "    3\n",
    "    \"\"\""
   ]
  },
  {
   "cell_type": "markdown",
   "metadata": {},
   "source": [
    "\n",
    "<h3 id=\"Practice-Exercise:-get-uppercase-letters\">Practice Exercise: get uppercase letters<a class=\"anchor-link\" href=\"#Practice-Exercise:-get-uppercase-letters\">¶</a></h3>\n"
   ]
  },
  {
   "cell_type": "markdown",
   "metadata": {},
   "source": [
    "\n",
    "<p>Define a function named <code>get_upper</code> that has one <code>str</code> parameter and returns a string containing the uppercase letters from the given string.</p>\n"
   ]
  },
  {
   "cell_type": "code",
   "execution_count": null,
   "metadata": {
    "collapsed": true
   },
   "outputs": [],
   "source": [
    "def get_upper(s):\n",
    "    \"\"\" (str) -> str\n",
    "    \n",
    "    Return a string containing the uppercase letters in s.\n",
    "    \n",
    "    >>> get_upper('abc')\n",
    "    ''\n",
    "    >>> get_upper('aAbBcC')\n",
    "    'ABC'\n",
    "    \n",
    "    \"\"\""
   ]
  },
  {
   "cell_type": "markdown",
   "metadata": {},
   "source": [
    "\n",
    "<h3 id=\"Checking-string-content\">Checking string content<a class=\"anchor-link\" href=\"#Checking-string-content\">¶</a></h3>\n"
   ]
  },
  {
   "cell_type": "markdown",
   "metadata": {},
   "source": [
    "\n",
    "<p>In our next example, we will examine the characters in a string to see if that string is a valid IP address (that is, it contains only digits and periods).</p>\n"
   ]
  },
  {
   "cell_type": "code",
   "execution_count": null,
   "metadata": {
    "collapsed": true
   },
   "outputs": [],
   "source": [
    "def is_IP_address(address):\n",
    "    \"\"\" (str) -> bool    \n",
    "\n",
    "    Return True iff address contains only digits and periods.\n",
    "    \n",
    "    >>> is_IP_address('128.100.31.52')\n",
    "    True\n",
    "    >>> is_IP_address('40 St. George St')\n",
    "    False\n",
    "    \"\"\""
   ]
  },
  {
   "cell_type": "markdown",
   "metadata": {},
   "source": [
    "\n",
    "<p>Look at the examples above and consider how you determined whether those two string arguments were valid IP addresses.</p>\n",
    "<p>For the first string, I examined each character and found them all to be either digits or periods.</p>\n",
    "<p>However, for the second string, I encountered an <code>'S'</code> and at that point was able to conclude that the string was not a valid IP address.  At that point, I was able to draw my conclusion and stop examining the rest of the string.  In other words, if we find a character that is <em>not</em> a digit or period, we can return <code>False</code>.</p>\n"
   ]
  },
  {
   "cell_type": "code",
   "execution_count": null,
   "metadata": {
    "collapsed": true
   },
   "outputs": [],
   "source": [
    "def is_IP_address(address):\n",
    "    \"\"\" (str) -> bool    \n",
    "\n",
    "    Return True iff address contains only digits and periods.\n",
    "    \n",
    "    >>> is_IP_address('128.100.31.52')\n",
    "    True\n",
    "    >>> is_IP_address('40 St. George St')\n",
    "    False\n",
    "    \"\"\"\n",
    "    \n",
    "    for ch in address:\n",
    "        if not ch.isdigit() and ch != '.':\n",
    "            return False\n",
    "    return True"
   ]
  },
  {
   "cell_type": "markdown",
   "metadata": {},
   "source": [
    "\n",
    "<p>Note: be careful not to <code>return True</code> too early.  We can only return <code>True</code> once we've examined every character, which is after the <code>for</code> loop has finished executing.</p>\n"
   ]
  },
  {
   "cell_type": "markdown",
   "metadata": {},
   "source": [
    "---\n",
    "## Section 2: Lists, loops, and range\n",
    "<p><p>Diving deeper in lists and loops.</p></p>\n"
   ]
  },
  {
   "cell_type": "markdown",
   "metadata": {},
   "source": [
    "\n",
    "<h3 id=\"Lists,-Loops-and-range\">Lists, Loops and <code>range</code><a class=\"anchor-link\" href=\"#Lists,-Loops-and-range\">¶</a></h3>\n"
   ]
  },
  {
   "cell_type": "markdown",
   "metadata": {},
   "source": [
    "\n",
    "<p>We can store collections of data, using Python's type <code>list</code>.</p>\n",
    "<p>For example, here are the average gross annual earnings for anesthesiologists, ophthalmologists, cardiologists, pediatricians, and family doctors, respectively (from <a href=\"https://www.cma.ca/Assets/assets-library/document/en/advocacy/Anesthesiology-e.pdf\">https://www.cma.ca/Assets/assets-library/document/en/advocacy/Anesthesiology-e.pdf</a> and similar sources on cma.ca).</p>\n",
    "<ul>\n",
    "<li>361,681  </li>\n",
    "<li>740,741</li>\n",
    "<li>396,105</li>\n",
    "<li>284,600   </li>\n",
    "<li>249,154  </li>\n",
    "</ul>\n",
    "<p>The general form of a list is:</p>\n",
    "<p><em>[expression1, expression2, ..., expressionN]</em></p>\n",
    "<p>We can store the data in Python as follows:</p>\n"
   ]
  },
  {
   "cell_type": "code",
   "execution_count": null,
   "metadata": {
    "collapsed": true
   },
   "outputs": [],
   "source": [
    "gross_earnings = [361681, 740741, 396105,  284600, 249154]"
   ]
  },
  {
   "cell_type": "markdown",
   "metadata": {},
   "source": [
    "\n",
    "<p>We enclose the data in square brackets, and <em>items</em> of the list (also called <em>elements</em>) are separated by commas. We access an element using its <em>index</em> -- the order of the element in the list, <strong>starting from 0</strong>.</p>\n"
   ]
  },
  {
   "cell_type": "code",
   "execution_count": null,
   "metadata": {
    "collapsed": true
   },
   "outputs": [],
   "source": [
    "gross_earnings[0]"
   ]
  },
  {
   "cell_type": "code",
   "execution_count": null,
   "metadata": {
    "collapsed": true
   },
   "outputs": [],
   "source": [
    "gross_earnings[1]"
   ]
  },
  {
   "cell_type": "code",
   "execution_count": null,
   "metadata": {
    "collapsed": true
   },
   "outputs": [],
   "source": [
    "gross_earnings[4]"
   ]
  },
  {
   "cell_type": "markdown",
   "metadata": {},
   "source": [
    "\n",
    "<p>Note that, since there are 5 elements in the list and we start counting from 0, we only have indices 0, 1, 2, 3, and 4. The following produces an error:</p>\n"
   ]
  },
  {
   "cell_type": "code",
   "execution_count": null,
   "metadata": {
    "collapsed": true
   },
   "outputs": [],
   "source": [
    "gross_earnings[5]"
   ]
  },
  {
   "cell_type": "markdown",
   "metadata": {},
   "source": [
    "\n",
    "<p>The expression <code>gross_earnings[2]</code> gives a <code>float</code> value, so you can use the expression <code>gross_earnings[2]</code> anywhere that you can use a float. For example:</p>\n"
   ]
  },
  {
   "cell_type": "code",
   "execution_count": null,
   "metadata": {
    "collapsed": true
   },
   "outputs": [],
   "source": [
    "0.6 * (gross_earnings[2] + 500)"
   ]
  },
  {
   "cell_type": "markdown",
   "metadata": {},
   "source": [
    "\n",
    "<p>You can access an element of a list, by using a variable to represent the index:</p>\n"
   ]
  },
  {
   "cell_type": "code",
   "execution_count": null,
   "metadata": {
    "collapsed": true
   },
   "outputs": [],
   "source": [
    "i = 2\n",
    "gross_earnings[i]"
   ]
  },
  {
   "cell_type": "markdown",
   "metadata": {},
   "source": [
    "\n",
    "<p>The variable name <code>i</code> is commonly used when the variable represents an index.</p>\n"
   ]
  },
  {
   "cell_type": "markdown",
   "metadata": {},
   "source": [
    "\n",
    "<h3 id=\"Functions-and-operations-on-lists\">Functions and operations on lists<a class=\"anchor-link\" href=\"#Functions-and-operations-on-lists\">¶</a></h3><p>As we did for objects of type <code>str</code>, we can obtain the length of a list using Python's function <code>len</code>.</p>\n"
   ]
  },
  {
   "cell_type": "code",
   "execution_count": null,
   "metadata": {
    "collapsed": true
   },
   "outputs": [],
   "source": [
    "len(gross_earnings)"
   ]
  },
  {
   "cell_type": "markdown",
   "metadata": {},
   "source": [
    "\n",
    "<p>The function call produced 5, because there are five elements in the list that <code>gross_earnings</code> refers to.</p>\n",
    "<p>Since the list has 5 elements, the valid indexes into the list are 0, 1, 2, 3, and 4.  In general, the last index is equal to the length of the list minus one:</p>\n"
   ]
  },
  {
   "cell_type": "code",
   "execution_count": null,
   "metadata": {
    "collapsed": true
   },
   "outputs": [],
   "source": [
    "gross_earnings[len(gross_earnings) - 1]"
   ]
  },
  {
   "cell_type": "markdown",
   "metadata": {},
   "source": [
    "\n",
    "<p>Here is another example of using <code>len</code> to calculate the last index and to access the last element in the list:</p>\n"
   ]
  },
  {
   "cell_type": "code",
   "execution_count": null,
   "metadata": {
    "collapsed": true
   },
   "outputs": [],
   "source": [
    "L = [4, 5, 6]\n",
    "print(\"Length of L:\", len(L))\n",
    "print(\"The index of the last element of L:\", len(L)-1)\n",
    "print(\"The last element of L:\", L[len(L)-1])"
   ]
  },
  {
   "cell_type": "markdown",
   "metadata": {},
   "source": [
    "\n",
    "<p>Alternatively, we can use negative indexes to access the elements of a list, with index -1 corresponding with the right-most element:</p>\n"
   ]
  },
  {
   "cell_type": "code",
   "execution_count": null,
   "metadata": {
    "collapsed": true
   },
   "outputs": [],
   "source": [
    "print(L[-1])  # same as L[len(L)-1]\n",
    "print(L[-2])  # same as L[len(L)-2]"
   ]
  },
  {
   "cell_type": "markdown",
   "metadata": {},
   "source": [
    "\n",
    "<p>There are several other functions that can take lists as arguments, including <code>min</code>, <code>max</code>, and <code>sum</code>:</p>\n"
   ]
  },
  {
   "cell_type": "code",
   "execution_count": null,
   "metadata": {
    "collapsed": true
   },
   "outputs": [],
   "source": [
    "values = [5.4, 6, 3.2, 8.1, 11]\n",
    "print(min(values))\n",
    "print(max(values))\n",
    "print(sum(values))"
   ]
  },
  {
   "cell_type": "markdown",
   "metadata": {},
   "source": [
    "\n",
    "<p>We can also use the operator <code>in</code> to check whether an object is an item in a list:</p>\n"
   ]
  },
  {
   "cell_type": "code",
   "execution_count": null,
   "metadata": {
    "collapsed": true
   },
   "outputs": [],
   "source": [
    "heart_rates = [78, 85, 90, 100, 97]\n",
    "85 in heart_rates"
   ]
  },
  {
   "cell_type": "code",
   "execution_count": null,
   "metadata": {
    "collapsed": true
   },
   "outputs": [],
   "source": [
    "95 in heart_rates"
   ]
  },
  {
   "cell_type": "markdown",
   "metadata": {},
   "source": [
    "\n",
    "<h3 id=\"for-loop-over-range\"><code>for</code> loop over <code>range</code><a class=\"anchor-link\" href=\"#for-loop-over-range\">¶</a></h3>\n"
   ]
  },
  {
   "cell_type": "markdown",
   "metadata": {},
   "source": [
    "\n",
    "<p>Python has a built-in function named <code>range</code> that produces a sequence of numbers.  Here is a fragment of the documentation for <code>range</code>:</p>\n",
    "<pre><code>range(start, stop[, step]) -&gt; range object\n",
    " |  \n",
    " |  Return an object that produces a sequence of integers from start (inclusive)\n",
    " |  to stop (exclusive) by step.  range(i, j) produces i, i+1, i+2, ..., j-1.\n",
    " |  start defaults to 0, and stop is omitted!  range(4) produces 0, 1, 2, 3.\n",
    " |  These are exactly the valid indices for a list of 4 elements.\n",
    " |  When step is given, it specifies the increment (or decrement).</code></pre>\n"
   ]
  },
  {
   "cell_type": "markdown",
   "metadata": {},
   "source": [
    "\n",
    "<p>We can use a <code>for</code> loop to iterate over the sequence produced by <code>range</code>.  The first number is the sequence is by default 0 and the sequence continues up to but not including the argument to <code>range</code>:</p>\n"
   ]
  },
  {
   "cell_type": "code",
   "execution_count": null,
   "metadata": {
    "collapsed": true
   },
   "outputs": [],
   "source": [
    "for num in range(10):\n",
    "    print(num)"
   ]
  },
  {
   "cell_type": "markdown",
   "metadata": {},
   "source": [
    "\n",
    "<p>If we want to start at 1 and go up 11, we can pass two arguments:</p>\n"
   ]
  },
  {
   "cell_type": "code",
   "execution_count": null,
   "metadata": {
    "collapsed": true
   },
   "outputs": [],
   "source": [
    "for num in range(1, 11):\n",
    "    print(num)"
   ]
  },
  {
   "cell_type": "markdown",
   "metadata": {},
   "source": [
    "\n",
    "<p>We can also specify the step size, so let's use that to print even numbers from 10 to 20 inclusive:</p>\n"
   ]
  },
  {
   "cell_type": "code",
   "execution_count": null,
   "metadata": {
    "collapsed": true
   },
   "outputs": [],
   "source": [
    "for value in range(10, 21, 2):\n",
    "    print(value)"
   ]
  },
  {
   "cell_type": "markdown",
   "metadata": {},
   "source": [
    "\n",
    "<h3 id=\"Practice-Exercise:-range\">Practice Exercise: <code>range</code><a class=\"anchor-link\" href=\"#Practice-Exercise:-range\">¶</a></h3><p>Use <code>range</code> and a <code>for</code> loop to print every 4th number from 0 to 200, inclusive</p>\n"
   ]
  },
  {
   "cell_type": "code",
   "execution_count": null,
   "metadata": {},
   "outputs": [],
   "source": []
  },
  {
   "cell_type": "markdown",
   "metadata": {},
   "source": [
    "\n",
    "<h3 id=\"for-loop-over-list\"><code>for</code> loop over <code>list</code><a class=\"anchor-link\" href=\"#for-loop-over-list\">¶</a></h3>\n"
   ]
  },
  {
   "cell_type": "markdown",
   "metadata": {},
   "source": [
    "\n",
    "<p>Let's print out each item from <code>gross_earnings</code>:</p>\n"
   ]
  },
  {
   "cell_type": "code",
   "execution_count": null,
   "metadata": {
    "collapsed": true
   },
   "outputs": [],
   "source": [
    "print(gross_earnings[0])\n",
    "print(gross_earnings[1])\n",
    "print(gross_earnings[2])\n",
    "print(gross_earnings[3])\n",
    "print(gross_earnings[4])"
   ]
  },
  {
   "cell_type": "markdown",
   "metadata": {},
   "source": [
    "\n",
    "<p>The code above works, but what if there are 100 or even 100,000 items in <code>gross_earnings</code>?  We'd have to call <code>print</code> once for each of them!</p>\n",
    "<p>The only thing that varies in each line of code above is the index.  We can use a variable to represent the index and change the value of the variable so that it to refers to the values <code>0</code>, <code>1</code>, <code>2</code>, <code>3</code>, and <code>4</code>.  Here is one approach for solving this, using <code>range</code> and a <code>for</code> loop:</p>\n"
   ]
  },
  {
   "cell_type": "code",
   "execution_count": null,
   "metadata": {
    "collapsed": true
   },
   "outputs": [],
   "source": [
    "for i in range(5):\n",
    "    print(gross_earnings[i])"
   ]
  },
  {
   "cell_type": "markdown",
   "metadata": {},
   "source": [
    "\n",
    "<p>We can make the code even more general and replace <code>5</code> with the length of the list, so that this code will work regardless of the number of items in <code>gross_earnings</code>:</p>\n"
   ]
  },
  {
   "cell_type": "code",
   "execution_count": null,
   "metadata": {
    "collapsed": true
   },
   "outputs": [],
   "source": [
    "for i in range(len(gross_earnings)):\n",
    "    print(gross_earnings[i])"
   ]
  },
  {
   "cell_type": "markdown",
   "metadata": {},
   "source": [
    "\n",
    "<p>As an alternative, we can use a <code>for</code> loop to iterate over the items in <code>gross_earnings</code>:</p>\n"
   ]
  },
  {
   "cell_type": "code",
   "execution_count": null,
   "metadata": {
    "collapsed": true
   },
   "outputs": [],
   "source": [
    "for salary in gross_earnings:\n",
    "    print(salary)"
   ]
  },
  {
   "cell_type": "markdown",
   "metadata": {},
   "source": [
    "\n",
    "<p>In the code above, variable <code>salary</code> first refers to <code>gross_earnings[0]</code>, then <code>gross_earnings[1]</code>, and so on, until the end of the list is reached.</p>\n"
   ]
  },
  {
   "cell_type": "markdown",
   "metadata": {},
   "source": [
    "\n",
    "<h3 id=\"Worked-example:-Printing-particular-elements\">Worked example: Printing particular elements<a class=\"anchor-link\" href=\"#Worked-example:-Printing-particular-elements\">¶</a></h3><p>Let's write code to print the items of <code>gross_earnings</code> that are less than 300,000.</p>\n"
   ]
  },
  {
   "cell_type": "markdown",
   "metadata": {},
   "source": [
    "\n",
    "<p>Here is an English description of our approach to this problem:  for each item in gross_earnings, check whether it is less than 300000 and if so, print it.  Now, here is the code:</p>\n"
   ]
  },
  {
   "cell_type": "code",
   "execution_count": null,
   "metadata": {
    "collapsed": true
   },
   "outputs": [],
   "source": [
    "gross_earnings = [361681, 740741, 396105,  284600, 249154]\n",
    "for i in range(len(gross_earnings)):\n",
    "    if gross_earnings[i] < 300000:\n",
    "        print(gross_earnings[i])"
   ]
  },
  {
   "cell_type": "markdown",
   "metadata": {},
   "source": [
    "\n",
    "<p>Let's trace <a href=\"http://www.pythontutor.com/visualize.html#code=gross_earnings%20%3D%20%5B361681,%20740741,%20396105,%20%20284600,%20249154%5D%0Afor%20i%20in%20range(len(gross_earnings%29%29%3A%0A%20%20%20%20if%20gross_earnings%5Bi%5D%20%3C%20300000%3A%0A%20%20%20%20%20%20%20%20print(gross_earnings%5Bi%5D%29%0A%20%20%20%20%20%20%20%20&amp;cumulative=false&amp;curInstr=0&amp;heapPrimitives=true&amp;mode=display&amp;origin=opt-frontend.js&amp;py=3&amp;rawInputLstJSON=%5B%5D&amp;textReferences=false\">the code above</a> using the Python Visualizer.</p>\n"
   ]
  },
  {
   "cell_type": "markdown",
   "metadata": {},
   "source": [
    "\n",
    "<p>An alternative approach is to iterate over the list directly:</p>\n"
   ]
  },
  {
   "cell_type": "code",
   "execution_count": null,
   "metadata": {
    "collapsed": true
   },
   "outputs": [],
   "source": [
    "for salary in gross_earnings:\n",
    "    if salary < 300000:\n",
    "        print(salary)"
   ]
  },
  {
   "cell_type": "markdown",
   "metadata": {},
   "source": [
    "\n",
    "<p>We can also trace <a href=\"http://www.pythontutor.com/visualize.html#code=gross_earnings%20%3D%20%5B361681,%20740741,%20396105,%20%20284600,%20249154%5D%0Afor%20salary%20in%20gross_earnings%3A%0A%20%20%20%20if%20salary%20%3C%20300000%3A%0A%20%20%20%20%20%20%20%20print(salary%29&amp;cumulative=false&amp;curInstr=0&amp;heapPrimitives=true&amp;mode=display&amp;origin=opt-frontend.js&amp;py=3&amp;rawInputLstJSON=%5B%5D&amp;textReferences=false\">the code above</a> using the Python Visualizer to see how it differs from the previous version.</p>\n"
   ]
  },
  {
   "cell_type": "markdown",
   "metadata": {},
   "source": [
    "\n",
    "<h3 id=\"Computing-the-sum-of-a-list\">Computing the sum of a list<a class=\"anchor-link\" href=\"#Computing-the-sum-of-a-list\">¶</a></h3><p>Suppose we want to compute the sum of all the values in a list.  We can use the <em>numeric accumulator pattern</em> that we used with strings.</p>\n",
    "<p>Here's the idea: we'll set up a variable <code>total</code> that initially refers to <code>0</code>, and we'll keep adding adding values to it.</p>\n",
    "<p>Initially, <code>total</code> will refer to 0.</p>\n",
    "<p>Then we'll add <code>gross_earnings[0]</code> to <code>total</code>.</p>\n",
    "<p>Next, we'll add <code>gross_earnings[1]</code> to <code>total</code>.</p>\n",
    "<p>and so on ...</p>\n",
    "<p>Finally,  we'll add <code>gross_earnings[len(gross_earnings)-1]</code> to <code>total</code>.</p>\n",
    "<p>Here is how to express this in Python:</p>\n"
   ]
  },
  {
   "cell_type": "code",
   "execution_count": null,
   "metadata": {
    "collapsed": true
   },
   "outputs": [],
   "source": [
    "gross_earnings = [361681, 740741, 396105,  284600, 249154]\n",
    "total = 0    \n",
    "for i in range(len(gross_earnings)):\n",
    "    total = total + gross_earnings[i]\n",
    "    print(\"At iteration\", i, \"total = \", total)\n",
    "\n",
    "print(\"Final total:\", total)"
   ]
  },
  {
   "cell_type": "markdown",
   "metadata": {},
   "source": [
    "\n",
    "<p>It isn't necessary to print out the intermediate values of <code>total</code>, of course. We just did that for illustration purposes.</p>\n"
   ]
  },
  {
   "cell_type": "markdown",
   "metadata": {},
   "source": [
    "\n",
    "<h3 id=\"Practice-Exercise:-Iteration-and-Accumulation\">Practice Exercise: Iteration and Accumulation<a class=\"anchor-link\" href=\"#Practice-Exercise:-Iteration-and-Accumulation\">¶</a></h3><p>Once we know the sum of a list, computing the average is straight forward: all we need to do is divide the sum by the number of elements.</p>\n",
    "<p>First, consider how you can get the number of items in a list, using one of Python's built-in functions.</p>\n",
    "<p>Now, compute the average of the items in <code>gross_earnings</code>:</p>\n"
   ]
  },
  {
   "cell_type": "code",
   "execution_count": null,
   "metadata": {
    "collapsed": true
   },
   "outputs": [],
   "source": [
    "gross_earnings = [361681, 740741, 396105,  284600, 249154]"
   ]
  },
  {
   "cell_type": "markdown",
   "metadata": {},
   "source": [
    "\n",
    "<p>Check your answer: 406456.2</p>\n"
   ]
  },
  {
   "cell_type": "raw",
   "metadata": {},
   "source": [
    "Write your answer here:\n"
   ]
  },
  {
   "cell_type": "markdown",
   "metadata": {},
   "source": [
    "\n",
    "<h3 id=\"Practice-Exercise-:-Conditional-+-Loops\">Practice Exercise : Conditional + Loops<a class=\"anchor-link\" href=\"#Practice-Exercise-:-Conditional-+-Loops\">¶</a></h3><p>Compute the average of <code>gross_earnings</code>, but exclude any earnings that are outside the range from 250000 (inclusive) to 400000 (exclusive).</p>\n",
    "<p>Check your answer: 347462.0</p>\n"
   ]
  },
  {
   "cell_type": "raw",
   "metadata": {},
   "source": [
    "Write your answer here:\n"
   ]
  },
  {
   "cell_type": "markdown",
   "metadata": {},
   "source": [
    "\n",
    "<h3 id=\"Practice-Exercise:-list-of-str,-conditionals,-and-loops\">Practice Exercise: list of str, conditionals, and loops<a class=\"anchor-link\" href=\"#Practice-Exercise:-list-of-str,-conditionals,-and-loops\">¶</a></h3><p>Consider a list of strings that are represent handedness of subjects in a study and looks something like this:</p>\n",
    "<pre><code>hands = [\"left\", \"right\", \"right\", \"right\", \"left\", \"mixed\", \"right\", ...]\n",
    "\n",
    "</code></pre>\n",
    "<p>The only elements in the list are the strings <code>\"right\"</code>, <code>\"left\"</code>, or <code>\"mixed\"</code>.</p>\n",
    "<p>Write a program that will work on any such list and print the percentage of subjects from each category of handedness. For example, if you were to run it on the list <code>[\"right\", \"left\", \"right\", \"right\"]</code>, it should print the output:\n",
    "Right-handed: 75 %\n",
    "Left-handed: 25 %\n",
    "Mixed-handed: 0 %</p>\n",
    "<p>Don't worry about formatting the numbers. You might see <code>75.00000</code> as your result and that's fine for now.</p>\n"
   ]
  },
  {
   "cell_type": "raw",
   "metadata": {},
   "source": [
    "Write your answer here:\n"
   ]
  },
  {
   "cell_type": "markdown",
   "metadata": {},
   "source": [
    "---\n",
    "## Section 3: List Methods and Mutability\n",
    "<p>Exploring the metaphysical characteristics of lists.</p>\n"
   ]
  },
  {
   "cell_type": "markdown",
   "metadata": {},
   "source": [
    "\n",
    "<h3 id=\"List-Methods-and-Mutability\">List Methods and Mutability<a class=\"anchor-link\" href=\"#List-Methods-and-Mutability\">¶</a></h3>\n"
   ]
  },
  {
   "cell_type": "markdown",
   "metadata": {},
   "source": [
    "\n",
    "<p>Lists are <em>mutable</em>, so we can change a list, such as by adding, removing, or modifying an item:</p>\n"
   ]
  },
  {
   "cell_type": "code",
   "execution_count": null,
   "metadata": {
    "collapsed": true
   },
   "outputs": [],
   "source": [
    "gross_earnings = [361681, 740741, 396105,  284600, 249154]\n",
    "\n",
    "# To modify an item, we can use indexing and an assignment statment.\n",
    "gross_earnings[1] = gross_earnings[1] * 1.05\n",
    "print(gross_earnings[1])"
   ]
  },
  {
   "cell_type": "markdown",
   "metadata": {},
   "source": [
    "\n",
    "<h3 id=\"list-methods\"><code>list</code> methods<a class=\"anchor-link\" href=\"#list-methods\">¶</a></h3><p>Many of <code>list</code> methods modify the list:</p>\n"
   ]
  },
  {
   "cell_type": "code",
   "execution_count": null,
   "metadata": {
    "collapsed": true
   },
   "outputs": [],
   "source": [
    "print(gross_earnings)"
   ]
  },
  {
   "cell_type": "code",
   "execution_count": null,
   "metadata": {
    "collapsed": true
   },
   "outputs": [],
   "source": [
    "gross_earnings.append(740741)  # Adds the argument to the end of the list.\n",
    "print(gross_earnings)"
   ]
  },
  {
   "cell_type": "code",
   "execution_count": null,
   "metadata": {
    "collapsed": true
   },
   "outputs": [],
   "source": [
    "gross_earnings.extend([200000, 300000, 400000]) # Append the items in the list argument to the list.\n",
    "\n",
    "print(gross_earnings)"
   ]
  },
  {
   "cell_type": "code",
   "execution_count": null,
   "metadata": {
    "collapsed": true
   },
   "outputs": [],
   "source": [
    "print(gross_earnings.pop()) # Removes the last item in the list and returns that item.\n",
    "print(gross_earnings)"
   ]
  },
  {
   "cell_type": "code",
   "execution_count": null,
   "metadata": {
    "collapsed": true
   },
   "outputs": [],
   "source": [
    "print(gross_earnings.pop(1)) # Removes the item the given index and returns that item.\n",
    "print(gross_earnings)"
   ]
  },
  {
   "cell_type": "code",
   "execution_count": null,
   "metadata": {
    "collapsed": true
   },
   "outputs": [],
   "source": [
    "gross_earnings.remove(200000)  # Removes the first occurence of the argument; error if argument not in list.\n",
    "print(gross_earnings)"
   ]
  },
  {
   "cell_type": "code",
   "execution_count": null,
   "metadata": {
    "collapsed": true
   },
   "outputs": [],
   "source": [
    "gross_earnings.reverse()  # Reverses the list.\n",
    "print(gross_earnings)"
   ]
  },
  {
   "cell_type": "code",
   "execution_count": null,
   "metadata": {
    "collapsed": true
   },
   "outputs": [],
   "source": [
    "gross_earnings.sort() # Sorts the list.\n",
    "print(gross_earnings)"
   ]
  },
  {
   "cell_type": "code",
   "execution_count": null,
   "metadata": {
    "collapsed": true
   },
   "outputs": [],
   "source": [
    "gross_earnings.insert(1, 250000) # Inserts the object at the given index, moving items to make room.\n",
    "print(gross_earnings)"
   ]
  },
  {
   "cell_type": "markdown",
   "metadata": {},
   "source": [
    "\n",
    "<p>There are also <code>list</code> methods that given information about lists, but don't modify them:</p>\n"
   ]
  },
  {
   "cell_type": "code",
   "execution_count": null,
   "metadata": {
    "collapsed": true
   },
   "outputs": [],
   "source": [
    "L = ['a', 'b', 'c', 'b', 'b', 'a']\n",
    "L.count('b')  # Counts the number of occurences of 'b' in list L."
   ]
  },
  {
   "cell_type": "code",
   "execution_count": null,
   "metadata": {
    "collapsed": true
   },
   "outputs": [],
   "source": [
    "L.index('b') # Returns the index of the first occurence of 'b' in list L; error if not present."
   ]
  },
  {
   "cell_type": "code",
   "execution_count": null,
   "metadata": {
    "collapsed": true
   },
   "outputs": [],
   "source": [
    "L.index('d')  # An error occurs if the item is not in the list."
   ]
  },
  {
   "cell_type": "markdown",
   "metadata": {},
   "source": [
    "\n",
    "<h3 id=\"Writing-code-that-modifies-a-list-and-code-that-does-not\">Writing code that modifies a list and code that does not<a class=\"anchor-link\" href=\"#Writing-code-that-modifies-a-list-and-code-that-does-not\">¶</a></h3>\n"
   ]
  },
  {
   "cell_type": "markdown",
   "metadata": {},
   "source": [
    "\n",
    "<p>For this next problem, we have a list of measurements and we want to filter them to get only those that are below a particular threshold.  We will do this two different ways:</p>\n",
    "<ol>\n",
    "<li>By creating a new list with the measurements below the threshold and leaving the original list unchanged.</li>\n",
    "<li>By removing those measurements at or above the threshold from the original list, leaving only those that are below the threshold in the list.  Notice that with this approach, we are discarding some elements!</li>\n",
    "</ol>\n",
    "<p>Here is the first solution:</p>\n"
   ]
  },
  {
   "cell_type": "code",
   "execution_count": null,
   "metadata": {
    "collapsed": true
   },
   "outputs": [],
   "source": [
    "def get_scaled_measurements(measurements, factor):\n",
    "    \"\"\" (list of number, int) -> list of number\n",
    "    \n",
    "    Return a new list consisting of the values from measurements scaled by\n",
    "    factor, in the same order as in measurements.\n",
    "    \n",
    "    >>> get_scaled_measurements([1, 2, 3, 4], 3)\n",
    "    [3, 6, 9, 12]\n",
    "    >>> get_scaled_measurements([1, 2, 108, 3, 4], 50)\n",
    "    [50, 100, 5400, 150, 200]\n",
    "    >>> get_scaled_measurements([], 7)\n",
    "    []\n",
    "    \"\"\"\n",
    "    \n",
    "    scaled_measurements = []\n",
    "    \n",
    "    for i in range(len(measurements)):\n",
    "        scaled_measurements.append(measurements[i] * factor)\n",
    "            \n",
    "    return scaled_measurements\n",
    "\n",
    "print(get_scaled_measurements([1, 2, 3, 4], 3))\n",
    "print(get_scaled_measurements([1, 2, 108, 3, 4], 50))\n",
    "print(get_scaled_measurements([], 7))"
   ]
  },
  {
   "cell_type": "markdown",
   "metadata": {},
   "source": [
    "\n",
    "<p>Notice that the list passed as an argument to this function is not changed by the function call:</p>\n"
   ]
  },
  {
   "cell_type": "code",
   "execution_count": null,
   "metadata": {
    "collapsed": true
   },
   "outputs": [],
   "source": [
    "L = [1, 2, 108, 3, 4]\n",
    "print(get_scaled_measurements(L, 50))\n",
    "print(L)"
   ]
  },
  {
   "cell_type": "markdown",
   "metadata": {},
   "source": [
    "\n",
    "<p>Now, let's try an alternative approach where we modify the list:</p>\n"
   ]
  },
  {
   "cell_type": "code",
   "execution_count": null,
   "metadata": {
    "collapsed": true
   },
   "outputs": [],
   "source": [
    "def scale_measurements(measurements, factor):\n",
    "    \"\"\" (list of number, int) -> NoneType\n",
    "    \n",
    "    Modify measurements so that it contains the original values scaled by\n",
    "    factor, in the same order as they originally appeared.\n",
    "    \n",
    "    >>> L = [1, 2, 3, 4]\n",
    "    >>> scale_measurements(L, 3)\n",
    "    >>> L\n",
    "    >>> L = [1, 2, 108, 3, 4]\n",
    "    >>> scale_measurements(L, 50)\n",
    "    >>> L\n",
    "    >>> L = []\n",
    "    >>> scale_measurements(L, 7)\n",
    "    >>> L\n",
    "    \"\"\"\n",
    "    \n",
    "    for i in range(len(measurements)):\n",
    "        measurements[i] = measurements[i] * factor\n",
    "            \n",
    "            \n",
    "L = [1, 2, 3, 4]\n",
    "scale_measurements(L, 3)\n",
    "print(L)\n",
    "L = [1, 2, 108, 3, 4]\n",
    "scale_measurements(L, 50)\n",
    "print(L)\n",
    "L = []\n",
    "scale_measurements(L, 7)\n",
    "print(L)"
   ]
  },
  {
   "cell_type": "markdown",
   "metadata": {},
   "source": [
    "\n",
    "<p>Unlike the first approach, the lists are modified by the function.  This function does not contain a <code>return</code> statement, so by default, it returns the value <code>None</code>.</p>\n"
   ]
  },
  {
   "cell_type": "markdown",
   "metadata": {},
   "source": [
    "\n",
    "<h3 id=\"Practice-Exercise:-Building-a-new-list\">Practice Exercise: Building a new list<a class=\"anchor-link\" href=\"#Practice-Exercise:-Building-a-new-list\">¶</a></h3><p>Complete the following function according to its docstring description:</p>\n"
   ]
  },
  {
   "cell_type": "code",
   "execution_count": null,
   "metadata": {
    "collapsed": true
   },
   "outputs": [],
   "source": [
    "def report_digits(original_list):\n",
    "    \"\"\" (list of str) -> list of bool \n",
    "    \n",
    "    >>> report_digits(['98', 'a', '5'])\n",
    "    [True, False, True]\n",
    "    \n",
    "    Return a new list in which each item is True if the correponding item from \n",
    "    original_list is composed entirely of digits, and False otherwise.\n",
    "    \"\"\""
   ]
  },
  {
   "cell_type": "markdown",
   "metadata": {},
   "source": [
    "\n",
    "<h3 id=\"Practice-Exercise:-Modifying-an-existing-list\">Practice Exercise: Modifying an existing list<a class=\"anchor-link\" href=\"#Practice-Exercise:-Modifying-an-existing-list\">¶</a></h3><p>Complete the following function according to its docstring description:</p>\n"
   ]
  },
  {
   "cell_type": "code",
   "execution_count": null,
   "metadata": {
    "collapsed": true
   },
   "outputs": [],
   "source": [
    "def replace_digits(original_list):\n",
    "    \"\"\" (list of str) -> NoneType\n",
    "    \n",
    "    >>> data = ['98', 'a', '5']\n",
    "    >>> replace_digits(data)\n",
    "    >>> data\n",
    "    \n",
    "    Replace each item in original_list with True if it is composed entiredly of digits,\n",
    "    and with False otherwise.\n",
    "    \"\"\""
   ]
  },
  {
   "cell_type": "markdown",
   "metadata": {},
   "source": [
    "---\n",
    "## Section 4: Parallel lists and strings\n",
    "<p>How to juggle different types of data.</p>\n"
   ]
  },
  {
   "cell_type": "markdown",
   "metadata": {},
   "source": [
    "\n",
    "<h3 id=\"Parallel-lists-and-strings\">Parallel lists and strings<a class=\"anchor-link\" href=\"#Parallel-lists-and-strings\">¶</a></h3>\n"
   ]
  },
  {
   "cell_type": "markdown",
   "metadata": {},
   "source": [
    "\n",
    "<p>Let's write a function that compares two lists to see whether they are the same.  In the code below, we examine the items at corresponding positions of the two lists.  That is, we compare item <code>L1[0]</code> to item <code>L2[0]</code>, and <code>L1[1]</code> to <code>L2[1]</code>, and so on.</p>\n"
   ]
  },
  {
   "cell_type": "code",
   "execution_count": null,
   "metadata": {},
   "outputs": [],
   "source": [
    "def lists_equal(L1, L2):\n",
    "    \"\"\" (list of int, list of int) -> bool\n",
    "    \n",
    "    Return True iff L1 and L2 have the same contents in the same locations.\n",
    "    \n",
    "    >>> lists_equal([1, 2, 3, 4], [1, 2, 3, 4])\n",
    "    True\n",
    "    >>> lists_equal([8, 3, 4], [8, 3, 4, 10, 2])\n",
    "    False\n",
    "    >>> lists_equal([5, 6, 7], [7, 6, 5])\n",
    "    False\n",
    "    \"\"\" \n",
    "    \n",
    "    # Check whether the two lists have the same length first, \n",
    "    # to avoid index out of range errors later.\n",
    "    if len(L1) != len(L2):\n",
    "        return False\n",
    "    \n",
    "    for i in range(len(L1)):\n",
    "        if L1[i] != L2[i]:\n",
    "            return False\n",
    "        \n",
    "    return True"
   ]
  },
  {
   "cell_type": "markdown",
   "metadata": {},
   "source": [
    "\n",
    "<h3 id=\"Practice-Exercise:-parallel-lists\">Practice Exercise: parallel lists<a class=\"anchor-link\" href=\"#Practice-Exercise:-parallel-lists\">¶</a></h3><p>We store patient data in two lists of the same length. For example:</p>\n",
    "<pre><code>    sex_data =             [\"m\", \"f\", \"f\", \"m\", \"m\", \"f\"]\n",
    "    ward_data =            [  1,   3,   2,   2,   1,   2] \n",
    "    duration_data =        [ 10,   5,   7,   2,   3,   4]\n",
    "\n",
    "</code></pre>\n",
    "<p>Write a function that computes the average length of stay in the hospital for a given sex, in a given ward. The function signature is:</p>\n"
   ]
  },
  {
   "cell_type": "code",
   "execution_count": null,
   "metadata": {},
   "outputs": [],
   "source": [
    "def avg_stay(sex, ward, sex_data, ward_data, duration_data):\n",
    "    \"\"\" (str, int, list of int, list of str, list of int) -> float\n",
    "    \n",
    "    Return the average duration of stay for patients of sex sex in ward ward,\n",
    "    given parallel list of sexes sex_data, list of wards ward_data, and \n",
    "    list of duration of stay duration_data.\n",
    "    \n",
    "    >>> sex_data =       [\"m\", \"f\", \"f\", \"m\", \"m\", \"f\"]\n",
    "    >>> ward_data =      [  1,   3,   2,   2,   1,   2] \n",
    "    >>> duration_data =  [ 10,   5,   7,   2,   3,   4]\n",
    "    >>> avg_stay(\"f\", 2, sex_data, ward_data, duration_data)\n",
    "    5.5\n",
    "    \"\"\""
   ]
  },
  {
   "cell_type": "markdown",
   "metadata": {},
   "source": [
    "\n",
    "<h3 id=\"Practice-Exercise:-matching-strings\">Practice Exercise: matching strings<a class=\"anchor-link\" href=\"#Practice-Exercise:-matching-strings\">¶</a></h3><p>Write a function that returns True iff string <code>s1</code> starts with string <code>s2</code>. For example,</p>\n",
    "<p><code>starts_with(\"abc\", \"ab\")</code> should return <code>True</code></p>\n",
    "<p><code>starts_with(\"ad\", \"ab\")</code> should return <code>False</code></p>\n"
   ]
  },
  {
   "cell_type": "code",
   "execution_count": null,
   "metadata": {},
   "outputs": [],
   "source": [
    "def starts_with(s1, s2):\n",
    "    \"\"\" (str, str) -> bool\n",
    "    \n",
    "    Return True iff the string s1 starts with the string s2.\n",
    "    \n",
    "    >>> starts_with(\"abc\", \"ab\")\n",
    "    True\n",
    "    >>> starts_with(\"ad\", \"ab\")\n",
    "    False    \n",
    "    \"\"\""
   ]
  },
  {
   "cell_type": "markdown",
   "metadata": {},
   "source": [
    "---\n",
    "## Section 5: Nested lists and loops\n",
    "<p>Turtles all the way down.</p>"
   ]
  },
  {
   "cell_type": "markdown",
   "metadata": {},
   "source": [
    "\n",
    "<h3 id=\"Nested-Lists-and-Loops\">Nested Lists and Loops<a class=\"anchor-link\" href=\"#Nested-Lists-and-Loops\">¶</a></h3>\n"
   ]
  },
  {
   "cell_type": "markdown",
   "metadata": {},
   "source": [
    "\n",
    "<p>We've seen lists with <code>int</code>, <code>float</code>, <code>bool</code>, and <code>str</code> items.  When a <code>list</code> contains items of type <code>list</code>, this is called a <em>nested list</em>. Here is an example:</p>\n"
   ]
  },
  {
   "cell_type": "code",
   "execution_count": null,
   "metadata": {
    "collapsed": true
   },
   "outputs": [],
   "source": [
    "rhymes = [['cat', 'hat', 'fat'], ['mouse', 'house', 'louse'], ['be', 'see', 'key', 'he']]"
   ]
  },
  {
   "cell_type": "markdown",
   "metadata": {},
   "source": [
    "\n",
    "<p>What is the type of <code>rhymes?</code></p>\n"
   ]
  },
  {
   "cell_type": "code",
   "execution_count": null,
   "metadata": {
    "collapsed": true
   },
   "outputs": [],
   "source": [
    "type(rhymes)"
   ]
  },
  {
   "cell_type": "markdown",
   "metadata": {},
   "source": [
    "\n",
    "<p>What is the type of the first item in <code>rhymes</code>?</p>\n"
   ]
  },
  {
   "cell_type": "code",
   "execution_count": null,
   "metadata": {
    "collapsed": true
   },
   "outputs": [],
   "source": [
    "type(rhymes[0])"
   ]
  },
  {
   "cell_type": "code",
   "execution_count": null,
   "metadata": {
    "collapsed": true
   },
   "outputs": [],
   "source": [
    "rhymes[0]"
   ]
  },
  {
   "cell_type": "markdown",
   "metadata": {},
   "source": [
    "\n",
    "<p>Since <code>rhymes[0]</code> produces the list <code>['cat', 'hat', 'fat']</code>, indexing into that list at index 1 produces <code>hat</code>:</p>\n"
   ]
  },
  {
   "cell_type": "code",
   "execution_count": null,
   "metadata": {
    "collapsed": true
   },
   "outputs": [],
   "source": [
    "rhymes[0][1]"
   ]
  },
  {
   "cell_type": "markdown",
   "metadata": {},
   "source": [
    "\n",
    "<p>Using <code>rhymes</code>, give expressions that would produce each of the following values:</p>\n",
    "<ul>\n",
    "<li><p><code>'louse'</code></p>\n",
    "</li>\n",
    "<li><p><code>'key'</code></p>\n",
    "</li>\n",
    "<li><p><code>['be', 'see', 'key', 'he']</code></p>\n",
    "</li>\n",
    "<li><p><code>['hat', 'fat']</code></p>\n",
    "</li>\n",
    "</ul>\n"
   ]
  },
  {
   "cell_type": "markdown",
   "metadata": {},
   "source": [
    "\n",
    "<h3 id=\"Looping-over-a-nested-list\">Looping over a nested list<a class=\"anchor-link\" href=\"#Looping-over-a-nested-list\">¶</a></h3>\n"
   ]
  },
  {
   "cell_type": "markdown",
   "metadata": {},
   "source": [
    "\n",
    "<p>Consider the following loop using our <code>rhymes</code> list:</p>\n"
   ]
  },
  {
   "cell_type": "code",
   "execution_count": null,
   "metadata": {
    "collapsed": true
   },
   "outputs": [],
   "source": [
    "for item in rhymes:\n",
    "    # do something with item\n",
    "    print(item)"
   ]
  },
  {
   "cell_type": "markdown",
   "metadata": {},
   "source": [
    "\n",
    "<p>Each iteration through the loop, variable <code>item</code> refers to one of the inner lists.</p>\n"
   ]
  },
  {
   "cell_type": "markdown",
   "metadata": {},
   "source": [
    "\n",
    "<h3 id=\"Example:-hospital-visits\">Example: hospital visits<a class=\"anchor-link\" href=\"#Example:-hospital-visits\">¶</a></h3>\n"
   ]
  },
  {
   "cell_type": "markdown",
   "metadata": {},
   "source": [
    "\n",
    "<p>Suppose we have a list where each item represents the visit dates for a particular patient in the last month. We want to calculate the highest number of visits made by any patient. Let's write a function to do this.</p>\n"
   ]
  },
  {
   "cell_type": "markdown",
   "metadata": {},
   "source": [
    "\n",
    "<p>First, here is an example call:</p>\n",
    "<pre><code>&gt;&gt;&gt; max_visits([[2, 6], [3, 10], [15], [23], [1, 8, 15, 22, 29], [14]])\n",
    "5</code></pre>\n"
   ]
  },
  {
   "cell_type": "markdown",
   "metadata": {},
   "source": [
    "\n",
    "<p>Next, the type contract:</p>\n",
    "<pre><code>(list of list of int) -&gt; int</code></pre>\n"
   ]
  },
  {
   "cell_type": "markdown",
   "metadata": {},
   "source": [
    "\n",
    "<p>Next, the header (the <code>def</code> line), which involves naming the parameter:</p>\n"
   ]
  },
  {
   "cell_type": "code",
   "execution_count": null,
   "metadata": {
    "collapsed": true
   },
   "outputs": [],
   "source": [
    "def max_visits(visits_by_patient):\n",
    "    \"\"\" (list of list of int) -> int \n",
    "    \n",
    "    Return the maximum number of visits made by any patient in visits_by_patient.\n",
    "    \n",
    "    >>> max_visits([[2, 6], [3, 10], [15], [23], [1, 8, 15, 22, 29], [14]])\n",
    "    5\n",
    "    \"\"\""
   ]
  },
  {
   "cell_type": "markdown",
   "metadata": {},
   "source": [
    "\n",
    "<p>Now, code the body.</p>\n"
   ]
  },
  {
   "cell_type": "markdown",
   "metadata": {},
   "source": [
    "\n",
    "<p>If we had a single list of visit dates, and wanted to know the number of visits what would we do? Call <code>len</code> on the list.\n",
    "So, we need to do this for each item (each inner list) of our <code>visits_by_patient</code> outer list.</p>\n"
   ]
  },
  {
   "cell_type": "code",
   "execution_count": null,
   "metadata": {
    "collapsed": true
   },
   "outputs": [],
   "source": [
    "def max_visits(visits_by_patient):\n",
    "    \"\"\" (list of list of it) -> int \n",
    "    \n",
    "    Return the maximum number of visits made by any patient in visits_by_patient.\n",
    "    >>> max_visits([[2, 6], [3, 10], [15], [23], [1, 8, 15, 22, 29], [14]])\n",
    "    5\n",
    "    \"\"\"\n",
    "    \n",
    "    max_so_far = 0\n",
    "    for patient_list in visits_by_patient:\n",
    "        visits = len(patient_list)\n",
    "        if visits > max_so_far:\n",
    "            max_so_far = visits\n",
    "    return max_so_far"
   ]
  },
  {
   "cell_type": "code",
   "execution_count": null,
   "metadata": {
    "collapsed": true
   },
   "outputs": [],
   "source": [
    "max_visits([[2, 6], [3, 10], [15], [23], [1, 8, 15, 22, 29], [14]])"
   ]
  },
  {
   "cell_type": "markdown",
   "metadata": {},
   "source": [
    "\n",
    "<h3 id=\"Practice-Exercise:-symptom-count\">Practice Exercise: symptom count<a class=\"anchor-link\" href=\"#Practice-Exercise:-symptom-count\">¶</a></h3>\n"
   ]
  },
  {
   "cell_type": "markdown",
   "metadata": {},
   "source": [
    "\n",
    "<p>Suppose we have a nested list where each inner list contains strings that represent symptoms exhibited by the a patient. Write a function that takes this list as a parameter and returns a new list containing integers. For each patient, the new list should contain the number of symptoms they were exhibiting.</p>\n",
    "<p>Here is an example:</p>\n",
    "<pre><code>&gt;&gt;&gt; symptom_count([['fatigue', 'abdominal swelling', 'bruising'], ['loss of appetite', 'fatigue']])\n",
    "[3, 2]\n",
    "\n",
    "</code></pre>\n",
    "<p>Follow the design recipe and start by writing the docstring.</p>\n"
   ]
  },
  {
   "cell_type": "markdown",
   "metadata": {},
   "source": [
    "\n",
    "<h3 id=\"Heterogeneous-Lists\">Heterogeneous Lists<a class=\"anchor-link\" href=\"#Heterogeneous-Lists\">¶</a></h3><p>In Python, the items of a list can be of different types. For example, it is possible to have a list like this:</p>\n",
    "<pre><code>['Milos', 'Jones', 48, 'male', 'smoker', 210]\n",
    "\n",
    "</code></pre>\n",
    "<p>that represents one person's personal information. (The last number is total cholesterol in mg/dL.)</p>\n",
    "<p>Then, we could have a list of elements like this to represent a list of people.</p>\n",
    "<p><code>[ ['Milos', 'Jones', 48, 'male', 'smoker', 210],</code>\n",
    "<code>['Delia', 'Chan', 39, 'female', 'non-smoker', 170],</code>\n",
    "<code>['Denise', 'Ross', 62, 'female', 'non-smoker', 150] ]</code></p>\n"
   ]
  },
  {
   "cell_type": "markdown",
   "metadata": {},
   "source": [
    "\n",
    "<h3 id=\"Practice-exercise:-last-names-of-female-patients\">Practice exercise: last names of female patients<a class=\"anchor-link\" href=\"#Practice-exercise:-last-names-of-female-patients\">¶</a></h3><p>Suppose we have a nested list, where each inner list contains a patient's first name (a <code>str</code>), last name (a <code>str</code>), age in years (an <code>int</code>), sex (a <code>str</code>), and cholesterol in mg/dL (an <code>int</code>).  Write a program that produces a list of the last names of female patients.</p>\n"
   ]
  },
  {
   "cell_type": "markdown",
   "metadata": {},
   "source": [
    "\n",
    "<h3 id=\"Nested-Loops\">Nested Loops<a class=\"anchor-link\" href=\"#Nested-Loops\">¶</a></h3><p>To solve some problems, we need to loop not only over the items of the outer list, but we also over the items of each of the inner lists.  This is called a <em>nested loop</em>.</p>\n",
    "<h3 id=\"Example:-average-heart-rates\">Example: average heart rates<a class=\"anchor-link\" href=\"#Example:-average-heart-rates\">¶</a></h3><p>Suppose we have a list that represents repeated heart-rate measurements for the same patient over a number of tests. Each inner-list is a test/situation and for that test, we monitored the heart rate for a little while taking a few measurements. Now we would like to calculate the average of the measurements for each test.</p>\n",
    "<pre><code>hr = [[72, 75, 71, 73],   # resting\n",
    "      [91, 90, 94, 93],   # walking slowly\n",
    "      [130, 135, 139, 142], # running on treadmill\n",
    "      [120, 118, 110, 105, 100, 98]] # after minute recovery</code></pre>\n"
   ]
  },
  {
   "cell_type": "markdown",
   "metadata": {},
   "source": [
    "\n",
    "<p>Suppose we can't use the built-in <code>sum()</code> function, since the point is to use a loop inside outer loop!</p>\n"
   ]
  },
  {
   "cell_type": "code",
   "execution_count": null,
   "metadata": {
    "collapsed": true
   },
   "outputs": [],
   "source": [
    "hr = [[72, 75, 71, 73],              # resting\n",
    "      [91, 90, 94, 93],              # walking slowly\n",
    "      [130, 135, 139, 142],          # running on treadmill \n",
    "      [120, 118, 110, 105, 100, 98]] # after a minute recovery\n",
    "\n",
    "\n",
    "# start with an empty list that we will build to return (or print)\n",
    "result = []\n",
    "\n",
    "# loop over the outer list, each element is a test\n",
    "for test in hr:\n",
    "    \n",
    "    # reset the sum for this test to 0\n",
    "    sum = 0\n",
    "    \n",
    "    # loop over the inner list\n",
    "    for measurement in test:\n",
    "        sum = sum + measurement\n",
    "        \n",
    "    # finish up with this test before repeating the loop for the next one    \n",
    "    average = sum / len(test)\n",
    "    result.append(average)\n",
    "    \n",
    "print(result)"
   ]
  },
  {
   "cell_type": "markdown",
   "metadata": {},
   "source": [
    "\n",
    "<h3 id=\"Practice-Exercise:-heart-rate-ranges\">Practice Exercise: heart rate ranges<a class=\"anchor-link\" href=\"#Practice-Exercise:-heart-rate-ranges\">¶</a></h3><p>Suppose we have a nested list that represents repeated heart rate measurements for the same patient over a number of tests. Each inner list contains heart rates measured during one test.</p>\n",
    "<p>Find range of heart rate measurements for each inner list. Note: do not modify the lists!</p>\n",
    "<ol>\n",
    "<li>First approach: use the built-in functions <code>min</code> and <code>max</code>.</li>\n",
    "<li>Second approach: do not use built-in functions <code>min</code> and <code>max</code>.</li>\n",
    "</ol>\n",
    "<p>For the sample list:</p>\n",
    "<pre><code> hr = [[72, 75, 71, 73],   # resting\n",
    "      [91, 90, 94, 93],   # walking slowly\n",
    "      [130, 135, 139, 142], # running on treadmill\n",
    "      [120, 118, 110, 105, 100, 98]] # after minute recovery\n",
    "\n",
    "</code></pre>\n",
    "<p>The result is:</p>\n",
    "<pre><code>[4, 4, 12, 22]   </code></pre>\n"
   ]
  },
  {
   "cell_type": "markdown",
   "metadata": {},
   "source": [
    "---\n",
    "## Section 6: While loops\n",
    "<p>Combining loops and conditionals.</p>"
   ]
  },
  {
   "cell_type": "markdown",
   "metadata": {},
   "source": [
    "\n",
    "<h3 id=\"while-loop\"><code>while</code> loop<a class=\"anchor-link\" href=\"#while-loop\">¶</a></h3>\n"
   ]
  },
  {
   "cell_type": "markdown",
   "metadata": {},
   "source": [
    "\n",
    "<p>This example introduces a new kind of loop -- a <code>while</code> loop</p>\n",
    "<h3 id=\"Structure-of-a-while-loop\">Structure of a while loop<a class=\"anchor-link\" href=\"#Structure-of-a-while-loop\">¶</a></h3>\n",
    "<pre><code>    while expression:\n",
    "        body\n",
    "\n",
    "</code></pre>\n",
    "<p><strong>What it does</strong></p>\n",
    "<pre><code>    Check whether the Boolean expression (also known as the condition) is True.\n",
    "    If it is, execute the body of the loop and go back to the loop header.\n",
    "    Check again... \n",
    "\n",
    "</code></pre>\n",
    "<p>Important Note: If the condition becomes false <em>during</em> the body of the loop, the\n",
    "loop does not stop at that moment.  The only time a decision about whether\n",
    "to continue or stop is made is when the loop header is reached.</p>\n"
   ]
  },
  {
   "cell_type": "markdown",
   "metadata": {},
   "source": [
    "\n",
    "<h3 id=\"Example-using-while\">Example using <code>while</code><a class=\"anchor-link\" href=\"#Example-using-while\">¶</a></h3><p>A <code>list</code> contains the patient's report about their well-being for each day. Return the number of days it takes for the patient to say <code>\"I'm fine\"</code>.</p>\n",
    "<p>For example:</p>\n",
    "<pre><code>reports = [\"My leg hurts\",\n",
    "       \"I'm tired\",\n",
    "       \"I'm sleepy\",\n",
    "       \"Awesome!\",\n",
    "       \"Hi Doctor, I'm fine\",\n",
    "       \"Bad again\"]\n",
    "\n",
    "</code></pre>\n",
    "<p>For the list above, it takes 4 days for the patient to say <code>\"I'm fine\"</code>.</p>\n",
    "<p>Here is how to compute that using a while-loop:</p>\n"
   ]
  },
  {
   "cell_type": "code",
   "execution_count": null,
   "metadata": {
    "collapsed": true
   },
   "outputs": [],
   "source": [
    "reports = [\"My leg hurts\",\n",
    "           \"I'm tired\",\n",
    "           \"I'm sleepy\",\n",
    "           \"Awesome!\",\n",
    "           \"Hi Doctor, I'm fine\",\n",
    "           \"Bad again\"]\n",
    "\n",
    "n_days = 0\n",
    "while reports[n_days].find(\"I'm fine\") == -1:\n",
    "    n_days += 1\n",
    "\n",
    "print(n_days)"
   ]
  },
  {
   "cell_type": "markdown",
   "metadata": {},
   "source": [
    "\n",
    "<p>What happens when the phrase <code>\"I'm fine\"</code> does not occur in <code>reports</code>?  In the solution above, the <code>find</code> method will return -1 and the loop exits.</p>\n"
   ]
  },
  {
   "cell_type": "markdown",
   "metadata": {},
   "source": [
    "\n",
    "<h3 id=\"Loops-Conditions-and-Lazy-Evaluation\">Loops Conditions and Lazy Evaluation<a class=\"anchor-link\" href=\"#Loops-Conditions-and-Lazy-Evaluation\">¶</a></h3><p>The problem: print the characters of <code>str s</code>, up to the first vowel in <code>s</code>.</p>\n",
    "<p>The first attempt at solving this problem works nicely when <code>s</code> contains one or more vowels:</p>\n"
   ]
  },
  {
   "cell_type": "code",
   "execution_count": null,
   "metadata": {
    "collapsed": true
   },
   "outputs": [],
   "source": [
    "i = 0\n",
    "s = 'CTTCAGACCTTG'\n",
    "while not (s[i] in 'aeiouAEIOU'):\n",
    "    print(s[i])\n",
    "    i = i + 1"
   ]
  },
  {
   "cell_type": "markdown",
   "metadata": {},
   "source": [
    "\n",
    "<p>However, an error occurs when the string does not contain any vowels:</p>\n"
   ]
  },
  {
   "cell_type": "code",
   "execution_count": null,
   "metadata": {
    "collapsed": true
   },
   "outputs": [],
   "source": [
    "i = 0\n",
    "s = 'xyz'\n",
    "while not (s[i] in 'aeiouAEIOU'):\n",
    "    print(s[i])\n",
    "    i = i + 1"
   ]
  },
  {
   "cell_type": "markdown",
   "metadata": {},
   "source": [
    "\n",
    "<p>In the code above, the error occurs when <code>s</code> is indexed at <code>i</code> and <code>i</code> is outside of the range of valid indices. To prevent this error, add an additional condition is added to ensure that <code>i</code> is within the range of valid indices for <code>s</code>:</p>\n"
   ]
  },
  {
   "cell_type": "code",
   "execution_count": null,
   "metadata": {
    "collapsed": true
   },
   "outputs": [],
   "source": [
    "i = 0\n",
    "s = 'xyz'\n",
    "while i < len(s) and not (s[i] in 'aeiouAEIOU'):\n",
    "    print(s[i])\n",
    "    i = i + 1"
   ]
  },
  {
   "cell_type": "markdown",
   "metadata": {},
   "source": [
    "\n",
    "<p>The order of the conditions matters.  In Python, when the first operand to the <code>and</code> operator is <code>False</code>, the second operand is not evaluated.  Therefore, when <code>i &gt;= len(s)</code>, the first operand is <code>False</code>, so the second operand isn't evaluated and the index out of range error is avoided.</p>\n"
   ]
  },
  {
   "cell_type": "markdown",
   "metadata": {},
   "source": [
    "\n",
    "<h3 id=\"Practice-Exercise:-checking-for-valid-input\">Practice Exercise: checking for valid input<a class=\"anchor-link\" href=\"#Practice-Exercise:-checking-for-valid-input\">¶</a></h3><p>a) Write a function <code>yes_or_no</code> that asks a user to enter either <code>'yes'</code> or <code>'no'</code> and keeps looping asking again and\n",
    "again until the user enters one of these two options.</p>\n",
    "<p>b) Now, change your function so that it accepts any case variation such as <code>'Yes'</code>, <code>'YES'</code> or even <code>'nO'</code> and then returns the lowercase version of what the user provided. But if the user inputs <code>'nope'</code> or <code>'maybe'</code> or anything else, it doesn't return and asks again for <code>'yes'</code> or <code>'no'</code>.</p>\n"
   ]
  },
  {
   "cell_type": "markdown",
   "metadata": {},
   "source": [
    "\n",
    "<h3 id=\"Practice-Exercise:-a-better-guessing-game\">Practice Exercise: a better guessing game<a class=\"anchor-link\" href=\"#Practice-Exercise:-a-better-guessing-game\">¶</a></h3>\n"
   ]
  },
  {
   "cell_type": "markdown",
   "metadata": {},
   "source": [
    "\n",
    "<p>In a previous session, we wrote code to guess a number.  If the user guessed wrong, we reported <code>Too high</code>, <code>Too low</code>, or <code>You got it</code>:</p>\n"
   ]
  },
  {
   "cell_type": "code",
   "execution_count": null,
   "metadata": {
    "collapsed": true
   },
   "outputs": [],
   "source": [
    "# The first two lines generate a random integer between 1 and 10.\n",
    "import random\n",
    "secret = random.randint(1, 10)\n",
    "\n",
    "guess = int(input('Enter a number between 1 and 10: '))\n",
    "if guess == secret:\n",
    "    print('You got it')\n",
    "elif guess > secret:\n",
    "    print('Too high')\n",
    "else:\n",
    "    print('Too low')"
   ]
  },
  {
   "cell_type": "markdown",
   "metadata": {},
   "source": [
    "\n",
    "<p>Now, rather than have the user guess only once, prompt the user to guess until they get it right.</p>\n"
   ]
  }
 ],
 "metadata": {
  "kernelspec": {
   "display_name": "Python 3",
   "language": "python",
   "name": "python3"
  },
  "language_info": {
   "codemirror_mode": {
    "name": "ipython",
    "version": 3
   },
   "file_extension": ".py",
   "mimetype": "text/x-python",
   "name": "python",
   "nbconvert_exporter": "python",
   "pygments_lexer": "ipython3",
   "version": "3.6.6"
  }
 },
 "nbformat": 4,
 "nbformat_minor": 2
}
