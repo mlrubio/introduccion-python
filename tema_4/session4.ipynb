{
 "cells": [
  {
   "cell_type": "markdown",
   "metadata": {},
   "source": [
    "\n",
    "# Session 4\n",
    "<p>In this session we will learn about how to work with files and dictionaries in python.These modules have been developed at the University of Toronto <i>(Jennifer Campbell and Michelle Craig)</i> and the university of Delft <i>(Mark Bakker)</i>. They have beed adapted to the needs of students at the University of Granada</p>\n"
   ]
  },
  {
   "cell_type": "markdown",
   "metadata": {},
   "source": [
    "---\n",
    "<h2 id=\"Dictionaries\">Section 1: Dictionaries<a class=\"anchor-link\" href=\"#Dictionaries\">¶</a></h2><h2 id=\"Motivation\">Motivation<a class=\"anchor-link\" href=\"#Motivation\">¶</a></h2><p>Suppose we need to represent years and the total North American fossil fuel \n",
    "CO2 emissions for those years.</p>\n",
    "<p>Question: How should we do this?</p>\n",
    "<ul>\n",
    "<li><p>One option is to use <em>parallel lists</em>, in which the <code>years</code> list at position <code>i</code> corresponds to the <code>emissions</code> list at position <code>i</code>:</p>\n",
    "<p>years = [1799, 1800, 1801, 1802, 1902, 2002] # metric tons of carbon, thousands\n",
    "  emissions = [1, 70, 74, 79, 82, 1733297]</p>\n",
    "<p>Question: How would operations on the data work?  For example:</p>\n",
    "<pre><code> (a) to add an entry, such as year `1950` and emissions `734914`?\n",
    "\n",
    " We need to modify both lists.  \n",
    " We could append or keep both lists sorted (then must find the right spot\n",
    " and insert there).\n",
    " Either way, both lists must be kept in sync.\n",
    "\n",
    " (b) to edit the emissions value for a particular year?\n",
    "\n",
    " We need to find the year in the years lists and modify the \n",
    " corresponding item in the emissions list.</code></pre>\n",
    "</li>\n",
    "</ul>\n",
    "<pre><code>In general, storing the vlaues in this format is not terribly convenient.\n",
    "\n",
    "Notice that the lists don't explicitly represent the associations like (1799, 1).\n",
    "\n",
    "</code></pre>\n",
    "<ul>\n",
    "<li><p>A second option is to use <em>a list of lists</em>.  For example,</p>\n",
    "<p>years_emissions = [[1799, 1], [1800, 70], [1801, 74], [1802, 79], [1902, 82], [2002, 1733297]]</p>\n",
    "<p>Better, but still hard to look up a year, because we must search the list to find it.</p>\n",
    "</li>\n",
    "</ul>\n",
    "<p>There is a better way: a new type of object called a <em>dictionary</em>, which is represented by Python's type <code>dict</code>.</p>\n"
   ]
  },
  {
   "cell_type": "markdown",
   "metadata": {},
   "source": [
    "\n",
    "<h2 id=\"Dictionary-basics\">Dictionary basics<a class=\"anchor-link\" href=\"#Dictionary-basics\">¶</a></h2><p>A dictionary keeps track of associations for you. Let's consider the emissions example:</p>\n"
   ]
  },
  {
   "cell_type": "code",
   "execution_count": null,
   "metadata": {},
   "outputs": [],
   "source": [
    "# Braces indicate that you are defining a dictionary.\n",
    "emissions_by_year = {1799: 1, 1800: 70, 1801: 74, 1802: 79, 1902: 82, 2002: 1733297}        \n",
    "\n",
    "# Look up the emissions for the given year\n",
    "print(emissions_by_year[1801])\n",
    "\n",
    "# Add another year to the dictionary\n",
    "emissions_by_year[1950] = 734914\n",
    "print(emissions_by_year[1950])"
   ]
  },
  {
   "cell_type": "markdown",
   "metadata": {},
   "source": [
    "\n",
    "<p>Dictionary entries have two parts: a <em>key</em> and a <em>value</em>.  In our example, the key is the year and the value is the CO2 emissions.</p>\n",
    "<p>Why is it called a key?\n",
    "Like a physical (or metaphorical) key, it provides a means of gaining access \n",
    "to something.</p>\n",
    "<p>Keys don't have to be numbers, but they do have to be immutable objects.</p>\n"
   ]
  },
  {
   "cell_type": "code",
   "execution_count": null,
   "metadata": {},
   "outputs": [],
   "source": [
    "d = {1: 5, 3: 45, 4: 10}\n",
    "d[\"abc\"] = \"Hello!\"\n",
    "d[ [1, 2, 3] ] = 77        # error; the list [1, 2, 3] cannot be a key because it is mutable."
   ]
  },
  {
   "cell_type": "markdown",
   "metadata": {},
   "source": [
    "\n",
    "<p>And the associated values can be anything:  any type, and mutable or not.</p>\n"
   ]
  },
  {
   "cell_type": "code",
   "execution_count": null,
   "metadata": {},
   "outputs": [],
   "source": [
    "d = {}\n",
    "d[5] = (\"Diane\", \"978-6024\", \"BA\", 4236)\n",
    "d[\"weird\"] = [\"my\", \"you\", \"walrus\"]\n",
    "d[\"nested\"] = {\"diane\": 4236, \"paul\": 4234}  # The values can even be dictionaries.\n",
    "print(d)"
   ]
  },
  {
   "cell_type": "markdown",
   "metadata": {},
   "source": [
    "\n",
    "<p>Dictionaries themselves are mutable.</p>\n"
   ]
  },
  {
   "cell_type": "code",
   "execution_count": null,
   "metadata": {},
   "outputs": [],
   "source": [
    "print(id(d))\n",
    "d[\"me\"] = \"you\"  # Does NOT create a new dict.  It changes this one.\n",
    "print(id(d))"
   ]
  },
  {
   "cell_type": "markdown",
   "metadata": {},
   "source": [
    "\n",
    "<h2 id=\"Dictionary-operations\">Dictionary operations<a class=\"anchor-link\" href=\"#Dictionary-operations\">¶</a></h2>\n"
   ]
  },
  {
   "cell_type": "code",
   "execution_count": null,
   "metadata": {},
   "outputs": [],
   "source": [
    "print(emissions_by_year)\n",
    "        \n",
    "# extend (add a new key and its value)\n",
    "emissions_by_year[2009] = 1000000   # Wishful thinking\n",
    "        \n",
    "# update (change the value associated with a key)\n",
    "emissions_by_year[2009] = 10        # Old value is tossed out\n",
    "print(emissions_by_year)            # Reports most recent values\n",
    "        \n",
    "# check for membership\n",
    "1950 in emissions_by_year           # A dict operator (not a function\n",
    "                                    # or method).  This one is binary."
   ]
  },
  {
   "cell_type": "code",
   "execution_count": null,
   "metadata": {},
   "outputs": [],
   "source": [
    "# remove a key-value pair\n",
    "del emissions_by_year[1950]         # A unary dict operator.\n",
    "1950 in emissions_by_year           # This is now false"
   ]
  },
  {
   "cell_type": "code",
   "execution_count": null,
   "metadata": {},
   "outputs": [],
   "source": [
    "# determine length (number of key-value pairs)\n",
    "len(emissions_by_year)"
   ]
  },
  {
   "cell_type": "code",
   "execution_count": null,
   "metadata": {},
   "outputs": [],
   "source": [
    "# Iterating over the dictionary\n",
    "for key in emissions_by_year:\n",
    "    print(key)"
   ]
  },
  {
   "cell_type": "markdown",
   "metadata": {},
   "source": [
    "\n",
    "<p>Why did the keys come out in an unexpected order??</p>\n",
    "<p>Dictionaries are unordered.<br/>\n",
    " The order that the keys are traversed (when you loop through) is arbitrary: \n",
    " there is no guarantee that it will be in the order that they were added.</p>\n",
    "<p>Silly analogy: A dict is like a filing assistant who is very efficient\n",
    " but keeps everything in a secret room.  You have no idea how he organizes\n",
    " things, and you don't care -- as long as he can pull the file you need\n",
    " when you give him the key.</p>\n"
   ]
  },
  {
   "cell_type": "markdown",
   "metadata": {},
   "source": [
    "\n",
    "<h2 id=\"Dictionary-methods\">Dictionary methods<a class=\"anchor-link\" href=\"#Dictionary-methods\">¶</a></h2>\n"
   ]
  },
  {
   "cell_type": "code",
   "execution_count": null,
   "metadata": {},
   "outputs": [],
   "source": [
    "emissions_by_year.keys()"
   ]
  },
  {
   "cell_type": "code",
   "execution_count": null,
   "metadata": {},
   "outputs": [],
   "source": [
    "emissions_by_year.values()"
   ]
  },
  {
   "cell_type": "markdown",
   "metadata": {},
   "source": [
    "\n",
    "<p>Method <code>items</code> produces the (key, value) pairs</p>\n"
   ]
  },
  {
   "cell_type": "code",
   "execution_count": null,
   "metadata": {},
   "outputs": [],
   "source": [
    "emissions_by_year.items()"
   ]
  },
  {
   "cell_type": "markdown",
   "metadata": {},
   "source": [
    "\n",
    "<p>To work with the data returned by the methods described above, we typically convert it to type list.  For example:</p>\n"
   ]
  },
  {
   "cell_type": "code",
   "execution_count": null,
   "metadata": {},
   "outputs": [],
   "source": [
    "years = list(emissions_by_year.keys())\n",
    "print(years)"
   ]
  },
  {
   "cell_type": "markdown",
   "metadata": {},
   "source": [
    "\n",
    "<h3 id=\"Practice-Exercise:-working-with-dictionaries\">Practice Exercise: working with dictionaries<a class=\"anchor-link\" href=\"#Practice-Exercise:-working-with-dictionaries\">¶</a></h3>\n"
   ]
  },
  {
   "cell_type": "markdown",
   "metadata": {},
   "source": [
    "\n",
    "<ol>\n",
    "<li>Create a variable <code>doctor_to_patients</code> that refers to an empty dictionary.</li>\n",
    "<li>Add an entry for <code>'Dr. Ngo'</code> with <code>1200</code> patients.</li>\n",
    "<li>Add another entry for <code>'Dr. Singh'</code> with <code>1400</code> patients.</li>\n",
    "<li>Add a third entry for <code>'Dr. Gray'</code> with <code>1350</code> patinets.</li>\n",
    "<li>Print the number of patients associated with <code>'Dr. Singh'</code>.</li>\n",
    "<li>Change the number of patients associated with <code>'Dr. Singh'</code> to <code>1401</code>.</li>\n",
    "<li>Write an expression to get the number of key-value pairs in the dictionary.</li>\n",
    "<li>Write an expression to get the doctors.</li>\n",
    "<li>Write an expression to get the patient quantities.</li>\n",
    "<li>Write an expression to check whether <code>'Dr. Koch'</code> is a key in the dictionary.</li>\n",
    "<li>Remove the key-value pair with <code>'Dr. Ngo'</code> as the key.   </li>\n",
    "</ol>\n"
   ]
  },
  {
   "cell_type": "markdown",
   "metadata": {},
   "source": [
    "\n",
    "<h2 id=\"Iterating-through-a-dictionary\">Iterating through a dictionary<a class=\"anchor-link\" href=\"#Iterating-through-a-dictionary\">¶</a></h2>\n"
   ]
  },
  {
   "cell_type": "code",
   "execution_count": null,
   "metadata": {},
   "outputs": [],
   "source": [
    "phone = {'555-7632': 'Paul', '555-9832': 'Andrew', '555-6677': 'Dan', \n",
    "         '555-9823': 'Michael', '555-6342' : 'Cathy', '555-7343' : 'Diane'}"
   ]
  },
  {
   "cell_type": "markdown",
   "metadata": {},
   "source": [
    "\n",
    "<p>(a) Going through the keys</p>\n"
   ]
  },
  {
   "cell_type": "code",
   "execution_count": null,
   "metadata": {},
   "outputs": [],
   "source": [
    "# The proper way:\n",
    "for key in phone:\n",
    "    print(key)\n",
    "\n",
    "# This is equivalent, but not considered good style:\n",
    "#for key in phone.keys():\n",
    "#    print(key)"
   ]
  },
  {
   "cell_type": "markdown",
   "metadata": {},
   "source": [
    "\n",
    "<p>(b) Going through the key-value pairs:</p>\n"
   ]
  },
  {
   "cell_type": "code",
   "execution_count": null,
   "metadata": {},
   "outputs": [],
   "source": [
    "# This gives you a series of tuples.\n",
    "for item in phone.items():\n",
    "    print(item)"
   ]
  },
  {
   "cell_type": "code",
   "execution_count": null,
   "metadata": {},
   "outputs": [],
   "source": [
    "# You can pull the pieces of the tuple out as you go:\n",
    "for (number, name) in phone.items():\n",
    "    print(\"Name:\", name, \"; Phone Number:\", number)"
   ]
  },
  {
   "cell_type": "markdown",
   "metadata": {},
   "source": [
    "\n",
    "<h3 id=\"Practice-Exercise:-looping-over-dictionaries\">Practice Exercise: looping over dictionaries<a class=\"anchor-link\" href=\"#Practice-Exercise:-looping-over-dictionaries\">¶</a></h3>\n"
   ]
  },
  {
   "cell_type": "markdown",
   "metadata": {},
   "source": [
    "\n",
    "<p>The following dictionary has brand name drugs as keys and generic names as values:</p>\n",
    "<pre><code>branch_to_generic = {'lipitor': 'atorvastatin',\n",
    "                     'zithromax': 'azithromycin',\n",
    "                     'amoxcil': 'amoxicillin',\n",
    "                     'singulair': 'montelukast',\n",
    "                     'nexium': 'esomeprazole',\n",
    "                     'plavix': 'clopidogrel',\n",
    "                     'abilify': 'ARIPiprazole'}\n",
    "\n",
    "</code></pre>\n",
    "<p>Using the dictionary above and for loops, complete the following tasks:</p>\n",
    "<ol>\n",
    "<li>Get a list of brand name drugs that start with the letter <code>'a'</code>.</li>\n",
    "<li>Count the number of generic drugs that end with the letter <code>'n'</code>.</li>\n",
    "<li>Get a list of brand name drugs in alphabetical order.\n",
    "(Hint: this can be solved both with or without a for loop.  Once you\n",
    "have solved it one way, try to solve it using a different approach.)</li>\n",
    "</ol>\n"
   ]
  },
  {
   "cell_type": "markdown",
   "metadata": {},
   "source": [
    "\n",
    "<h2 id=\"Inverting-a-dictionary\">Inverting a dictionary<a class=\"anchor-link\" href=\"#Inverting-a-dictionary\">¶</a></h2><p>Here's a dictionary mapping phone numbers to names.<br/>\n",
    " Some people have more than one phone number, of course.</p>\n"
   ]
  },
  {
   "cell_type": "code",
   "execution_count": null,
   "metadata": {},
   "outputs": [],
   "source": [
    "phone_to_person = {'555-7632': 'Paul', '555-9832': 'Andrew', '555-6677': 'Dan', \n",
    "                   '555-9823': 'Michael', '555-6342' : 'Cathy', \n",
    "                   '555-2222': 'Michael', '555-7343' : 'Diane'}"
   ]
  },
  {
   "cell_type": "markdown",
   "metadata": {},
   "source": [
    "\n",
    "<p>Suppose we want to create a list of all of Michael's phone numbers:</p>\n"
   ]
  },
  {
   "cell_type": "code",
   "execution_count": null,
   "metadata": {},
   "outputs": [],
   "source": [
    "# Method 1\n",
    "michael = []\n",
    "for key in phone_to_person:\n",
    "    if phone_to_person[key] == 'Michael':\n",
    "        michael.append(key)\n",
    "print(michael)"
   ]
  },
  {
   "cell_type": "markdown",
   "metadata": {},
   "source": [
    "\n",
    "<p>But what if I want to be able to do this for all people? \n",
    " Question: is there some object you could create to make this easy?\n",
    " Answer: A dictionary!</p>\n",
    "<ul>\n",
    "<li>The original dictionary takes us from numbers to names.</li>\n",
    "<li>The new dictionary will take us in the reverse direction, from names to numbers</li>\n",
    "</ul>\n"
   ]
  },
  {
   "cell_type": "code",
   "execution_count": null,
   "metadata": {},
   "outputs": [],
   "source": [
    "new_phone = {}\n",
    "for (number, name) in phone_to_person.items():\n",
    "    if name in new_phone:\n",
    "        new_phone[name].append(number)\n",
    "    else:\n",
    "        new_phone[name] = [number]\n",
    "new_phone"
   ]
  },
  {
   "cell_type": "markdown",
   "metadata": {},
   "source": [
    "\n",
    "<p>We call this an <em>inverted</em> dictionary.</p>\n"
   ]
  },
  {
   "cell_type": "markdown",
   "metadata": {},
   "source": [
    "\n",
    "<h2 id=\"Reading-from-and-Writing-to-Files\">Section 2: Reading from and Writing to Files<a class=\"anchor-link\" href=\"#Reading-from-and-Writing-to-Files\">¶</a></h2><h2 id=\"Introduction\">Introduction<a class=\"anchor-link\" href=\"#Introduction\">¶</a></h2><p>So far, the data in our programs has either been hardcoded into the program itself or it came from the user who typed it in using the keyboard. This is pretty limiting and we will want programs that can read data from files.</p>\n",
    "<p>In this lesson, we'll work with text files. Text files are files that use one of a number of\n",
    "standard encoding schemes where the file can be interpretted as printable characters. Later, you might learn about\n",
    "binary files, where the file contents are not viewable as characters, but we'll start with text files for now.</p>\n",
    "<h2 id=\"Opening-a-File\">Opening a File<a class=\"anchor-link\" href=\"#Opening-a-File\">¶</a></h2><p>To open a file, we need to specify the name of the file using a string.</p>\n",
    "<p>We can use variable to represent the name and could:</p>\n",
    "<ul>\n",
    "<li>Set it to a string literal, if the program is always going to use the same filename.</li>\n",
    "<li>Set it to a filename entered by the user using <code>input()</code>.</li>\n",
    "</ul>\n",
    "<p>Next, we use the command <code>open</code> and the name of the file:</p>\n"
   ]
  },
  {
   "cell_type": "code",
   "execution_count": null,
   "metadata": {},
   "outputs": [],
   "source": [
    "filename = 'story.txt'\n",
    "file = open(filename, 'r')\n",
    "file"
   ]
  },
  {
   "cell_type": "markdown",
   "metadata": {},
   "source": [
    "\n",
    "<p>This opens the file named <code>story.txt</code> from the current directory. It is open for <em>reading</em> (that's the <code>r</code> mode) and the type of object is <code>io.TextIOWrapper</code>, but just think of it as an open file. The important conceptual idea here is that this object not only knows the contents of the file, but it knows our program's <em>current position</em> in the file. So once our program starts reading, it knows how <strong>much</strong> we've read and is able to keep giving us the next piece.</p>\n"
   ]
  },
  {
   "cell_type": "markdown",
   "metadata": {},
   "source": [
    "\n",
    "<h2 id=\"Reading-from-a-File\">Reading from a File<a class=\"anchor-link\" href=\"#Reading-from-a-File\">¶</a></h2><p>There are several other ways to read from a file.  In the following examples, the contents of <code>story.txt</code> are:</p>\n",
    "<pre><code>Mary had a little lamb\n",
    "\n",
    "His fleece was white as snow\n",
    "And everywhere that Mary went\n",
    "The lamb was sure to go\n",
    "\n",
    "</code></pre>\n",
    "<p>1) Read a single line</p>\n"
   ]
  },
  {
   "cell_type": "code",
   "execution_count": null,
   "metadata": {},
   "outputs": [],
   "source": [
    "myfile = open('story.txt', 'r')\n",
    "s = myfile.readline()   # Read a line into s.\n",
    "print(s)\n",
    "s                       # Notice the \\n that you only see when you look\n",
    "                        # at the contents of the variable."
   ]
  },
  {
   "cell_type": "markdown",
   "metadata": {},
   "source": [
    "\n",
    "<p>The <code>\\n</code> (backslash n) character is a single character representing a new line.</p>\n"
   ]
  },
  {
   "cell_type": "code",
   "execution_count": null,
   "metadata": {},
   "outputs": [],
   "source": [
    "s = myfile.readline()   # The next call continues where we left off.\n",
    " print(s)    \n",
    " s = myfile.readline()   # And so on...\n",
    " print(s)   \n",
    " myfile.close()"
   ]
  },
  {
   "cell_type": "markdown",
   "metadata": {},
   "source": [
    "\n",
    "<p>Notices that after line <code>His fleece was white as snow</code>, there is a blank line.  That is because the second line read contained only whitespace.</p>\n",
    "<p>We can use this approach to read an entire file, bit by bit, under our control.</p>\n"
   ]
  },
  {
   "cell_type": "markdown",
   "metadata": {},
   "source": [
    "\n",
    "<p>2) Read a certain number of characters</p>\n"
   ]
  },
  {
   "cell_type": "code",
   "execution_count": null,
   "metadata": {},
   "outputs": [],
   "source": [
    "filename = 'story.txt'\n",
    "myfile = open(filename)\n",
    "s = myfile.read(10)   # Read 10 characters into s.\n",
    "print(s)\n",
    "s = myfile.read(10)   # Read the next 10 characters into s.\n",
    "print(s)\n",
    "myfile.close()"
   ]
  },
  {
   "cell_type": "markdown",
   "metadata": {},
   "source": [
    "\n",
    "<p>We can also use this approach to read an entire file, bit by bit, under our control.</p>\n"
   ]
  },
  {
   "cell_type": "markdown",
   "metadata": {},
   "source": [
    "\n",
    "<p>3) Read one line at a time from beginning to end.</p>\n",
    "<p>If we know we want to read line by line through to the end of the file, a <code>for</code> loop makes this easy. This is probably the most common way to read a file. Use this approach unless you have a reason not to.</p>\n"
   ]
  },
  {
   "cell_type": "code",
   "execution_count": null,
   "metadata": {},
   "outputs": [],
   "source": [
    "f = open('story.txt')\n",
    "for line in f:\n",
    "    print(line)     # Or do whatever you wish to line\n",
    "\n",
    "myfile.close()     # Good habit: close a file when you are done with it."
   ]
  },
  {
   "cell_type": "markdown",
   "metadata": {},
   "source": [
    "\n",
    "<p>Question: Why is the output from the for loop double-spaced?\n",
    "Answer: <code>print</code> appends a <code>\\n</code> to the string and there is also a <code>\\n</code> at the end of each line.</p>\n",
    "<p>Question: How can you single space the output?\n",
    "Answer: Strip the newline character from the end of each line before you print.</p>\n"
   ]
  },
  {
   "cell_type": "code",
   "execution_count": null,
   "metadata": {},
   "outputs": [],
   "source": [
    "f = open('story.txt')\n",
    "for line in f:\n",
    "    line = line.strip('\\n')\n",
    "    print(line)"
   ]
  },
  {
   "cell_type": "markdown",
   "metadata": {},
   "source": [
    "\n",
    "<p>4) Read the entire file contents into a single string.</p>\n"
   ]
  },
  {
   "cell_type": "code",
   "execution_count": null,
   "metadata": {},
   "outputs": [],
   "source": [
    "filename = \"story.txt\"\n",
    "myfile = open(filename)\n",
    "s = myfile.read()  # Read the whole file and return it as a string.\n",
    "print(s)\n",
    "myfile.close()"
   ]
  },
  {
   "cell_type": "code",
   "execution_count": null,
   "metadata": {},
   "outputs": [],
   "source": [
    "s"
   ]
  },
  {
   "cell_type": "markdown",
   "metadata": {},
   "source": [
    "\n",
    "<p>(5) Use <code>readlines()</code> to read the file into a <code>list</code> of lines.</p>\n"
   ]
  },
  {
   "cell_type": "code",
   "execution_count": null,
   "metadata": {},
   "outputs": [],
   "source": [
    "myfile = open('story.txt')\n",
    "contents = myfile.readlines() \n",
    "type(contents)\n",
    "contents"
   ]
  },
  {
   "cell_type": "markdown",
   "metadata": {},
   "source": [
    "\n",
    "<p>Beginners often do one of these last two approaches because they seem easy.</p>\n",
    "<ul>\n",
    "<li>Question: What is the downside of reading it all in at once?</li>\n",
    "<li>Answer: It can potentially take a lot of space!</li>\n",
    "</ul>\n",
    "<p>Don't use this technique unless you really need access to the whole file at once.</p>\n",
    "<p>Usually, we can read a piece, deal with it, and toss it out.</p>\n"
   ]
  },
  {
   "cell_type": "markdown",
   "metadata": {},
   "source": [
    "\n",
    "<h2 id=\"Dealing-with-the-end-of-a-file\">Dealing with the end of a file<a class=\"anchor-link\" href=\"#Dealing-with-the-end-of-a-file\">¶</a></h2><p>With the <code>for</code> loop approach, the loop automatically stops when the end of the file is encountered.  Or never even iterates once if the file is empty!</p>\n",
    "<p>But what happens if you are at the end of the file when you call <code>read</code> or <code>readline</code>?<br/>\n",
    "You get the empty string.  You then know you can stop trying to read more.</p>\n",
    "<h3 id=\"Example\">Example<a class=\"anchor-link\" href=\"#Example\">¶</a></h3>\n"
   ]
  },
  {
   "cell_type": "code",
   "execution_count": null,
   "metadata": {},
   "outputs": [],
   "source": [
    "# Detecting the end of the file while reading line by line\n",
    "myfile = open('story.txt')\n",
    "next_line = myfile.readline()\n",
    "while next_line != \"\":\n",
    "    print(next_line)\n",
    "    next_line = myfile.readline()"
   ]
  },
  {
   "cell_type": "markdown",
   "metadata": {},
   "source": [
    "\n",
    "<h3 id=\"Practice-Exercise:-reading-a-file\">Practice Exercise: reading a file<a class=\"anchor-link\" href=\"#Practice-Exercise:-reading-a-file\">¶</a></h3><p>The file <code>january06.txt</code> contains data from the UTM weather station for January 2006. Download it from the C4M website\n",
    "to your local machine and put it in the same directory as where Wing is storing your programs. Figuring out where\n",
    "to store the files or how to specify the paths to your file is half the battle!</p>\n",
    "<ol>\n",
    "<li><p>Open it up to see what it looks like.</p>\n",
    "</li>\n",
    "<li><p>Write a Python program to open the file and read only the first line</p>\n",
    "</li>\n",
    "<li><p>Read the second line (this is still a header)</p>\n",
    "</li>\n",
    "<li><p>Read the third line into a variable <code>line</code>.</p>\n",
    "</li>\n",
    "<li><p>What is the type of the value that <code>line</code> refers to?</p>\n",
    "</li>\n",
    "<li><p>Call the method <code>split()</code> on variable <code>line</code> and save the return value. What is the type that is returned by this method call?</p>\n",
    "</li>\n",
    "<li><p>Look up the method <code>split()</code> in the Python 3 documentation.</p>\n",
    "</li>\n",
    "</ol>\n"
   ]
  },
  {
   "cell_type": "markdown",
   "metadata": {},
   "source": [
    "\n",
    "<h3 id=\"Practice-Exercise:-getting-information-from-a-file\">Practice Exercise: getting information from a file<a class=\"anchor-link\" href=\"#Practice-Exercise:-getting-information-from-a-file\">¶</a></h3><p>Write a program that:</p>\n",
    "<ol>\n",
    "<li>opens the file january06.txt</li>\n",
    "<li>reads in the header and ignores it</li>\n",
    "<li>uses a loop to read in all the rest of the lines one by one</li>\n",
    "<li>prints out only the day and the temperature from each line</li>\n",
    "</ol>\n"
   ]
  },
  {
   "cell_type": "markdown",
   "metadata": {},
   "source": [
    "\n",
    "<h3 id=\"Practice-Exercise:-find-coldest-day-and-time\">Practice Exercise: find coldest day and time<a class=\"anchor-link\" href=\"#Practice-Exercise:-find-coldest-day-and-time\">¶</a></h3><p>Now, write a program to find the day and time of the coldest reading in the file and then print that information.</p>\n",
    "<p>Hint: Be careful. You must convert the values to integers before you compare them. The string '11' &lt; '2'  but 11 &gt; 2.</p>\n"
   ]
  },
  {
   "cell_type": "markdown",
   "metadata": {},
   "source": [
    "\n",
    "<h2 id=\"Writing-to-a-file\">Writing to a file<a class=\"anchor-link\" href=\"#Writing-to-a-file\">¶</a></h2>\n"
   ]
  },
  {
   "cell_type": "markdown",
   "metadata": {},
   "source": [
    "\n",
    "<p>In addition to opening a file for reading using <code>'r</code>', we'll explore two other modes: <code>'w'</code> and <code>'a'</code>.  Both of those modes are used to write to a file.</p>\n",
    "<p>Let's start with opening a file using mode <code>'w'</code>.  First, if the file does not exist, it is created:</p>\n"
   ]
  },
  {
   "cell_type": "code",
   "execution_count": null,
   "metadata": {},
   "outputs": [],
   "source": [
    "new_file = open('example.txt', 'w')"
   ]
  },
  {
   "cell_type": "markdown",
   "metadata": {},
   "source": [
    "\n",
    "<p>Next, we use the write method to write the contents and then we close the file:</p>\n"
   ]
  },
  {
   "cell_type": "code",
   "execution_count": null,
   "metadata": {},
   "outputs": [],
   "source": [
    "new_file.write('This is the first line.\\n')\n",
    "new_file.write('And the second\\nand third.')\n",
    "new_file.close()"
   ]
  },
  {
   "cell_type": "markdown",
   "metadata": {},
   "source": [
    "\n",
    "<p>We can then read and print the file contents:</p>\n"
   ]
  },
  {
   "cell_type": "code",
   "execution_count": null,
   "metadata": {},
   "outputs": [],
   "source": [
    "new_file = open('example.txt', 'r')\n",
    "print(new_file.read())\n",
    "new_file.close()"
   ]
  },
  {
   "cell_type": "markdown",
   "metadata": {},
   "source": [
    "\n",
    "<p>Now, let's open the file using mode <code>'a'</code>, which stands for append:</p>\n"
   ]
  },
  {
   "cell_type": "code",
   "execution_count": null,
   "metadata": {},
   "outputs": [],
   "source": [
    "new_file = open('example.txt', 'a')\n",
    "new_file.write('\\nAdding another line!')  # Notice the \\n character.\n",
    "new_file.close()\n",
    "\n",
    "# Next, read and print the file contents again.\n",
    "new_file = open('example.txt', 'r')\n",
    "print(new_file.read())\n",
    "new_file.close()"
   ]
  },
  {
   "cell_type": "markdown",
   "metadata": {},
   "source": [
    "\n",
    "<p><strong>Warning:</strong> if the file exists already, when it is opened using mode <code>'w'</code>, its contents will be deleted.  This is different from mode <code>'a'</code>, which keeps the existing content and writes any new lines to the end of the file.</p>\n",
    "<p>Let's open <code>'example.txt'</code> using mode <code>'w'</code> to see how the file changes:</p>\n"
   ]
  },
  {
   "cell_type": "code",
   "execution_count": null,
   "metadata": {},
   "outputs": [],
   "source": [
    "new_file = open('example.txt', 'w')       # The file is opened and its contents are cleared.\n",
    "new_file.write('Adding some new content') # This will be the one and only line in the file.\n",
    "new_file.close()\n",
    "\n",
    "# Next, read and print the file contents again.  \n",
    "new_file = open('example.txt', 'r')\n",
    "print(new_file.read())\n",
    "new_file.close()"
   ]
  },
  {
   "cell_type": "markdown",
   "metadata": {},
   "source": [
    "\n",
    "<h3 id=\"Practice-Exercise:-writing-to-a-file\">Practice Exercise: writing to a file<a class=\"anchor-link\" href=\"#Practice-Exercise:-writing-to-a-file\">¶</a></h3>\n"
   ]
  },
  {
   "cell_type": "markdown",
   "metadata": {},
   "source": [
    "\n",
    "<ol>\n",
    "<li>Write your name and address to a file named <code>contact.txt</code>.  Once you have executed your program, open <code>contact.txt</code> to verify that its contents are what you expect.</li>\n",
    "<li>Now, write a program to add your phone number to that file, using <code>open</code>'s append mode.  Again, open the file and check its contents.</li>\n",
    "</ol>\n"
   ]
  },
  {
   "cell_type": "code",
   "execution_count": null,
   "metadata": {},
   "outputs": [],
   "source": []
  }
 ],
 "metadata": {
  "kernelspec": {
   "display_name": "Python 3",
   "language": "python",
   "name": "python3"
  },
  "language_info": {
   "codemirror_mode": {
    "name": "ipython",
    "version": 3
   },
   "file_extension": ".py",
   "mimetype": "text/x-python",
   "name": "python",
   "nbconvert_exporter": "python",
   "pygments_lexer": "ipython3",
   "version": "3.6.6"
  }
 },
 "nbformat": 4,
 "nbformat_minor": 2
}
