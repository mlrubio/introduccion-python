{
 "cells": [
  {
   "cell_type": "markdown",
   "metadata": {},
   "source": [
    "\n",
    "<h1 id=\"Variables\">Session 1<a class=\"anchor-link\" href=\"#Variables\"></a></h1>\n",
    "<p>In this session we will learn a basic introduction in python: arithmetic operatosr, strings files... These modules have been developed at the University of Toronto <i>(Jennifer Campbell and Michelle Craig)</i> and the university of Delft <i>(Mark Bakker)</i>. They have beed adapted to the needs of students at the University of Granada</p>\n"
   ]
  },
  {
   "cell_type": "markdown",
   "metadata": {},
   "source": [
    "## The pause button\n",
    "\n",
    "The system monitors your activity to make sure everything is Ok. If you don't do anything for a while the system will log you out. If you want to take a break, executing the code below will give you 20 minutes."
   ]
  },
  {
   "cell_type": "code",
   "execution_count": null,
   "metadata": {},
   "outputs": [],
   "source": [
    "import time\n",
    "time.sleep(1200)"
   ]
  },
  {
   "cell_type": "markdown",
   "metadata": {},
   "source": [
    "---\n",
    "<h2 id=\"Arithmetic-Operators-and-Built-in-Functions\">Section 1: Arithmetic Operators and Built-in Functions<a class=\"anchor-link\" href=\"#Arithmetic-Operators-and-Built-in-Functions\"></a></h2>"
   ]
  },
  {
   "cell_type": "markdown",
   "metadata": {},
   "source": [
    "\n",
    "<h3 id=\"Using-Python-as-a-calculator\">Using Python as a calculator<a class=\"anchor-link\" href=\"#Using-Python-as-a-calculator\"></a></h3><p>The following are examples of the kinds of Python expressions that we can use.</p>\n"
   ]
  },
  {
   "cell_type": "code",
   "execution_count": 1,
   "metadata": {},
   "outputs": [
    {
     "data": {
      "text/plain": [
       "9"
      ]
     },
     "execution_count": 1,
     "metadata": {},
     "output_type": "execute_result"
    }
   ],
   "source": [
    "4 + 5"
   ]
  },
  {
   "cell_type": "code",
   "execution_count": 2,
   "metadata": {},
   "outputs": [
    {
     "data": {
      "text/plain": [
       "2.5"
      ]
     },
     "execution_count": 2,
     "metadata": {},
     "output_type": "execute_result"
    }
   ],
   "source": [
    "15 - 12.5"
   ]
  },
  {
   "cell_type": "code",
   "execution_count": 3,
   "metadata": {},
   "outputs": [
    {
     "data": {
      "text/plain": [
       "20.4"
      ]
     },
     "execution_count": 3,
     "metadata": {},
     "output_type": "execute_result"
    }
   ],
   "source": [
    "3.4 * 6"
   ]
  },
  {
   "cell_type": "markdown",
   "metadata": {},
   "source": [
    "\n",
    "<p>Each Python value has a type.  <code>4</code>, <code>5</code>, <code>15</code>, and <code>6</code> have type <code>int</code>.  <code>12.5</code> and <code>3.4</code> have type <code>float</code>. Float stands for <em>floating point number</em>. Floats are approximations to the real numbers.</p>\n"
   ]
  },
  {
   "cell_type": "markdown",
   "metadata": {},
   "source": [
    "\n",
    "<p>Python has two different division operators: <code>/</code> produces a <code>float</code> and <code>//</code> is integer division (it produces an <code>int</code>).</p>\n"
   ]
  },
  {
   "cell_type": "code",
   "execution_count": null,
   "metadata": {
    "collapsed": true
   },
   "outputs": [],
   "source": [
    "5 / 2"
   ]
  },
  {
   "cell_type": "code",
   "execution_count": null,
   "metadata": {
    "collapsed": true
   },
   "outputs": [],
   "source": [
    "5 // 2"
   ]
  },
  {
   "cell_type": "code",
   "execution_count": null,
   "metadata": {
    "collapsed": true
   },
   "outputs": [],
   "source": [
    "# When writing programs, we can put in English language explanations called comments.\n",
    "# Whatever comes after the # symbol is not executed."
   ]
  },
  {
   "cell_type": "code",
   "execution_count": null,
   "metadata": {
    "collapsed": true
   },
   "outputs": [],
   "source": [
    "2 ** 5  # 2 to the power of 5"
   ]
  },
  {
   "cell_type": "code",
   "execution_count": null,
   "metadata": {
    "collapsed": true
   },
   "outputs": [],
   "source": [
    "# The % operator gives the remainder of a division.\n",
    "# 10 % 3 gives the remainder of 10 // 3\n",
    "10 % 3"
   ]
  },
  {
   "cell_type": "markdown",
   "metadata": {},
   "source": [
    "\n",
    "<p>In other words, the fraction 10 / 3 can be rewritten as 3 1/3, so the remainder is <code>1</code>.</p>\n"
   ]
  },
  {
   "cell_type": "markdown",
   "metadata": {},
   "source": [
    "\n",
    "<p>Operator order of precedence (from highest to lowest)</p>\n",
    "<p><code>**</code></p>\n",
    "<p><code>-</code> (negation)</p>\n",
    "<p><code>*</code>, <code>/</code>, <code>//</code>, <code>%</code> (left to right)</p>\n",
    "<p><code>+</code> (addition), <code>-</code> (subtraction) (left to right)</p>\n"
   ]
  },
  {
   "cell_type": "markdown",
   "metadata": {},
   "source": [
    "\n",
    "<h3 id=\"Encountering-Errors\">Encountering Errors<a class=\"anchor-link\" href=\"#Encountering-Errors\"></a></h3>\n"
   ]
  },
  {
   "cell_type": "markdown",
   "metadata": {},
   "source": [
    "\n",
    "<p>When programming, it is common to encounter errors.  You will learn how to interpret the error messages, so that you can fix your code.  Here are a few examples:</p>\n"
   ]
  },
  {
   "cell_type": "code",
   "execution_count": null,
   "metadata": {
    "collapsed": true
   },
   "outputs": [],
   "source": [
    "3 +"
   ]
  },
  {
   "cell_type": "code",
   "execution_count": null,
   "metadata": {
    "collapsed": true
   },
   "outputs": [],
   "source": [
    "4 + 5 ) * 2"
   ]
  },
  {
   "cell_type": "code",
   "execution_count": null,
   "metadata": {
    "collapsed": true
   },
   "outputs": [],
   "source": [
    "2 * * 5"
   ]
  },
  {
   "cell_type": "code",
   "execution_count": null,
   "metadata": {
    "collapsed": true
   },
   "outputs": [],
   "source": [
    "9 / 0"
   ]
  },
  {
   "cell_type": "markdown",
   "metadata": {},
   "source": [
    "\n",
    "<h3 id=\"Practice-Exercise:-Writing-expressions\">Practice Exercise: Writing expressions<a class=\"anchor-link\" href=\"#Practice-Exercise:-Writing-expressions\"></a></h3>\n",
    "<p>Practice exercises are done in the IDE we will use in the course: <b>Spyder</b>. If you don't know how to use it ask your teacher for instructions</p>\n",
    "\n",
    "<ol><li>A patient just turned 80 years old.  Write a Python expression to calculate her age in months.</li>\n",
    "<li>A father reports that his son's temperature was 40.1 degrees Celsius when measured at home.  Write an expression to covert the temperature from Celsius to Fahreneheit.  (Formula: Multiply by 9, divide by 5, and then add 32.)</li>\n",
    "</ol>\n"
   ]
  },
  {
   "cell_type": "raw",
   "metadata": {},
   "source": [
    "Write here the expression that you have used to obtain the solution:\n",
    "\n",
    "1.\n",
    "2."
   ]
  },
  {
   "cell_type": "markdown",
   "metadata": {},
   "source": [
    "\n",
    "<h3 id=\"Built-in-Functions\">Built-in Functions<a class=\"anchor-link\" href=\"#Built-in-Functions\"></a></h3>\n"
   ]
  },
  {
   "cell_type": "markdown",
   "metadata": {},
   "source": [
    "\n",
    "<p>In addition to the operators shown above, the Python language comes with a set of functions that we can use.</p>\n"
   ]
  },
  {
   "cell_type": "code",
   "execution_count": null,
   "metadata": {
    "collapsed": true
   },
   "outputs": [],
   "source": [
    "min(45, 23)"
   ]
  },
  {
   "cell_type": "code",
   "execution_count": null,
   "metadata": {
    "collapsed": true
   },
   "outputs": [],
   "source": [
    "max(5.5, 5.52)"
   ]
  },
  {
   "cell_type": "code",
   "execution_count": null,
   "metadata": {
    "collapsed": true
   },
   "outputs": [],
   "source": [
    "abs(-10)"
   ]
  },
  {
   "cell_type": "code",
   "execution_count": null,
   "metadata": {
    "collapsed": true
   },
   "outputs": [],
   "source": [
    "abs(-4 - 8)"
   ]
  },
  {
   "cell_type": "code",
   "execution_count": null,
   "metadata": {
    "collapsed": true
   },
   "outputs": [],
   "source": [
    "type(4)"
   ]
  },
  {
   "cell_type": "code",
   "execution_count": null,
   "metadata": {
    "collapsed": true
   },
   "outputs": [],
   "source": [
    "type(8.25)"
   ]
  },
  {
   "cell_type": "markdown",
   "metadata": {},
   "source": [
    "\n",
    "<h3 id=\"Additional Functions\">Additional Functions<a class=\"anchor-link\" href=\"#Additional Functions\"></a></h3>\n"
   ]
  },
  {
   "cell_type": "markdown",
   "metadata": {},
   "source": [
    "\n",
    "Sometimes we need to do something that is not covered by a built-in-function. In this case we have to use an *external library*.   \n",
    "\n",
    "To use an external library we have to use the sentence  \n",
    "`import <external-library>`.  \n",
    "When we call the function we will write:  \n",
    "`<external-library>.function(x)`\n",
    "\n",
    "For example y we want to use the funtcion `sqrt` from the library `math` to compute the square root of two we would write:  \n",
    "`import math`  \n",
    "`math.sqrt(2)`\n",
    "\n",
    "\n"
   ]
  },
  {
   "cell_type": "code",
   "execution_count": 2,
   "metadata": {
    "collapsed": true
   },
   "outputs": [
    {
     "data": {
      "text/plain": [
       "0.8414709848078965"
      ]
     },
     "execution_count": 2,
     "metadata": {},
     "output_type": "execute_result"
    }
   ],
   "source": [
    "#We import the library and calculate the sin of 1\n",
    "import math\n",
    "math.sin(1)"
   ]
  },
  {
   "cell_type": "code",
   "execution_count": 14,
   "metadata": {
    "collapsed": true
   },
   "outputs": [
    {
     "data": {
      "text/plain": [
       "-0.4161468365471424"
      ]
     },
     "execution_count": 14,
     "metadata": {},
     "output_type": "execute_result"
    }
   ],
   "source": [
    "#We only have to import the library once\n",
    "math.cos(2)"
   ]
  },
  {
   "cell_type": "code",
   "execution_count": 5,
   "metadata": {
    "collapsed": true
   },
   "outputs": [
    {
     "data": {
      "text/plain": [
       "1.3258176636680326"
      ]
     },
     "execution_count": 5,
     "metadata": {},
     "output_type": "execute_result"
    }
   ],
   "source": [
    "math.atan(4)"
   ]
  },
  {
   "cell_type": "code",
   "execution_count": 6,
   "metadata": {
    "collapsed": true
   },
   "outputs": [
    {
     "data": {
      "text/plain": [
       "3.0"
      ]
     },
     "execution_count": 6,
     "metadata": {},
     "output_type": "execute_result"
    }
   ],
   "source": [
    "math.sqrt(9)"
   ]
  },
  {
   "cell_type": "code",
   "execution_count": 7,
   "metadata": {
    "collapsed": true
   },
   "outputs": [
    {
     "data": {
      "text/plain": [
       "24"
      ]
     },
     "execution_count": 7,
     "metadata": {},
     "output_type": "execute_result"
    }
   ],
   "source": [
    "math.factorial(4)"
   ]
  },
  {
   "cell_type": "code",
   "execution_count": 13,
   "metadata": {
    "collapsed": true
   },
   "outputs": [
    {
     "data": {
      "text/plain": [
       "2.718281828459045"
      ]
     },
     "execution_count": 13,
     "metadata": {},
     "output_type": "execute_result"
    }
   ],
   "source": [
    "math.e"
   ]
  },
  {
   "cell_type": "code",
   "execution_count": 12,
   "metadata": {
    "collapsed": true
   },
   "outputs": [
    {
     "data": {
      "text/plain": [
       "3.0"
      ]
     },
     "execution_count": 12,
     "metadata": {},
     "output_type": "execute_result"
    }
   ],
   "source": [
    "math.log10(1000)"
   ]
  },
  {
   "cell_type": "markdown",
   "metadata": {},
   "source": [
    "\n",
    "<h3 id=\"Practice-Exercise:-Calling-on-round\">Practice Exercise: Calling on <code>round</code><a class=\"anchor-link\" href=\"#Practice-Exercise:-Calling-on-round\"></a></h3>\n"
   ]
  },
  {
   "cell_type": "markdown",
   "metadata": {},
   "source": [
    "\n",
    "<p>Python has a built-in function named <code>round</code>. In the Python shell, run each function call below and record the result:</p>\n",
    "<ol>\n",
    "<li><code>round(24.2)</code></li>\n",
    "<li><code>round(24.5)</code></li>\n",
    "<li><code>round(24.9)</code></li>\n",
    "<li><code>round(1.234567, 2)</code></li>\n",
    "<li><code>round(1.234567, 3)</code></li>\n",
    "</ol>\n"
   ]
  },
  {
   "cell_type": "raw",
   "metadata": {},
   "source": [
    "Write here the results obtained:\n",
    "\n",
    "1.\n",
    "2.\n",
    "3.\n",
    "4.\n",
    "5."
   ]
  },
  {
   "cell_type": "markdown",
   "metadata": {},
   "source": [
    "---\n",
    "<h2 id=\"Variables\">Section 2: Variables<a class=\"anchor-link\" href=\"#Variables\"></a></h2>\n"
   ]
  },
  {
   "cell_type": "markdown",
   "metadata": {},
   "source": [
    "\n",
    "<p>When writing programs, we often want to name values so that we can refer to them later.   A name that refers to a value is called a <em>variable</em>.</p>\n"
   ]
  },
  {
   "cell_type": "code",
   "execution_count": null,
   "metadata": {
    "collapsed": true
   },
   "outputs": [],
   "source": [
    "x = 10"
   ]
  },
  {
   "cell_type": "markdown",
   "metadata": {},
   "source": [
    "\n",
    "<p>The general form of a variable assignment statement is:\n",
    " <code>«variable» = «expression»</code></p>\n",
    "<p>An assignment statement is executed as follows:</p>\n",
    "<ul>\n",
    "<li>Evaluate the expression on the right-hand side to produce a value. This value has a memory address.</li>\n",
    "<li>Store that memory address in the variable on the left-hand side. (Create a new variable if it doesn't exist; otherwise just reuse the existing variable.)</li>\n",
    "</ul>\n"
   ]
  },
  {
   "cell_type": "markdown",
   "metadata": {},
   "source": [
    "\n",
    "<p>We can now retrieve the value that <code>x</code> refers to by typing <code>x</code> in the shell:</p>\n"
   ]
  },
  {
   "cell_type": "code",
   "execution_count": null,
   "metadata": {
    "collapsed": true
   },
   "outputs": [],
   "source": [
    "x"
   ]
  },
  {
   "cell_type": "markdown",
   "metadata": {},
   "source": [
    "\n",
    "<p>We computed things like <code>10 + 5</code> before. Now we can use variables in place of actual numbers:</p>\n"
   ]
  },
  {
   "cell_type": "code",
   "execution_count": null,
   "metadata": {
    "collapsed": true
   },
   "outputs": [],
   "source": [
    "x + 5"
   ]
  },
  {
   "cell_type": "markdown",
   "metadata": {},
   "source": [
    "\n",
    "<p>The code <code>x + 5</code> is an expression, just like <code>10</code> and <code>10 + 5</code> are, so we can store the result in a variable:</p>\n"
   ]
  },
  {
   "cell_type": "code",
   "execution_count": null,
   "metadata": {
    "collapsed": true
   },
   "outputs": [],
   "source": [
    "result = x + 5"
   ]
  },
  {
   "cell_type": "code",
   "execution_count": null,
   "metadata": {
    "collapsed": true
   },
   "outputs": [],
   "source": [
    "result"
   ]
  },
  {
   "cell_type": "markdown",
   "metadata": {},
   "source": [
    "\n",
    "<p>Variable names must start with a letter or an underscore.  They can only include letters, digits, and underscores.</p>\n"
   ]
  },
  {
   "cell_type": "markdown",
   "metadata": {},
   "source": [
    "\n",
    "<h3 id=\"Practice-Exercise:-Working-with-Variables\">Practice Exercise: Working with Variables<a class=\"anchor-link\" href=\"#Practice-Exercise:-Working-with-Variables\"></a></h3>\n",
    "<p>Practice exercises are done in the IDE we will use in the course: <b>Spyder</b>. If you don't know how to use it ask your teacher for instructions</p>"
   ]
  },
  {
   "cell_type": "markdown",
   "metadata": {},
   "source": [
    "\n",
    "<ol>\n",
    "<li><p>Consider this code:\n",
    "</p><pre>\n",
    "j = 7\n",
    "</pre>\n",
    "Write an assignment statement that creates a new variable <code>k</code> that refers to three times <code>j</code>'s value.\n",
    "</li>\n",
    "</ol>\n"
   ]
  },
  {
   "cell_type": "raw",
   "metadata": {},
   "source": [
    "Write your answers here:\n"
   ]
  },
  {
   "cell_type": "markdown",
   "metadata": {},
   "source": [
    "\n",
    "<p>2. Consider this code:\n",
    "</p><pre>\n",
    "patient_a = 3\n",
    "patient_b = 4\n",
    "patient_a = 5\n",
    "</pre>\n",
    "After the code above is executed, to which value does <code>patient_a</code> refer?<br/>\n",
    "After the code above is executed, to which value does <code>patient_b</code> refer?\n"
   ]
  },
  {
   "cell_type": "raw",
   "metadata": {},
   "source": [
    "Write your answers here:\n"
   ]
  },
  {
   "cell_type": "markdown",
   "metadata": {},
   "source": [
    "\n",
    "<p>3. Consider this code:\n",
    "</p><pre>\n",
    "x = 4\n",
    "y = x + 2\n",
    "x = y + 1\n",
    "</pre>\n",
    "After the code above is executed, to which value does <code>x</code> refer?<br/>\n",
    "After the code above is executed, to which value does <code>y</code> refer?\n"
   ]
  },
  {
   "cell_type": "raw",
   "metadata": {},
   "source": [
    "Write your answers here:\n"
   ]
  },
  {
   "cell_type": "markdown",
   "metadata": {},
   "source": [
    "\n",
    "<h3 id=\"Practice-Exercise:-Solving-a-problem-using-variables\">Practice Exercise: Solving a problem using variables<a class=\"anchor-link\" href=\"#Practice-Exercise:-Solving-a-problem-using-variables\"></a></h3><p>Fridericia's Formula for the corrected QT is\n",
    "$$QTc = \\frac{QT}{RR^{\\frac{1}{3}}}$$</p>\n",
    "<p>The R-R interval is measured in seconds, and can be ontained using $60/hr$, where hr is the heart rate. Given the <code>hr</code> and <code>qt</code> variables below, and calculate the QTc (corrected QT interval).</p>\n"
   ]
  },
  {
   "cell_type": "raw",
   "metadata": {},
   "source": [
    "Write here the expression you have used and the result if:\n",
    "hr = 70\n",
    "qt = 300\n",
    "\n"
   ]
  },
  {
   "cell_type": "markdown",
   "metadata": {},
   "source": [
    "\n",
    "<p>The corrected QT interval should be: 315.817979882819 seconds.</p>\n"
   ]
  },
  {
   "cell_type": "markdown",
   "metadata": {},
   "source": [
    "---\n",
    "<h2 id=\"Introduction-to-Strings\">Section 3: Introduction to Strings<a class=\"anchor-link\" href=\"#Introduction-to-Strings\"></a></h2>\n"
   ]
  },
  {
   "cell_type": "markdown",
   "metadata": {},
   "source": [
    "\n",
    "<p>Until now, we've only been working with numberic values and two numeric types (<code>int</code> and <code>float</code>).  Next, we will work with a strings.</p>\n",
    "<p>Strings are sequences of characters and in Python this is type <code>str</code>.</p>\n",
    "<p>Strings in Python start and end with a single quotes (') or double quotes (\"). A string can be made up of letters, numbers, and special characters. For example:</p>\n",
    "<pre>\n",
    "'hello'\n",
    "\"how are you?\"\n",
    "'first- and second- year'\n",
    "</pre><p>Like other types, we can assign use them in expressions and in variable assignment statements:</p>\n"
   ]
  },
  {
   "cell_type": "code",
   "execution_count": null,
   "metadata": {
    "collapsed": true
   },
   "outputs": [],
   "source": [
    "'hello' + 'there'  # This is string concatentation."
   ]
  },
  {
   "cell_type": "code",
   "execution_count": null,
   "metadata": {
    "collapsed": true
   },
   "outputs": [],
   "source": [
    "greeting = 'hi'"
   ]
  },
  {
   "cell_type": "code",
   "execution_count": null,
   "metadata": {
    "collapsed": true
   },
   "outputs": [],
   "source": [
    "greeting"
   ]
  },
  {
   "cell_type": "code",
   "execution_count": null,
   "metadata": {
    "collapsed": true
   },
   "outputs": [],
   "source": [
    "greeting * 3  # Concatenate 3 copies of the string variable greeting refers to."
   ]
  },
  {
   "cell_type": "code",
   "execution_count": null,
   "metadata": {
    "collapsed": true
   },
   "outputs": [],
   "source": [
    "greeting  # Notice that the value that greeting refers to is unchanged.  \n",
    "          # To produce a new string, we used the string that greeting refers to."
   ]
  },
  {
   "cell_type": "markdown",
   "metadata": {},
   "source": [
    "\n",
    "<h3 id=\"Multi-line-strings\">Multi-line strings<a class=\"anchor-link\" href=\"#Multi-line-strings\"></a></h3>\n"
   ]
  },
  {
   "cell_type": "markdown",
   "metadata": {},
   "source": [
    "\n",
    "<p>In addition to single- and double-quotes, we can also use triple-quotes to represent strings.  A triple-quoted string can span multiple lines:</p>\n"
   ]
  },
  {
   "cell_type": "code",
   "execution_count": null,
   "metadata": {
    "collapsed": true
   },
   "outputs": [],
   "source": [
    "'''This is\n",
    "a longer string\n",
    "that spans\n",
    "multiple lines.'''"
   ]
  },
  {
   "cell_type": "markdown",
   "metadata": {},
   "source": [
    "\n",
    "<p>Notice that when the triple-quoted string is evaluated, it produces a single-quoted string containing <code>\\n</code>.  The newline character, <code>\\n</code>, means \"switch to a new line.\"</p>\n"
   ]
  },
  {
   "cell_type": "markdown",
   "metadata": {},
   "source": [
    "\n",
    "<p>You'll learn more about strings at upcoming sessions.</p>\n"
   ]
  },
  {
   "cell_type": "markdown",
   "metadata": {},
   "source": [
    "---\n",
    "<h2 id=\"Functions\">Section 4: Functions<a class=\"anchor-link\" href=\"#Functions\"></a></h2><p>You've already seen some of Python's built-in functions:</p>\n"
   ]
  },
  {
   "cell_type": "code",
   "execution_count": null,
   "metadata": {
    "collapsed": true
   },
   "outputs": [],
   "source": [
    "max(1, 3)"
   ]
  },
  {
   "cell_type": "code",
   "execution_count": null,
   "metadata": {
    "collapsed": true
   },
   "outputs": [],
   "source": [
    "pow(2, 4)"
   ]
  },
  {
   "cell_type": "markdown",
   "metadata": {},
   "source": [
    "\n",
    "<p>You've also seen functions in math. For example:</p>\n",
    "<p>$f(x) = 2x + 7$</p>\n",
    "<p>This is the <strong>definition</strong> of $f(x)$. By itself it doesn't have a value. It just defines what it would mean to\n",
    "call the function $f$ on some value.</p>\n",
    "<p>Given a <strong>value</strong> for $x$, we can calculate the resulting value of $f(x)$.\n",
    "$f(2)$ evaluates to 11,  $f(-1$) gives 5.</p>\n",
    "<p>In Python, in addition to using the built-in functions, we can define our own.  For example, we can define a function equivalent to $f(x) = 2x + 7$:</p>\n"
   ]
  },
  {
   "cell_type": "code",
   "execution_count": null,
   "metadata": {
    "collapsed": true
   },
   "outputs": [],
   "source": [
    "def f(x):\n",
    "    return 2 * x + 7"
   ]
  },
  {
   "cell_type": "code",
   "execution_count": null,
   "metadata": {
    "collapsed": true
   },
   "outputs": [],
   "source": [
    "f(2)"
   ]
  },
  {
   "cell_type": "code",
   "execution_count": null,
   "metadata": {
    "collapsed": true
   },
   "outputs": [],
   "source": [
    "f(-1)"
   ]
  },
  {
   "cell_type": "markdown",
   "metadata": {},
   "source": [
    "\n",
    "<p>Here is the general form of a function definition:\n",
    "<img src=\"images/function_form.png\"/></p>\n"
   ]
  },
  {
   "cell_type": "markdown",
   "metadata": {},
   "source": [
    "\n",
    "<p><code>def</code>:</p>\n",
    "<ul>\n",
    "<li>a keyword indicating a function definition</li>\n",
    "</ul>\n",
    "<p><code>&lt;&lt;function_name&gt;&gt;</code>:</p>\n",
    "<ul>\n",
    "<li>the name of the function (use <code>pothole_case</code> name format)</li>\n",
    "</ul>\n",
    "<p><code>&lt;&lt;parameters&gt;&gt;</code>:</p>\n",
    "<ul>\n",
    "<li>the parameter(s) of the function, 0 or more.  </li>\n",
    "<li>Parameters are a comma-separated list of variables whose values will be supplied when the function is called.</li>\n",
    "</ul>\n",
    "<p><code>&lt;&lt;body&gt;&gt;</code>:</p>\n",
    "<ul>\n",
    "<li>One or more statements, often ending with a <code>return</code> statement.  </li>\n",
    "<li>All body statements must be indented the same amount (usually 4 spaces).</li>\n",
    "</ul>\n"
   ]
  },
  {
   "cell_type": "markdown",
   "metadata": {},
   "source": [
    "\n",
    "<p>The <code>return</code> statement has this form:\n",
    "    <code>return «expression»</code></p>\n",
    "<p>The <code>return</code> statement is executed as follows:</p>\n",
    "<ul>\n",
    "<li>Evaluate the expresssion.  The produces a value (which has a memory address).</li>\n",
    "<li>Exit the function and produce that value to the caller.</li>\n",
    "</ul>\n"
   ]
  },
  {
   "cell_type": "markdown",
   "metadata": {},
   "source": [
    "\n",
    "<p>Once a function has been defined, we can call on the function. <em>function call</em> has the form:\n",
    "    <code>«function_name»(«arguments»)</code></p>\n",
    "<p>A function call is executed as follows:</p>\n",
    "<ul>\n",
    "<li>Evaluate the arguments. These produce values. Each value has a memory address.</li>\n",
    "<li>Assign those values to the parameters. This stores the memory addresses of the values in the parameters.</li>\n",
    "<li>Pause the current statement and execute the body of the function</li>\n",
    "</ul>\n"
   ]
  },
  {
   "cell_type": "markdown",
   "metadata": {},
   "source": [
    "\n",
    "<h3 id=\"Practice-Exercise:--Functions-and-Terminology\">Practice Exercise:  Functions and Terminology<a class=\"anchor-link\" href=\"#Practice-Exercise:--Functions-and-Terminology\"></a></h3><p>Revisiting our earlier example, the function definition was:</p>\n",
    "<pre>\n",
    "def f(x):\n",
    "    return 2 * x + 7\n",
    "</pre><p>Answer the following questions:</p>\n",
    "<ol>\n",
    "<li>What is the name of the function?</li>\n",
    "<li>How many parameter(s) does the function have?  </li>\n",
    "<li>What are the parameter(s) names?</li>\n",
    "<li>For function call <code>f(8)</code>, what is the argument?</li>\n",
    "<li>When it is executed, what value does <code>f(8)</code> produce?</li>\n",
    "<li>Consider this code: <code>result = f(4)</code>.  After that statement is executed, what value does <code>result</code> refer to?</li>\n",
    "</ol>\n"
   ]
  },
  {
   "cell_type": "raw",
   "metadata": {},
   "source": [
    "Write your answers here:\n",
    "1.\n",
    "2.\n",
    "3.\n",
    "4.\n",
    "5.\n",
    "6."
   ]
  },
  {
   "cell_type": "markdown",
   "metadata": {},
   "source": [
    "\n",
    "<h3 id=\"Function-Design-Recipe\">Function Design Recipe<a class=\"anchor-link\" href=\"#Function-Design-Recipe\"></a></h3>\n"
   ]
  },
  {
   "cell_type": "markdown",
   "metadata": {},
   "source": [
    "\n",
    "<p>When defining functions, we will follow this <strong>Function Design Recipe</strong>:</p>\n",
    "<ol>\n",
    "<li>Write an <strong>example</strong> call (or two) of how we will use the function we plan to write.</li>\n",
    "<li>Write the <strong>header</strong> for the function. That's the <code>def</code> line.</li>\n",
    "<li>Write the <strong>type</strong> contract -- the type for each parameter and the type of value that will be returned.</li>\n",
    "<li>Write a <strong>description</strong> of what the function does.</li>\n",
    "<li>Finally, write the <strong>code</strong> for the body of the function.</li>\n",
    "<li>Then <strong>test</strong> our function.</li>\n",
    "</ol>\n",
    "<p>Let's write a function that squares a number.</p>\n",
    "<p>Step 1: Give examples of how we will call the function:</p>\n",
    "<pre>\n",
    "&gt;&gt;&gt; square(5)\n",
    "25\n",
    "&gt;&gt;&gt; square(-6)\n",
    "36\n",
    "</pre><p>Of course <code>square</code> isn't defined yet, so we can't <em>actually</em> call it. Instead just work out, what the function calls should produce.</p>\n"
   ]
  },
  {
   "cell_type": "markdown",
   "metadata": {},
   "source": [
    "\n",
    "<p>Step 2: Write the header, which is the line that starts with <code>def</code>.  The function will have one parameter, which we named <code>num</code>, but we could have named it <code>x</code>, <code>value</code>, <code>n</code>, or even <code>banana</code>.  Of course, it is best to pick a meaningful name.</p>\n",
    "<p>While you are at it, make the examples that you wrote be part of a triple-quoted string\n",
    "inside the function (make sure to indent them 4 spaces).  This triple-quoted string is called a <em>docstring</em>, which stands for documentation string.</p>\n"
   ]
  },
  {
   "cell_type": "code",
   "execution_count": null,
   "metadata": {
    "collapsed": true
   },
   "outputs": [],
   "source": [
    "def square(num):\n",
    "    \"\"\"\n",
    "    >>> square(5)\n",
    "    25\n",
    "    >>> square(-6)\n",
    "    36\n",
    "    \"\"\""
   ]
  },
  {
   "cell_type": "markdown",
   "metadata": {},
   "source": [
    "\n",
    "<p>Step 3: Add a type contract. Our function takes a single parameter which is a number. It returns a number. So the  type contract is  (number) -&gt; number. Let's add that to our function.</p>\n"
   ]
  },
  {
   "cell_type": "code",
   "execution_count": null,
   "metadata": {
    "collapsed": true
   },
   "outputs": [],
   "source": [
    "def square(num):\n",
    "    \"\"\" (number) -> number\n",
    "    \n",
    "    >>> square(5)\n",
    "    25\n",
    "    >>> square(-6)\n",
    "    36\n",
    "    \"\"\""
   ]
  },
  {
   "cell_type": "markdown",
   "metadata": {},
   "source": [
    "\n",
    "<p>Step 4: Write the description and it to the doctstring.</p>\n"
   ]
  },
  {
   "cell_type": "code",
   "execution_count": null,
   "metadata": {
    "collapsed": true
   },
   "outputs": [],
   "source": [
    "def square(num):\n",
    "    \"\"\"(number) -> number\n",
    "    \n",
    "    Return num squared.\n",
    "    \n",
    "    >>> square(5)\n",
    "    25\n",
    "    >>> square(-6)\n",
    "    36\n",
    "    \"\"\""
   ]
  },
  {
   "cell_type": "markdown",
   "metadata": {},
   "source": [
    "\n",
    "<p>Step 5: Code the body. For this step, we write the Python statements that will be executed when the function is called. We will use a <code>return</code> statement to produce a value.</p>\n"
   ]
  },
  {
   "cell_type": "code",
   "execution_count": null,
   "metadata": {
    "collapsed": true
   },
   "outputs": [],
   "source": [
    "def square(num):\n",
    "    \"\"\"(number) -> number\n",
    "    \n",
    "    Return num squared.\n",
    "    \n",
    "    >>> square(5)\n",
    "    25\n",
    "    >>> square(-6)\n",
    "    36\n",
    "    \"\"\"\n",
    "    return num * num"
   ]
  },
  {
   "cell_type": "markdown",
   "metadata": {},
   "source": [
    "\n",
    "<p>Step 6: Test our function.  For now, we will do this by calling on the examples we developed in Step 1.</p>\n"
   ]
  },
  {
   "cell_type": "code",
   "execution_count": null,
   "metadata": {
    "collapsed": true
   },
   "outputs": [],
   "source": [
    "square(5)"
   ]
  },
  {
   "cell_type": "code",
   "execution_count": null,
   "metadata": {
    "collapsed": true
   },
   "outputs": [],
   "source": [
    "square(-6)"
   ]
  },
  {
   "cell_type": "markdown",
   "metadata": {},
   "source": [
    "\n",
    "<h3 id=\"Practice-Exercise:-Converting-Pounds-to-Kilograms\">Practice Exercise: Converting Pounds to Kilograms<a class=\"anchor-link\" href=\"#Practice-Exercise:-Converting-Pounds-to-Kilograms\"></a></h3>\n",
    "<p>Practice exercises are done in the IDE we will use in the course: <b>Spyder</b>. If you don't know how to use it ask your teacher for instructions</p>\n",
    "<p>Generally in Canada, people know their weight in pounds. Most of the calculations for determining dosages and other medical information, ask for a patient's weight in kilograms. Following the Function Design Recipe, write a function that will convert from pounds to kilograms.  (1kg == 2.2 lbs)</p>\n"
   ]
  },
  {
   "cell_type": "raw",
   "metadata": {},
   "source": [
    "Write the code you have developed here:\n",
    "    "
   ]
  },
  {
   "cell_type": "markdown",
   "metadata": {},
   "source": [
    "---\n",
    "<h2 id=\"Converting-Between-Types\">Section 5: Converting Between Types<a class=\"anchor-link\" href=\"#Converting-Between-Types\"></a></h2>\n"
   ]
  },
  {
   "cell_type": "markdown",
   "metadata": {},
   "source": [
    "\n",
    "<p>We've seen several Python types, including <code>int</code>, <code>float</code>, and <code>str</code>.</p>\n"
   ]
  },
  {
   "cell_type": "code",
   "execution_count": null,
   "metadata": {
    "collapsed": true
   },
   "outputs": [],
   "source": [
    "type(42)"
   ]
  },
  {
   "cell_type": "code",
   "execution_count": null,
   "metadata": {
    "collapsed": true
   },
   "outputs": [],
   "source": [
    "type(3.14)"
   ]
  },
  {
   "cell_type": "code",
   "execution_count": null,
   "metadata": {
    "collapsed": true
   },
   "outputs": [],
   "source": [
    "type('Hello')"
   ]
  },
  {
   "cell_type": "markdown",
   "metadata": {},
   "source": [
    "\n",
    "<p>We can convert values from one type to another.  For example, we conver two <code>str</code>s to numeric values:</p>\n"
   ]
  },
  {
   "cell_type": "code",
   "execution_count": null,
   "metadata": {
    "collapsed": true
   },
   "outputs": [],
   "source": [
    "int('45')"
   ]
  },
  {
   "cell_type": "code",
   "execution_count": null,
   "metadata": {
    "collapsed": true
   },
   "outputs": [],
   "source": [
    "float('3.14')"
   ]
  },
  {
   "cell_type": "markdown",
   "metadata": {},
   "source": [
    "\n",
    "<p>Converting that <code>str</code> value to type <code>float</code> allows us to perform arithmetic operations on it, such as:</p>\n"
   ]
  },
  {
   "cell_type": "code",
   "execution_count": null,
   "metadata": {
    "collapsed": true
   },
   "outputs": [],
   "source": [
    "float('3.14') / 2"
   ]
  },
  {
   "cell_type": "markdown",
   "metadata": {},
   "source": [
    "\n",
    "<p>If we try to convert a <code>str</code> that can't be represented as a <code>float</code>, an error will occur:</p>\n"
   ]
  },
  {
   "cell_type": "code",
   "execution_count": null,
   "metadata": {
    "collapsed": true
   },
   "outputs": [],
   "source": [
    "float(\"forty-two\")"
   ]
  },
  {
   "cell_type": "markdown",
   "metadata": {},
   "source": [
    "\n",
    "<p>Converting floats to string makes sense if, for example, we want to use \"string addition\":</p>\n"
   ]
  },
  {
   "cell_type": "markdown",
   "metadata": {},
   "source": [
    "\n",
    "<p>Floats and strings can be converted to integers:</p>\n"
   ]
  },
  {
   "cell_type": "code",
   "execution_count": null,
   "metadata": {
    "collapsed": true
   },
   "outputs": [],
   "source": [
    "int(3.14)"
   ]
  },
  {
   "cell_type": "markdown",
   "metadata": {},
   "source": [
    "\n",
    "<p>Notice that integers are <em>truncated</em> rather than rounded:</p>\n"
   ]
  },
  {
   "cell_type": "code",
   "execution_count": null,
   "metadata": {
    "collapsed": true
   },
   "outputs": [],
   "source": [
    "int(3.75)"
   ]
  },
  {
   "cell_type": "code",
   "execution_count": null,
   "metadata": {
    "collapsed": true
   },
   "outputs": [],
   "source": [
    "int(\"42\")"
   ]
  },
  {
   "cell_type": "markdown",
   "metadata": {},
   "source": [
    "\n",
    "<p>As we saw earlier, not all values can be converted from one type to another.  In this case a the <code>str</code> 42.3 cannot be converted to an <code>int</code>:</p>\n"
   ]
  },
  {
   "cell_type": "code",
   "execution_count": null,
   "metadata": {
    "collapsed": true
   },
   "outputs": [],
   "source": [
    "int(\"42.3\")"
   ]
  },
  {
   "cell_type": "markdown",
   "metadata": {},
   "source": [
    "\n",
    "<p>Doesn't work: the string must contain an integer to be converted.</p>\n"
   ]
  },
  {
   "cell_type": "markdown",
   "metadata": {},
   "source": [
    "---\n",
    "<h2 id=\"Writing-Programs\">Section 6: Writing Programs<a class=\"anchor-link\" href=\"#Writing-Programs\"></a></h2>\n"
   ]
  },
  {
   "cell_type": "markdown",
   "metadata": {},
   "source": [
    "\n",
    "<h3 id=\"User-Input\">User Input<a class=\"anchor-link\" href=\"#User-Input\"></a></h3>\n"
   ]
  },
  {
   "cell_type": "markdown",
   "metadata": {},
   "source": [
    "\n",
    "<p>We can obtain input from the user, using Python's built-in function <code>input</code>.</p>\n",
    "<p>Function <code>input</code> takes one argument, a string, which is a message printed to the screen.  The function then pauses the program, until the user types 0 or more characters followed by the enter/return key.  The text typed by the user is returned as a string.</p>\n",
    "<p>Here is an example call on <code>input</code>:</p>\n"
   ]
  },
  {
   "cell_type": "code",
   "execution_count": null,
   "metadata": {
    "collapsed": true
   },
   "outputs": [],
   "source": [
    "name = input(\"What is your name? \")"
   ]
  },
  {
   "cell_type": "markdown",
   "metadata": {},
   "source": [
    "\n",
    "<p>After the user eneters the text, input returns it as a string.  In the statement above, variable <code>name</code> is assigned the value returned by function <code>input</code>:</p>\n"
   ]
  },
  {
   "cell_type": "code",
   "execution_count": null,
   "metadata": {
    "collapsed": true
   },
   "outputs": [],
   "source": [
    "name"
   ]
  },
  {
   "cell_type": "markdown",
   "metadata": {},
   "source": [
    "\n",
    "<p>Now, let's ask the user to enter a number:</p>\n"
   ]
  },
  {
   "cell_type": "code",
   "execution_count": null,
   "metadata": {
    "collapsed": true
   },
   "outputs": [],
   "source": [
    "n = input(\"Enter a number: \")"
   ]
  },
  {
   "cell_type": "markdown",
   "metadata": {},
   "source": [
    "\n",
    "<p>Variable <code>n</code> refers to a <code>str</code> value containing the text entered by the user:</p>\n"
   ]
  },
  {
   "cell_type": "code",
   "execution_count": null,
   "metadata": {
    "collapsed": true
   },
   "outputs": [],
   "source": [
    "n"
   ]
  },
  {
   "cell_type": "code",
   "execution_count": null,
   "metadata": {
    "collapsed": true
   },
   "outputs": [],
   "source": [
    "type(n)"
   ]
  },
  {
   "cell_type": "markdown",
   "metadata": {},
   "source": [
    "\n",
    "<p>If we want to use the number as an <code>int</code> in our program, we could convert it:</p>\n"
   ]
  },
  {
   "cell_type": "code",
   "execution_count": null,
   "metadata": {
    "collapsed": true
   },
   "outputs": [],
   "source": [
    "n = int(n)\n",
    "n"
   ]
  },
  {
   "cell_type": "code",
   "execution_count": null,
   "metadata": {
    "collapsed": true
   },
   "outputs": [],
   "source": [
    "type(n)"
   ]
  },
  {
   "cell_type": "markdown",
   "metadata": {},
   "source": [
    "\n",
    "<h3 id=\"Print\">Print<a class=\"anchor-link\" href=\"#Print\"></a></h3>\n"
   ]
  },
  {
   "cell_type": "markdown",
   "metadata": {},
   "source": [
    "\n",
    "<p>When working in the Python shell, we see the values of expressions after they have been executed.  But instead of working in the Python shell, we usually write an entire program (a sequences of statements), save the program in a .py file, and then execute the program.  When we run programs this way, we can print messages for the user, using Python's built-in function <code>print</code>.</p>\n"
   ]
  },
  {
   "cell_type": "markdown",
   "metadata": {},
   "source": [
    "\n",
    "<p>Function <code>print</code> takes one or more values to be printed as argument(s).  For example:</p>\n"
   ]
  },
  {
   "cell_type": "code",
   "execution_count": null,
   "metadata": {
    "collapsed": true
   },
   "outputs": [],
   "source": [
    "print('Hello, world!')"
   ]
  },
  {
   "cell_type": "code",
   "execution_count": null,
   "metadata": {
    "collapsed": true
   },
   "outputs": [],
   "source": [
    "print('hi', 'there')"
   ]
  },
  {
   "cell_type": "code",
   "execution_count": null,
   "metadata": {
    "collapsed": true
   },
   "outputs": [],
   "source": [
    "print('hi', 5)"
   ]
  },
  {
   "cell_type": "code",
   "execution_count": null,
   "metadata": {
    "collapsed": true
   },
   "outputs": [],
   "source": [
    "print('computing', 'for', 'medicine')"
   ]
  },
  {
   "cell_type": "markdown",
   "metadata": {},
   "source": [
    "\n",
    "<p>The values separated by commas are printed with spaces between them.</p>\n",
    "<p>Perhaps, you don't want a space between the two strings that you are printing. You could use string concatenation to join the strings together and the resulting concatenated string would be printed:</p>\n"
   ]
  },
  {
   "cell_type": "code",
   "execution_count": null,
   "metadata": {
    "collapsed": true
   },
   "outputs": [],
   "source": [
    "print(\"C4\" + \"M\")"
   ]
  },
  {
   "cell_type": "markdown",
   "metadata": {},
   "source": [
    "\n",
    "<p>We can also use variables in the expressions that we pass as arguments to <code>print</code>.  Recall varaible <code>name</code> from earlier:</p>\n"
   ]
  },
  {
   "cell_type": "code",
   "execution_count": null,
   "metadata": {
    "collapsed": true
   },
   "outputs": [],
   "source": [
    "print(name)"
   ]
  },
  {
   "cell_type": "code",
   "execution_count": null,
   "metadata": {
    "collapsed": true
   },
   "outputs": [],
   "source": [
    "print(\"My name is\", name)"
   ]
  },
  {
   "cell_type": "markdown",
   "metadata": {},
   "source": [
    "\n",
    "<h3 id=\"Writing-a-program\">Writing a program<a class=\"anchor-link\" href=\"#Writing-a-program\"></a></h3>\n"
   ]
  },
  {
   "cell_type": "markdown",
   "metadata": {},
   "source": [
    "\n",
    "<p>Now, we will use <code>input</code> and <code>print</code> together in a program.  We will write a program that:</p>\n",
    "<ul>\n",
    "<li>prompts the user to enter two numbers, </li>\n",
    "<li>computes the average of those two numbers, and</li>\n",
    "<li>prints the average.</li>\n",
    "</ul>\n"
   ]
  },
  {
   "cell_type": "markdown",
   "metadata": {},
   "source": [
    "\n",
    "<p>We start by using <code>input</code> twice to prompt the user for two numbers:</p>\n"
   ]
  },
  {
   "cell_type": "code",
   "execution_count": null,
   "metadata": {
    "collapsed": true
   },
   "outputs": [],
   "source": [
    "num1 = input('Enter a number: ')\n",
    "num2 = input('Enter another number: ')"
   ]
  },
  {
   "cell_type": "markdown",
   "metadata": {},
   "source": [
    "\n",
    "<p>Variables <code>num1</code> and <code>num2</code> contain the text entered by the users as strings:</p>\n"
   ]
  },
  {
   "cell_type": "code",
   "execution_count": null,
   "metadata": {
    "collapsed": true
   },
   "outputs": [],
   "source": [
    "num1"
   ]
  },
  {
   "cell_type": "code",
   "execution_count": null,
   "metadata": {
    "collapsed": true
   },
   "outputs": [],
   "source": [
    "num2"
   ]
  },
  {
   "cell_type": "markdown",
   "metadata": {},
   "source": [
    "\n",
    "<p>Before computing the average, we convert those values to <code>float</code>s:</p>\n"
   ]
  },
  {
   "cell_type": "code",
   "execution_count": null,
   "metadata": {
    "collapsed": true
   },
   "outputs": [],
   "source": [
    "average = (float(num1) + float(num2)) / 2"
   ]
  },
  {
   "cell_type": "markdown",
   "metadata": {},
   "source": [
    "\n",
    "<p>Finally, we print the result:</p>\n"
   ]
  },
  {
   "cell_type": "code",
   "execution_count": null,
   "metadata": {
    "collapsed": true
   },
   "outputs": [],
   "source": [
    "print(\"The average of\", num1, \"and\", num2, \"is\", average)"
   ]
  },
  {
   "cell_type": "markdown",
   "metadata": {},
   "source": [
    "\n",
    "<p>Earlier, we wrote a function named <code>pounds_to_kg</code> to convert a weight in pounds to kilograms.  Now, we want to write a program, where we ask the user of our program to enter a weight pounds, convert the weight to kilograms, and display the weight in kilograms to the user.</p>\n"
   ]
  },
  {
   "cell_type": "markdown",
   "metadata": {},
   "source": [
    "\n",
    "<p>Next, we computer the average of the two numbers, but we first need to convert them from <code>str</code> to <code>float</code>:</p>\n"
   ]
  },
  {
   "cell_type": "markdown",
   "metadata": {},
   "source": [
    "\n",
    "<h3 id=\"Practice-Exercise:-Program-to-convert-pounds-to-kilograms\">Practice Exercise: Program to convert pounds to kilograms<a class=\"anchor-link\" href=\"#Practice-Exercise:-Program-to-convert-pounds-to-kilograms\"></a></h3>\n",
    "<p>Practice exercises are done in the IDE we will use in the course: <b>Spyder</b>. If you don't know how to use it ask your teacher for instructions</p>\n"
   ]
  },
  {
   "cell_type": "markdown",
   "metadata": {},
   "source": [
    "\n",
    "<p>Earlier, you wrote a function that takes a weight in pounds and returns that weight in kilograms.  In a file named <code>weight.py</code>, write a program that:</p>\n",
    "<ul>\n",
    "<li>prompts the user to enter a weight in pounds,</li>\n",
    "<li>converts that weight to kilograms, and</li>\n",
    "<li>prints the weight in kilograms.</li>\n",
    "</ul>\n",
    "\n",
    "<em>Once you've finished (and tested that works) upload it to the online platform.</em>\n"
   ]
  },
  {
   "cell_type": "markdown",
   "metadata": {},
   "source": [
    "---\n",
    "<h2 id=\"Lists,-Loops-and-range\">Section 7: Lists, Loops and <code>range</code><a class=\"anchor-link\" href=\"#Lists,-Loops-and-range\"></a></h2>\n"
   ]
  },
  {
   "cell_type": "markdown",
   "metadata": {},
   "source": [
    "\n",
    "<p>We can store collections of data, using Python's type <code>list</code>.</p>\n",
    "<p>For example, here are the average gross annual earnings for anesthesiologists, ophthalmologists, cardiologists, pediatricians, and family doctors, respectively (from <a href=\"https://www.cma.ca/Assets/assets-library/document/en/advocacy/Anesthesiology-e.pdf\">https://www.cma.ca/Assets/assets-library/document/en/advocacy/Anesthesiology-e.pdf</a> and similar sources on cma.ca).</p>\n",
    "<ul>\n",
    "<li>361,681  </li>\n",
    "<li>740,741</li>\n",
    "<li>396,105</li>\n",
    "<li>284,600   </li>\n",
    "<li>249,154  </li>\n",
    "</ul>\n",
    "<p>The general form of a list is:</p>\n",
    "<p><em>[expression1, expression2, ..., expressionN]</em></p>\n",
    "<p>We can store the data in Python as follows:</p>\n"
   ]
  },
  {
   "cell_type": "code",
   "execution_count": null,
   "metadata": {
    "collapsed": true
   },
   "outputs": [],
   "source": [
    "gross_earnings = [361681, 740741, 396105,  284600, 249154]"
   ]
  },
  {
   "cell_type": "markdown",
   "metadata": {},
   "source": [
    "\n",
    "<p>We enclose the data in square brackets, and <em>items</em> of the list (also called <em>elements</em>) are separated by commas. We access an element using its <em>index</em> -- the order of the element in the list, <strong>starting from 0</strong>.</p>\n"
   ]
  },
  {
   "cell_type": "code",
   "execution_count": null,
   "metadata": {
    "collapsed": true
   },
   "outputs": [],
   "source": [
    "gross_earnings[0]"
   ]
  },
  {
   "cell_type": "code",
   "execution_count": null,
   "metadata": {
    "collapsed": true
   },
   "outputs": [],
   "source": [
    "gross_earnings[1]"
   ]
  },
  {
   "cell_type": "code",
   "execution_count": null,
   "metadata": {
    "collapsed": true
   },
   "outputs": [],
   "source": [
    "gross_earnings[4]"
   ]
  },
  {
   "cell_type": "markdown",
   "metadata": {},
   "source": [
    "\n",
    "<p>Note that, since there are 5 elements in the list and we start counting from 0, we only have indices 0, 1, 2, 3, and 4. The following produces an error:</p>\n"
   ]
  },
  {
   "cell_type": "code",
   "execution_count": null,
   "metadata": {
    "collapsed": true
   },
   "outputs": [],
   "source": [
    "gross_earnings[5]"
   ]
  },
  {
   "cell_type": "markdown",
   "metadata": {},
   "source": [
    "\n",
    "<p>The expression <code>gross_earnings[2]</code> gives a <code>float</code> value, so you can use the expression <code>gross_earnings[2]</code> anywhere that you can use a float. For example:</p>\n"
   ]
  },
  {
   "cell_type": "code",
   "execution_count": null,
   "metadata": {
    "collapsed": true
   },
   "outputs": [],
   "source": [
    "0.6 * (gross_earnings[2] + 500)"
   ]
  },
  {
   "cell_type": "markdown",
   "metadata": {},
   "source": [
    "\n",
    "<p>You can access an element of a list, by using a variable to represent the index:</p>\n"
   ]
  },
  {
   "cell_type": "code",
   "execution_count": null,
   "metadata": {
    "collapsed": true
   },
   "outputs": [],
   "source": [
    "i = 2\n",
    "gross_earnings[i]"
   ]
  },
  {
   "cell_type": "markdown",
   "metadata": {},
   "source": [
    "\n",
    "<p>The variable name <code>i</code> is commonly used when the variable represents an index.</p>\n"
   ]
  },
  {
   "cell_type": "markdown",
   "metadata": {},
   "source": [
    "\n",
    "<h3 id=\"Functions-and-operations-on-lists\">Functions and operations on lists<a class=\"anchor-link\" href=\"#Functions-and-operations-on-lists\"></a></h3><p>As we did for objects of type <code>str</code>, we can obtain the length of a list using Python's function <code>len</code>.</p>\n"
   ]
  },
  {
   "cell_type": "code",
   "execution_count": null,
   "metadata": {
    "collapsed": true
   },
   "outputs": [],
   "source": [
    "len(gross_earnings)"
   ]
  },
  {
   "cell_type": "markdown",
   "metadata": {},
   "source": [
    "\n",
    "<p>The function call produced 5, because there are five elements in the list that <code>gross_earnings</code> refers to.</p>\n",
    "<p>Since the list has 5 elements, the valid indexes into the list are 0, 1, 2, 3, and 4.  In general, the last index is equal to the length of the list minus one:</p>\n"
   ]
  },
  {
   "cell_type": "code",
   "execution_count": null,
   "metadata": {
    "collapsed": true
   },
   "outputs": [],
   "source": [
    "gross_earnings[len(gross_earnings) - 1]"
   ]
  },
  {
   "cell_type": "markdown",
   "metadata": {},
   "source": [
    "\n",
    "<p>Here is another example of using <code>len</code> to calculate the last index and to access the last element in the list:</p>\n"
   ]
  },
  {
   "cell_type": "code",
   "execution_count": null,
   "metadata": {
    "collapsed": true
   },
   "outputs": [],
   "source": [
    "L = [4, 5, 6]\n",
    "print(\"Length of L:\", len(L))\n",
    "print(\"The index of the last element of L:\", len(L)-1)\n",
    "print(\"The last element of L:\", L[len(L)-1])"
   ]
  },
  {
   "cell_type": "markdown",
   "metadata": {},
   "source": [
    "\n",
    "<p>Alternatively, we can use negative indexes to access the elements of a list, with index -1 corresponding with the right-most element:</p>\n"
   ]
  },
  {
   "cell_type": "code",
   "execution_count": null,
   "metadata": {
    "collapsed": true
   },
   "outputs": [],
   "source": [
    "print(L[-1])  # same as L[len(L)-1]\n",
    "print(L[-2])  # same as L[len(L)-2]"
   ]
  },
  {
   "cell_type": "markdown",
   "metadata": {},
   "source": [
    "\n",
    "<p>There are several other functions that can take lists as arguments, including <code>min</code>, <code>max</code>, and <code>sum</code>:</p>\n"
   ]
  },
  {
   "cell_type": "code",
   "execution_count": null,
   "metadata": {
    "collapsed": true
   },
   "outputs": [],
   "source": [
    "values = [5.4, 6, 3.2, 8.1, 11]\n",
    "print(min(values))\n",
    "print(max(values))\n",
    "print(sum(values))"
   ]
  },
  {
   "cell_type": "markdown",
   "metadata": {},
   "source": [
    "\n",
    "<p>We can also use the operator <code>in</code> to check whether an object is an item in a list:</p>\n"
   ]
  },
  {
   "cell_type": "code",
   "execution_count": null,
   "metadata": {
    "collapsed": true
   },
   "outputs": [],
   "source": [
    "heart_rates = [78, 85, 90, 100, 97]\n",
    "85 in heart_rates"
   ]
  },
  {
   "cell_type": "code",
   "execution_count": null,
   "metadata": {
    "collapsed": true
   },
   "outputs": [],
   "source": [
    "95 in heart_rates"
   ]
  },
  {
   "cell_type": "markdown",
   "metadata": {},
   "source": [
    "---\n",
    "## Section 8: More string operation methods\n",
    "<p>Doing fancy stuff with strings.</p>\n"
   ]
  },
  {
   "cell_type": "markdown",
   "metadata": {},
   "source": [
    "\n",
    "<h3 id=\"More-str-operations-and-methods\">More <code>str</code> operations and methods<a class=\"anchor-link\" href=\"#More-str-operations-and-methods\">¶</a></h3>\n"
   ]
  },
  {
   "cell_type": "markdown",
   "metadata": {},
   "source": [
    "\n",
    "<h4 id=\"Escape-sequences\">Escape sequences<a class=\"anchor-link\" href=\"#Escape-sequences\">¶</a></h4>\n"
   ]
  },
  {
   "cell_type": "markdown",
   "metadata": {},
   "source": [
    "\n",
    "<p>When working with multi-line strings, you learned about the newline character: <code>'\\n'</code>.</p>\n"
   ]
  },
  {
   "cell_type": "code",
   "execution_count": null,
   "metadata": {
    "collapsed": true
   },
   "outputs": [],
   "source": [
    "s = \"\"\"Line one,\n",
    "line two,\n",
    "line three.\"\"\""
   ]
  },
  {
   "cell_type": "code",
   "execution_count": null,
   "metadata": {
    "collapsed": true
   },
   "outputs": [],
   "source": [
    "s"
   ]
  },
  {
   "cell_type": "markdown",
   "metadata": {},
   "source": [
    "\n",
    "<p>The backslash character, <code>\\</code>, is called the <em>escape character</em>.  It can be combined with other characters to form <em>escape sequences</em>.  For example, if we want to include a single quote inside a single-quoted string, we use the escape character:</p>\n"
   ]
  },
  {
   "cell_type": "code",
   "execution_count": null,
   "metadata": {
    "collapsed": true
   },
   "outputs": [],
   "source": [
    "# A failed attempt to include a single quote within a single-quoted string:\n",
    "'can't'"
   ]
  },
  {
   "cell_type": "markdown",
   "metadata": {},
   "source": [
    "\n",
    "<p>Now, we use the escape character to to indicate that the quote is a character within the string, not part of the strings opening/closing quotation marks:</p>\n"
   ]
  },
  {
   "cell_type": "code",
   "execution_count": null,
   "metadata": {
    "collapsed": true
   },
   "outputs": [],
   "source": [
    "'can\\'t'"
   ]
  },
  {
   "cell_type": "markdown",
   "metadata": {},
   "source": [
    "\n",
    "<p>As we see above, we can use double-quotes to include single-quotes in a string, without using the escape character.  We can do the same with the types of quotes swapped:</p>\n"
   ]
  },
  {
   "cell_type": "code",
   "execution_count": null,
   "metadata": {
    "collapsed": true
   },
   "outputs": [],
   "source": [
    "'He said, \"I will be there soon\".'"
   ]
  },
  {
   "cell_type": "code",
   "execution_count": null,
   "metadata": {
    "collapsed": true
   },
   "outputs": [],
   "source": [
    "\"He said, \\\"I will be there soon\\\".\""
   ]
  },
  {
   "cell_type": "markdown",
   "metadata": {},
   "source": [
    "\n",
    "<p>Here is a summary of the escape sequences that we will use most:</p>\n",
    "<ul>\n",
    "<li><code>\\'</code>: single quote</li>\n",
    "<li><code>\\\"</code>: double quote</li>\n",
    "<li><code>\\\\</code>: backslash</li>\n",
    "<li><code>\\n</code>: newline</li>\n",
    "<li><code>\\t</code>: tab</li>\n",
    "</ul>\n"
   ]
  },
  {
   "cell_type": "markdown",
   "metadata": {},
   "source": [
    "\n",
    "<h3 id=\"String-functions-and-operations\">String functions and operations<a class=\"anchor-link\" href=\"#String-functions-and-operations\">¶</a></h3>"
   ]
  },
  {
   "cell_type": "markdown",
   "metadata": {},
   "source": [
    "\n",
    "<p>A string represents a sequence of characters.  A string has a length and we can find out the length using built-in method <code>len</code>:</p>\n"
   ]
  },
  {
   "cell_type": "code",
   "execution_count": null,
   "metadata": {
    "collapsed": true
   },
   "outputs": [],
   "source": [
    "len('happy')"
   ]
  },
  {
   "cell_type": "markdown",
   "metadata": {},
   "source": [
    "\n",
    "<p>Although they are formed using two symbols, escape sequences count as a single character:</p>\n"
   ]
  },
  {
   "cell_type": "code",
   "execution_count": null,
   "metadata": {
    "collapsed": true
   },
   "outputs": [],
   "source": [
    "len('\\'')"
   ]
  },
  {
   "cell_type": "markdown",
   "metadata": {},
   "source": [
    "\n",
    "<p>There are also several operators that can be applied to strings, including + (concatenation):</p>\n"
   ]
  },
  {
   "cell_type": "code",
   "execution_count": null,
   "metadata": {
    "collapsed": true
   },
   "outputs": [],
   "source": [
    "'hi' + 'there'"
   ]
  },
  {
   "cell_type": "markdown",
   "metadata": {},
   "source": [
    "\n",
    "<p>Another string operator is <code>in</code>, which we use to check whether one string is a substring of another:</p>\n"
   ]
  },
  {
   "cell_type": "code",
   "execution_count": null,
   "metadata": {
    "collapsed": true
   },
   "outputs": [],
   "source": [
    "'ha' in 'happy'"
   ]
  },
  {
   "cell_type": "code",
   "execution_count": null,
   "metadata": {
    "collapsed": true
   },
   "outputs": [],
   "source": [
    "'hat' in 'happy'"
   ]
  },
  {
   "cell_type": "markdown",
   "metadata": {},
   "source": [
    "\n",
    "<p>As for numeric values, we can apply comparison operators to strings:</p>\n"
   ]
  },
  {
   "cell_type": "code",
   "execution_count": null,
   "metadata": {
    "collapsed": true
   },
   "outputs": [],
   "source": [
    "'a' == 'a'"
   ]
  },
  {
   "cell_type": "code",
   "execution_count": null,
   "metadata": {
    "collapsed": true
   },
   "outputs": [],
   "source": [
    "'a' == 'A'"
   ]
  },
  {
   "cell_type": "code",
   "execution_count": null,
   "metadata": {
    "collapsed": true
   },
   "outputs": [],
   "source": [
    "'a' != 'b'"
   ]
  },
  {
   "cell_type": "code",
   "execution_count": null,
   "metadata": {
    "collapsed": true
   },
   "outputs": [],
   "source": [
    "'A' < 'C'"
   ]
  },
  {
   "cell_type": "markdown",
   "metadata": {},
   "source": [
    "\n",
    "<h3 id=\"String-indexing\">String indexing<a class=\"anchor-link\" href=\"#String-indexing\">¶</a></h3>\n"
   ]
  },
  {
   "cell_type": "markdown",
   "metadata": {},
   "source": [
    "\n",
    "<p>Each character in the string has an index, representing its position within the string.  We start counting from 0. For example:</p>\n"
   ]
  },
  {
   "cell_type": "code",
   "execution_count": null,
   "metadata": {
    "collapsed": true
   },
   "outputs": [],
   "source": [
    "s = 'happy'"
   ]
  },
  {
   "cell_type": "code",
   "execution_count": null,
   "metadata": {
    "collapsed": true
   },
   "outputs": [],
   "source": [
    "s[0]"
   ]
  },
  {
   "cell_type": "code",
   "execution_count": null,
   "metadata": {
    "collapsed": true
   },
   "outputs": [],
   "source": [
    "s[1]"
   ]
  },
  {
   "cell_type": "code",
   "execution_count": null,
   "metadata": {
    "collapsed": true
   },
   "outputs": [],
   "source": [
    "s[2]"
   ]
  },
  {
   "cell_type": "code",
   "execution_count": null,
   "metadata": {
    "collapsed": true
   },
   "outputs": [],
   "source": [
    "s[3]"
   ]
  },
  {
   "cell_type": "code",
   "execution_count": null,
   "metadata": {
    "collapsed": true
   },
   "outputs": [],
   "source": [
    "s[4]"
   ]
  },
  {
   "cell_type": "markdown",
   "metadata": {},
   "source": [
    "\n",
    "<p>If we try to access an index that doesn't exist, an error occurs:</p>\n"
   ]
  },
  {
   "cell_type": "code",
   "execution_count": null,
   "metadata": {
    "collapsed": true
   },
   "outputs": [],
   "source": [
    "s[5]"
   ]
  },
  {
   "cell_type": "code",
   "execution_count": null,
   "metadata": {
    "collapsed": true
   },
   "outputs": [],
   "source": [
    "s[12]"
   ]
  },
  {
   "cell_type": "markdown",
   "metadata": {},
   "source": [
    "\n",
    "<h3 id=\"Negative-indexes\">Negative indexes<a class=\"anchor-link\" href=\"#Negative-indexes\">¶</a></h3><p>An alternative to counting from 0 from left-to-right, is to count from -1 from right-to-left:</p>\n"
   ]
  },
  {
   "cell_type": "code",
   "execution_count": null,
   "metadata": {
    "collapsed": true
   },
   "outputs": [],
   "source": [
    "s[-1]"
   ]
  },
  {
   "cell_type": "code",
   "execution_count": null,
   "metadata": {
    "collapsed": true
   },
   "outputs": [],
   "source": [
    "s[-2]"
   ]
  },
  {
   "cell_type": "code",
   "execution_count": null,
   "metadata": {
    "collapsed": true
   },
   "outputs": [],
   "source": [
    "s[-3]"
   ]
  },
  {
   "cell_type": "code",
   "execution_count": null,
   "metadata": {
    "collapsed": true
   },
   "outputs": [],
   "source": [
    "s[-4]"
   ]
  },
  {
   "cell_type": "code",
   "execution_count": null,
   "metadata": {
    "collapsed": true
   },
   "outputs": [],
   "source": [
    "s[-5]"
   ]
  },
  {
   "cell_type": "markdown",
   "metadata": {},
   "source": [
    "\n",
    "<p>As we saw with positive indices, an error occurs when we try to index into a string at a position that doesn't exist:</p>\n"
   ]
  },
  {
   "cell_type": "code",
   "execution_count": null,
   "metadata": {
    "collapsed": true
   },
   "outputs": [],
   "source": [
    "s[-6]"
   ]
  },
  {
   "cell_type": "markdown",
   "metadata": {},
   "source": [
    "\n",
    "<h3 id=\"String-slicing\">String slicing<a class=\"anchor-link\" href=\"#String-slicing\">¶</a></h3>\n"
   ]
  },
  {
   "cell_type": "markdown",
   "metadata": {},
   "source": [
    "\n",
    "<p>Using indexing, we can produce a new single-character string.  We can use slicing to produce new strings of 0 or more characters, by providing start and stop indices.  For example, here we take a slice from start index 2 up to but not including stop index 4:</p>\n"
   ]
  },
  {
   "cell_type": "code",
   "execution_count": null,
   "metadata": {
    "collapsed": true
   },
   "outputs": [],
   "source": [
    "'computer'[2:4]"
   ]
  },
  {
   "cell_type": "markdown",
   "metadata": {},
   "source": [
    "\n",
    "<p>Here are a few more examples using both positive and negative indices, including cases where the slice is empty:</p>\n"
   ]
  },
  {
   "cell_type": "code",
   "execution_count": null,
   "metadata": {
    "collapsed": true
   },
   "outputs": [],
   "source": [
    "'computer'[1:6]"
   ]
  },
  {
   "cell_type": "code",
   "execution_count": null,
   "metadata": {
    "collapsed": true
   },
   "outputs": [],
   "source": [
    "'computer'[3:4]"
   ]
  },
  {
   "cell_type": "code",
   "execution_count": null,
   "metadata": {
    "collapsed": true
   },
   "outputs": [],
   "source": [
    "'computer'[3:3]"
   ]
  },
  {
   "cell_type": "code",
   "execution_count": null,
   "metadata": {
    "collapsed": true
   },
   "outputs": [],
   "source": [
    "'computer'[-4:-2]"
   ]
  },
  {
   "cell_type": "code",
   "execution_count": null,
   "metadata": {
    "collapsed": true
   },
   "outputs": [],
   "source": [
    "'computer'[-2:-4]"
   ]
  },
  {
   "cell_type": "markdown",
   "metadata": {},
   "source": [
    "\n",
    "<h3 id=\"String-Methods\">String Methods<a class=\"anchor-link\" href=\"#String-Methods\">¶</a></h3>\n"
   ]
  },
  {
   "cell_type": "markdown",
   "metadata": {},
   "source": [
    "\n",
    "<p>We've seen Python's built-in functions.  In addition to those functions, each Python types can also have a set of functions defined in them called <em>methods</em>. For example, we can see the <code>str</code> methods by called <code>dir</code> on type <code>str</code> (for now, ignore the ones with underscores in their names):</p>\n"
   ]
  },
  {
   "cell_type": "code",
   "execution_count": null,
   "metadata": {
    "collapsed": true
   },
   "outputs": [],
   "source": [
    "dir(str)"
   ]
  },
  {
   "cell_type": "markdown",
   "metadata": {},
   "source": [
    "\n",
    "<p>We can then find out how to use each method, by calling <code>help</code>:</p>\n"
   ]
  },
  {
   "cell_type": "code",
   "execution_count": null,
   "metadata": {
    "collapsed": true
   },
   "outputs": [],
   "source": [
    "help(str.upper)   # Note: we use the type (str) and the method name (upper), separated by a ."
   ]
  },
  {
   "cell_type": "markdown",
   "metadata": {},
   "source": [
    "\n",
    "<p>Now we can call on the method:</p>\n"
   ]
  },
  {
   "cell_type": "code",
   "execution_count": null,
   "metadata": {
    "collapsed": true
   },
   "outputs": [],
   "source": [
    "'hello'.upper()"
   ]
  },
  {
   "cell_type": "code",
   "execution_count": null,
   "metadata": {
    "collapsed": true
   },
   "outputs": [],
   "source": [
    "'acdc'.upper()"
   ]
  },
  {
   "cell_type": "code",
   "execution_count": null,
   "metadata": {
    "collapsed": true
   },
   "outputs": [],
   "source": [
    "'c4m'.upper()"
   ]
  },
  {
   "cell_type": "markdown",
   "metadata": {},
   "source": [
    "\n",
    "<p>In place of the <code>str</code> object, we can use a variable that refers to a <code>str</code> object, such as <code>s</code>:</p>\n"
   ]
  },
  {
   "cell_type": "code",
   "execution_count": null,
   "metadata": {
    "collapsed": true
   },
   "outputs": [],
   "source": [
    "s = 'hello'\n",
    "s.upper()"
   ]
  },
  {
   "cell_type": "markdown",
   "metadata": {},
   "source": [
    "\n",
    "<p>Notice that method <code>upper</code> returned a new uppercase string, but the original <code>str</code> object is unchanged:</p>\n"
   ]
  },
  {
   "cell_type": "code",
   "execution_count": null,
   "metadata": {
    "collapsed": true
   },
   "outputs": [],
   "source": [
    "s"
   ]
  },
  {
   "cell_type": "markdown",
   "metadata": {},
   "source": [
    "\n",
    "<p>Strings are immutable, so they cannot be modified.</p>\n"
   ]
  },
  {
   "cell_type": "markdown",
   "metadata": {},
   "source": [
    "\n",
    "<h3 id=\"General-form-of-method-call\">General form of method call<a class=\"anchor-link\" href=\"#General-form-of-method-call\">¶</a></h3>\n"
   ]
  },
  {
   "cell_type": "markdown",
   "metadata": {},
   "source": [
    "\n",
    "<p>To call a method, we use this general form:</p>\n",
    "<pre><code>object.method(arguments)</code></pre>\n"
   ]
  },
  {
   "cell_type": "markdown",
   "metadata": {},
   "source": [
    "\n",
    "<p>For all <code>str</code> methods, the object on the left-hand side of the dot will always be a <code>str</code>.</p>\n"
   ]
  },
  {
   "cell_type": "markdown",
   "metadata": {},
   "source": [
    "\n",
    "<p>Notice that the string that <code>s</code> refers to hasn't changed, but calling the method <code>upper</code> on <code>s</code>, returned a new string <code>'HELLO'</code>.</p>\n"
   ]
  },
  {
   "cell_type": "markdown",
   "metadata": {},
   "source": [
    "\n",
    "<h3 id=\"Practice-Exercise:-Exploring-str-methods\">Practice Exercise: Exploring <code>str</code> methods<a class=\"anchor-link\" href=\"#Practice-Exercise:-Exploring-str-methods\">¶</a></h3>\n",
    "<p>Practice exercises are done in the IDE we will use in the course: <b>Spyder</b>. If you don't know how to use it ask your teacher for instructions</p>\n"
   ]
  },
  {
   "cell_type": "markdown",
   "metadata": {},
   "source": [
    "\n",
    "<p>Call <code>help</code> on each <code>str</code> method to learn about it and then make an educated guess as to what each of the following method calls produces.  Once you've done that, check your work by executing the method calls in the Python shell. Write the result and an explanation in the cell below.</p>\n",
    "<pre><code>robot = 'R2D2'\n",
    "\n",
    "</code></pre>\n",
    "<ol>\n",
    "<li><code>robot.isupper()</code></li>\n",
    "<li><code>robot.isalpha()</code></li>\n",
    "<li><code>robot.isalnum()</code></li>\n",
    "<li><code>robot.isdigit()</code></li>\n",
    "<li><code>robot.lower()</code></li>\n",
    "<li><code>robot.index('2')</code></li>\n",
    "<li><code>robot.index('2', 2)</code></li>\n",
    "<li><code>robot.count(2)</code></li>\n",
    "</ol>\n"
   ]
  },
  {
   "cell_type": "raw",
   "metadata": {},
   "source": [
    "Write your answers here:\n",
    "1.\n",
    "2.\n",
    "3.\n",
    "4.\n",
    "5.\n",
    "6.\n",
    "7.\n",
    "8."
   ]
  }
 ],
 "metadata": {
  "kernelspec": {
   "display_name": "Python 3",
   "language": "python",
   "name": "python3"
  },
  "language_info": {
   "codemirror_mode": {
    "name": "ipython",
    "version": 3
   },
   "file_extension": ".py",
   "mimetype": "text/x-python",
   "name": "python",
   "nbconvert_exporter": "python",
   "pygments_lexer": "ipython3",
   "version": "3.6.6"
  }
 },
 "nbformat": 4,
 "nbformat_minor": 2
}
